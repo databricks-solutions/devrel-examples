{
 "cells": [
  {
   "cell_type": "code",
   "execution_count": 0,
   "metadata": {
    "application/vnd.databricks.v1+cell": {
     "cellMetadata": {
      "byteLimit": 2048000,
      "rowLimit": 10000
     },
     "inputWidgets": {},
     "nuid": "6c825ee7-038b-4194-a661-59462dd72f79",
     "showTitle": true,
     "tableResultSettingsMap": {},
     "title": "Setup"
    }
   },
   "outputs": [],
   "source": [
    "spark.conf.set(\n",
    "  \"spark.sql.streaming.stateStore.providerClass\",\n",
    "  \"com.databricks.sql.streaming.state.RocksDBStateStoreProvider\"\n",
    ")\n",
    "\n",
    "from pyspark.sql.streaming import StatefulProcessor, StatefulProcessorHandle\n",
    "from pyspark.sql.types import *\n",
    "from pyspark.sql import Row\n",
    "from pyspark.sql.functions import explode, lit, expr, col, current_timestamp, minute, date_trunc\n",
    "import pandas as pd\n",
    "from decimal import Decimal\n",
    "from typing import Iterator\n",
    "from datetime import datetime, timedelta\n",
    "import uuid\n",
    "import time"
   ]
  },
  {
   "cell_type": "code",
   "execution_count": 0,
   "metadata": {
    "application/vnd.databricks.v1+cell": {
     "cellMetadata": {
      "byteLimit": 2048000,
      "rowLimit": 10000
     },
     "inputWidgets": {},
     "nuid": "d29c4c73-6d31-4350-a78c-570d7318fac9",
     "showTitle": true,
     "tableResultSettingsMap": {},
     "title": "Let's look at our events data"
    }
   },
   "outputs": [],
   "source": [
    "# spark streaming dataframe, events_df\n",
    "display(events_df.limit(5))"
   ]
  },
  {
   "cell_type": "code",
   "execution_count": 0,
   "metadata": {
    "application/vnd.databricks.v1+cell": {
     "cellMetadata": {
      "byteLimit": 2048000,
      "rowLimit": 10000
     },
     "inputWidgets": {},
     "nuid": "2df8932c-3e04-4bfe-930e-7d16e5dfcb1f",
     "showTitle": true,
     "tableResultSettingsMap": {},
     "title": "✨🪄✨"
    }
   },
   "outputs": [],
   "source": [
    "class EventDataTransformer(StatefulProcessor):\n",
    "    def init(self, handle: StatefulProcessorHandle) -> None:\n",
    "        ############################\n",
    "        ##### State definition #####\n",
    "        ############################\n",
    "        ### Define what we want to hold in the state, and what it will look like ###\n",
    "\n",
    "        # 🍽️ when the first item finished being prepared\n",
    "        first_ts_schema = StructType([StructField(\"first_ts\", TimestampType(), True)])\n",
    "        self.first_ts = handle.getValueState(\"first_ts\", first_ts_schema)\n",
    "\n",
    "        # 🍽️ when was the order finished cooking, keep this to establish pickup delays\n",
    "        finished_ts_schema = StructType([StructField(\"finished_ts\", TimestampType(), True)])\n",
    "        self.finished_ts = handle.getValueState(\"finished_ts\", finished_ts_schema)\n",
    "\n",
    "        # 🚗 when was the order picked up by the driver, keep this to establish pickup delays\n",
    "        pickup_ts_schema = StructType([StructField(\"pickup_ts\", TimestampType(), True)])\n",
    "        self.pickup_ts = handle.getValueState(\"pickup_ts\", finished_ts_schema)\n",
    "\n",
    "        # 🚗 the latest timestamp we have that the driver is still driving\n",
    "        delivering_schema = StructType([StructField(\"delivering_ts\", TimestampType(), True)])\n",
    "        self.delivering_ts = handle.getValueState(\"delivering_ts\", delivering_schema)\n",
    "\n",
    "        # 💸 the price of the order\n",
    "        price_schema = StructType([StructField(\"price\", DecimalType(10,2), True)])\n",
    "        self.price = handle.getValueState(\"price\", price_schema)\n",
    "\n",
    "        # 🔥 whether the order was cooked (no refunds for cold salads)\n",
    "        hot_schema = StructType([StructField(\"hot_flag\", BooleanType(), True)])\n",
    "        self.hot_flag = handle.getValueState(\"hot_flag\", hot_schema)\n",
    "\n",
    "    def handleInputRows(self, key, rows, timerValues) -> Iterator[pd.DataFrame]:\n",
    "        # 🚩 define flags\n",
    "        refund_flag = pickup_delay = driver_delay = hot_bool = False\n",
    "        # 🕣 define timestamps\n",
    "        finished_ts = pickup_ts = delivering_ts = first_ts = max_ts = min_ts = None\n",
    "        # 🔢 define decimals\n",
    "        price_dec = Decimal('NaN')\n",
    "\n",
    "        for pdf in rows: \n",
    "            ########################\n",
    "            ##### Update State #####\n",
    "            ########################\n",
    "\n",
    "            #### 🍽️ First menu item finished time ####\n",
    "            first_pdf = pdf[pdf['event_type'] == 'completed'] \n",
    "            if first_pdf.empty:\n",
    "                continue\n",
    "            #if nothing is in the state, then update it\n",
    "            elif not self.first_ts.exists():\n",
    "                first_ts = first_pdf['event_ts'].min() # technically there's only one\n",
    "                self.first_ts.update((first_ts,))            \n",
    "            # otherwise if the state is more than the latest menu item, then overwrite the state\n",
    "            elif self.first_ts.get()[0] > first_pdf['event_ts'].min():   \n",
    "                first_ts = first_pdf['event_ts'].min() \n",
    "                self.first_ts.update((first_ts,))  \n",
    "            # otherwise retrieve it from the state\n",
    "            else:\n",
    "                first_ts = self.first_ts.get()[0]                 \n",
    "            \n",
    "            #### 🍽️ Preparation finished time ####\n",
    "            # now add the finished time to the state \n",
    "            finished_pdf = pdf[pdf['event_type'] == 'finished']\n",
    "            if finished_pdf.empty:\n",
    "                continue\n",
    "            # if the finished_ts doesn't exist then update it\n",
    "            elif not self.finished_ts.exists():\n",
    "                fin_ts = finished_pdf['event_ts'].max() # technically there's only one\n",
    "                self.finished_ts.update((fin_ts,))  \n",
    "            # otherwise retrieve it from the state\n",
    "            else:\n",
    "                fin_ts = self.finished_ts.get()[0] \n",
    "\n",
    "            #### 🚗 Pickup time ####  \n",
    "            # now add the driver pickup time to the state \n",
    "            pickup_pdf = pdf[pdf['event_type'] == 'pickup']\n",
    "            if pickup_pdf.empty:\n",
    "                continue\n",
    "            # if the pickup_ts doesn't exist then update it\n",
    "            elif not self.pickup_ts.exists():\n",
    "                pu_ts = pickup_pdf['event_ts'].max() # technically there's only one\n",
    "                self.pickup_ts.update((pu_ts,))  \n",
    "            # otherwise retrieve it from the state\n",
    "            else:\n",
    "                pu_ts = self.pickup_ts.get()[0] \n",
    "\n",
    "            #### 🚗 delivering time ####  \n",
    "            # now add the driver pickup time to the state \n",
    "            delivering_pdf = pdf[pdf['event_type'] == 'delivering']\n",
    "            if delivering_pdf.empty:\n",
    "                continue\n",
    "            # if the delivering_ts doesn't exist then update it\n",
    "            elif not self.delivering_ts.exists():\n",
    "                del_ts = delivering_pdf['event_ts'].max() # we want the most recent one\n",
    "                self.delivering_ts.update((del_ts,))  \n",
    "            # prep for edge case where data is out of order and state is larger than \n",
    "            elif self.delivering_ts.get()[0] > delivering_pdf['event_ts'].max():\n",
    "                del_ts = self.delivering_ts.get()[0] \n",
    "            # otherwise update it\n",
    "            else:\n",
    "                del_ts = delivering_pdf['event_ts'].max()\n",
    "                self.delivering_ts.update((del_ts,)) \n",
    "\n",
    "            #### 💸 price ####  \n",
    "            # hold on to the price \n",
    "            order_pdf = pdf[pdf['event_type'] == 'received']\n",
    "            # if the price already exists in the state, get it\n",
    "            if self.price.exists():\n",
    "                price_dec = self.price.get()\n",
    "            # if you don't have the data to update it, continue\n",
    "            elif order_pdf.empty:\n",
    "                continue\n",
    "            # otherwise update it\n",
    "            else:\n",
    "                price_str = order_pdf['event_body'].iloc[0]\n",
    "                price_dec = Decimal(price_str.split(':')[1].strip())\n",
    "                self.price.update((price_dec,))  \n",
    "\n",
    "            #### 🔥 hot flag ####  \n",
    "            # store whether any items were cooked\n",
    "            order_temp_pdf = pdf[pdf['event_type'] == 'completed']\n",
    "            if order_temp_pdf.empty:\n",
    "                continue\n",
    "            # if the flag already exists in the state, get it\n",
    "            # overwrite it with hot flag if needed\n",
    "            elif self.hot_flag.exists():\n",
    "                hot_max = self.hot_flag.get()\n",
    "                order_temp_pdf['hot_flag'] = order_temp_pdf['event_body'].str.extract(r'hot_flag:\\s*(\\w+)')[0]\n",
    "                order_temp_pdf['hot_flag_bool'] = order_temp_pdf['hot_flag'].str.lower() == \"true\"\n",
    "                hot_bool = order_temp_pdf['hot_flag_bool'].iloc[0]\n",
    "                hot_max = max(hot_bool, hot_max)\n",
    "                self.hot_flag.update((hot_max,))\n",
    "            # otherwise update it\n",
    "            else:\n",
    "                order_temp_pdf['hot_flag'] = order_temp_pdf['event_body'].str.extract(r'hot_flag:\\s*(\\w+)')[0]\n",
    "                order_temp_pdf['hot_flag_bool'] = order_temp_pdf['hot_flag'].str.lower() == \"true\"\n",
    "                hot_max = order_temp_pdf['hot_flag_bool'].iloc[0]                \n",
    "                self.hot_flag.update((hot_max,))\n",
    "\n",
    "            ########################\n",
    "            ##### Refund Logic #####\n",
    "            ########################\n",
    "            \n",
    "            # 🥶 find if items were cooked too far apart\n",
    "            if fin_ts - first_ts > timedelta(minutes=20): \n",
    "                cooking_delay = True\n",
    "\n",
    "            # 🕣 figure out if the order was late being picked up\n",
    "            if pu_ts - fin_ts > timedelta(minutes=5):\n",
    "                pickup_delay = True\n",
    "\n",
    "            # 🕣 figure out if the driver is still driving after 45 mins\n",
    "            if del_ts - pu_ts > timedelta(minutes=45):\n",
    "                driver_delay = True\n",
    "\n",
    "            ##########################\n",
    "            ##### State eviction #####\n",
    "            ##########################\n",
    "\n",
    "            # 💸 if the customer is eligible for a refund, then purge from the state before their order arrives\n",
    "            if pickup_delay == True and driver_delay == True and price_dec >= 50 and hot_max == True:\n",
    "                refund_flag = True\n",
    "                yield pd.DataFrame([{\n",
    "                    \"order_id\": str(key[0]),          \n",
    "                    \"fin_ts\": fin_ts,         \n",
    "                    \"del_ts\": del_ts,\n",
    "                    \"price\": price_dec,\n",
    "                    \"refund\": refund_flag          \n",
    "                }])  \n",
    "\n",
    "            # 🚗 if the order has been delivered, then purge it from the state anyway        \n",
    "            elif (pdf['event_type'] == 'delivered').any():\n",
    "                refund_flag = False\n",
    "                yield pd.DataFrame([{\n",
    "                    \"order_id\": str(key[0]),         \n",
    "                    \"fin_ts\": fin_ts,         \n",
    "                    \"del_ts\": del_ts,\n",
    "                    \"price\": price_dec,\n",
    "                    \"refund\": refund_flag          \n",
    "                }])\n",
    "          \n",
    "    def close(self) -> None:\n",
    "        pass"
   ]
  },
  {
   "cell_type": "code",
   "execution_count": 0,
   "metadata": {
    "application/vnd.databricks.v1+cell": {
     "cellMetadata": {
      "byteLimit": 2048000,
      "rowLimit": 10000
     },
     "inputWidgets": {},
     "nuid": "d0cfe63b-d82c-4899-acaa-664b54671bbe",
     "showTitle": true,
     "tableResultSettingsMap": {},
     "title": "Define the output schema"
    }
   },
   "outputs": [],
   "source": [
    "output_schema = StructType([\n",
    "    StructField(\"order_id\", StringType()),\n",
    "    StructField(\"fin_ts\", TimestampType()),\n",
    "    StructField(\"del_ts\", TimestampType()),\n",
    "    StructField(\"price\", DecimalType(10,2)),\n",
    "    StructField(\"refund\", BooleanType())\n",
    "])"
   ]
  },
  {
   "cell_type": "code",
   "execution_count": 0,
   "metadata": {
    "application/vnd.databricks.v1+cell": {
     "cellMetadata": {
      "byteLimit": 2048000,
      "rowLimit": 10000
     },
     "inputWidgets": {},
     "nuid": "c95264fe-c0b9-4a6c-97be-0206c43646dd",
     "showTitle": true,
     "tableResultSettingsMap": {},
     "title": "Let's put it all together!"
    }
   },
   "outputs": [],
   "source": [
    "display(events_df\n",
    " .groupBy(\"order_id\") \n",
    " .transformWithStateInPandas(\n",
    "        EventDataTransformer(),\n",
    "        outputStructType=output_schema,\n",
    "        outputMode=\"Append\",\n",
    "        timeMode=\"None\"\n",
    "    )\n",
    " )"
   ]
  },
  {
   "cell_type": "code",
   "execution_count": 0,
   "metadata": {
    "application/vnd.databricks.v1+cell": {
     "cellMetadata": {
      "byteLimit": 2048000,
      "rowLimit": 10000
     },
     "inputWidgets": {},
     "nuid": "7898c97b-9867-42c9-b5b0-9b76c6257ca8",
     "showTitle": true,
     "tableResultSettingsMap": {},
     "title": "Visualise"
    }
   },
   "outputs": [],
   "source": [
    "display(events_df\n",
    " .groupBy(\"order_id\") \n",
    " .transformWithStateInPandas(\n",
    "        EventDataTransformer(),\n",
    "        outputStructType=output_schema,\n",
    "        outputMode=\"Append\",\n",
    "        timeMode=\"None\"\n",
    "    )\n",
    "  .filter(\"del_ts > current_timestamp() - interval 1 hour\")\n",
    " )"
   ]
  }
 ],
 "metadata": {
  "application/vnd.databricks.v1+notebook": {
   "computePreferences": null,
   "dashboards": [],
   "environmentMetadata": {
    "base_environment": "",
    "environment_version": "2"
   },
   "inputWidgetPreferences": null,
   "language": "python",
   "notebookMetadata": {
    "mostRecentlyExecutedCommandWithImplicitDF": {
     "commandId": 5353035250454098,
     "dataframes": [
      "_sqldf"
     ]
    },
    "pythonIndentUnit": 4
   },
   "notebookName": "Current LDN 2025: transformWithState",
   "widgets": {}
  },
  "language_info": {
   "name": "python"
  }
 },
 "nbformat": 4,
 "nbformat_minor": 0
}