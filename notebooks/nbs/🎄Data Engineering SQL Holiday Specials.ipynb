{
 "cells": [
  {
   "cell_type": "markdown",
   "metadata": {
    "application/vnd.databricks.v1+cell": {
     "cellMetadata": {},
     "inputWidgets": {},
     "nuid": "805ecd98-cd8d-4918-9c0f-28c38f614ca8",
     "showTitle": false,
     "tableResultSettingsMap": {},
     "title": ""
    }
   },
   "source": [
    "# Data Engineering SQL Holiday Specials\n",
    "Worked examples of new features released around the holiday season of 2024 which accompanies this blog [here](https://community.databricks.com/t5/technical-blog/data-engineering-sql-holiday-specials/ba-p/104905)\n",
    "\n",
    "\n",
    "To try and spice up what is essentially a list of features, I’ve categorised them into release stage (GA vs PuPr) as well as the Holly Smith scale of feature usefulness:\n",
    "\n",
    "### 🐳 Extra Large - 🐘 Large  - 🦩 Medium - 🦔 Small\n",
    "\n",
    "#### Requirements\n",
    "\n",
    "To run these you will need: A single user cluster of DBR 16.1.\n",
    "\n",
    "To test out every feature in its fullest you will optionally need:\n",
    "- A serverless warehouse to run statements in the SQL editor [materialised views]\n",
    "- The ability to create DLT pipelines [materialised views]\n",
    "- Your UC metastore ID and a PAToken for an admin to enable system tables [warehouse system tables]"
   ]
  },
  {
   "cell_type": "markdown",
   "metadata": {
    "application/vnd.databricks.v1+cell": {
     "cellMetadata": {},
     "inputWidgets": {},
     "nuid": "9722b52b-3c5c-4d9f-83b0-955685e3947a",
     "showTitle": true,
     "tableResultSettingsMap": {},
     "title": ""
    }
   },
   "source": [
    "### 🐘 New SQL functions"
   ]
  },
  {
   "cell_type": "code",
   "execution_count": 0,
   "metadata": {
    "application/vnd.databricks.v1+cell": {
     "cellMetadata": {
      "byteLimit": 2048000,
      "rowLimit": 10000
     },
     "inputWidgets": {},
     "nuid": "a69d0d77-0665-4a5f-85b9-88eba645a4d3",
     "showTitle": true,
     "tableResultSettingsMap": {},
     "title": "try_url_decode()"
    }
   },
   "outputs": [
    {
     "output_type": "display_data",
     "data": {
      "text/html": [
       "<style scoped>\n",
       "  .table-result-container {\n",
       "    max-height: 300px;\n",
       "    overflow: auto;\n",
       "  }\n",
       "  table, th, td {\n",
       "    border: 1px solid black;\n",
       "    border-collapse: collapse;\n",
       "  }\n",
       "  th, td {\n",
       "    padding: 5px;\n",
       "  }\n",
       "  th {\n",
       "    text-align: left;\n",
       "  }\n",
       "</style><div class='table-result-container'><table class='table-result'><thead style='background-color: white'><tr><th>decoded</th></tr></thead><tbody><tr><td>http://notebooks.databricks.com/devrel/</td></tr><tr><td>null</td></tr></tbody></table></div>"
      ]
     },
     "metadata": {
      "application/vnd.databricks.v1+output": {
       "addedWidgets": {},
       "aggData": [],
       "aggError": "",
       "aggOverflow": false,
       "aggSchema": [],
       "aggSeriesLimitReached": false,
       "aggType": "",
       "arguments": {},
       "columnCustomDisplayInfos": {},
       "data": [
        [
         "http://notebooks.databricks.com/devrel/"
        ],
        [
         null
        ]
       ],
       "datasetInfos": [],
       "dbfsResultPath": null,
       "isJsonSchema": true,
       "metadata": {
        "isDbfsCommandResult": false
       },
       "overflow": false,
       "plotOptions": {
        "customPlotOptions": {},
        "displayType": "table",
        "pivotAggregation": null,
        "pivotColumns": null,
        "xColumns": null,
        "yColumns": null
       },
       "removedWidgets": [],
       "schema": [
        {
         "metadata": "{}",
         "name": "decoded",
         "type": "\"string\""
        }
       ],
       "type": "table"
      }
     },
     "output_type": "display_data"
    }
   ],
   "source": [
    "-- takes an encoded URL and attempts to decode it\n",
    "-- encoded URLs are where characters that can't be ASCII encoded (+, ?, /, #, & etc) are replaces with a % followed by a hexidecimal number (ie where letters A-F are used as numbers after 0-9)\n",
    "-- DBR 16.0, https://docs.databricks.com/en/sql/language-manual/functions/try_url_decode.html\n",
    "\n",
    "-- this will work as it's a valid URL, and will return the decoded URL\n",
    "SELECT try_url_decode('http%3A%2F%2Fnotebooks.databricks.com%2Fdevrel%2F') as decoded\n",
    "\n",
    "UNION \n",
    "--this *won't* work as there's a missing F at the end, and will return a null value\n",
    "SELECT try_url_decode('http%3A%2F%2Fnotebooks.databricks.com%2Fdevrel%2') as decoded;"
   ]
  },
  {
   "cell_type": "code",
   "execution_count": 0,
   "metadata": {
    "application/vnd.databricks.v1+cell": {
     "cellMetadata": {
      "byteLimit": 2048000,
      "rowLimit": 10000
     },
     "inputWidgets": {},
     "nuid": "35995811-f68b-4cfc-abd5-c64d1b481e40",
     "showTitle": true,
     "tableResultSettingsMap": {},
     "title": "zeroifnull & nullifzero"
    }
   },
   "outputs": [
    {
     "output_type": "display_data",
     "data": {
      "text/html": [
       "<style scoped>\n",
       "  .table-result-container {\n",
       "    max-height: 300px;\n",
       "    overflow: auto;\n",
       "  }\n",
       "  table, th, td {\n",
       "    border: 1px solid black;\n",
       "    border-collapse: collapse;\n",
       "  }\n",
       "  th, td {\n",
       "    padding: 5px;\n",
       "  }\n",
       "  th {\n",
       "    text-align: left;\n",
       "  }\n",
       "</style><div class='table-result-container'><table class='table-result'><thead style='background-color: white'><tr><th>input</th><th>function</th><th>output</th></tr></thead><tbody><tr><td>null</td><td>zeroifnull</td><td>0</td></tr><tr><td>42</td><td>zeroifnull</td><td>42</td></tr><tr><td>0</td><td>nullifzero</td><td>null</td></tr><tr><td>42</td><td>nullifzero</td><td>42</td></tr></tbody></table></div>"
      ]
     },
     "metadata": {
      "application/vnd.databricks.v1+output": {
       "addedWidgets": {},
       "aggData": [],
       "aggError": "",
       "aggOverflow": false,
       "aggSchema": [],
       "aggSeriesLimitReached": false,
       "aggType": "",
       "arguments": {},
       "columnCustomDisplayInfos": {},
       "data": [
        [
         null,
         "zeroifnull",
         0
        ],
        [
         42,
         "zeroifnull",
         42
        ],
        [
         0,
         "nullifzero",
         null
        ],
        [
         42,
         "nullifzero",
         42
        ]
       ],
       "datasetInfos": [],
       "dbfsResultPath": null,
       "isJsonSchema": true,
       "metadata": {
        "isDbfsCommandResult": false
       },
       "overflow": false,
       "plotOptions": {
        "customPlotOptions": {},
        "displayType": "table",
        "pivotAggregation": null,
        "pivotColumns": null,
        "xColumns": null,
        "yColumns": null
       },
       "removedWidgets": [],
       "schema": [
        {
         "metadata": "{}",
         "name": "input",
         "type": "\"integer\""
        },
        {
         "metadata": "{}",
         "name": "function",
         "type": "\"string\""
        },
        {
         "metadata": "{}",
         "name": "output",
         "type": "\"integer\""
        }
       ],
       "type": "table"
      }
     },
     "output_type": "display_data"
    }
   ],
   "source": [
    "-- returns a null value if the expression is zero, and vice versa\n",
    "-- DBR 16.0, https://docs.databricks.com/en/sql/language-manual/functions/zeroifnull.html\n",
    "\n",
    "--pass zeroifnull a null and it'll return a zero\n",
    "SELECT null as input, \"zeroifnull\" as function, zeroifnull(null) as output\n",
    "\n",
    "UNION\n",
    "--pass zeroifnull a *non* null and it'll return that value\n",
    "SELECT 42 as input, \"zeroifnull\" as function, zeroifnull(42) as output\n",
    "\n",
    "UNION\n",
    "--pass nullifzero a zero and it'll return a null\n",
    "SELECT 0 as input, \"nullifzero\" as function, nullifzero(0) as output\n",
    "\n",
    "UNION\n",
    "--pass nullifzero a *non* null and it'll return that value\n",
    "SELECT 42 as input, \"nullifzero\" as function, nullifzero(42) as output"
   ]
  },
  {
   "cell_type": "code",
   "execution_count": 0,
   "metadata": {
    "application/vnd.databricks.v1+cell": {
     "cellMetadata": {
      "byteLimit": 2048000,
      "rowLimit": 10000
     },
     "inputWidgets": {},
     "nuid": "553bc183-a8bc-4633-8a00-0ebfd47a02f9",
     "showTitle": true,
     "tableResultSettingsMap": {},
     "title": "day"
    }
   },
   "outputs": [
    {
     "output_type": "display_data",
     "data": {
      "text/html": [
       "<style scoped>\n",
       "  .table-result-container {\n",
       "    max-height: 300px;\n",
       "    overflow: auto;\n",
       "  }\n",
       "  table, th, td {\n",
       "    border: 1px solid black;\n",
       "    border-collapse: collapse;\n",
       "  }\n",
       "  th, td {\n",
       "    padding: 5px;\n",
       "  }\n",
       "  th {\n",
       "    text-align: left;\n",
       "  }\n",
       "</style><div class='table-result-container'><table class='table-result'><thead style='background-color: white'><tr><th>result</th></tr></thead><tbody><tr><td>7</td></tr><tr><td>7</td></tr><tr><td>null</td></tr></tbody></table></div>"
      ]
     },
     "metadata": {
      "application/vnd.databricks.v1+output": {
       "addedWidgets": {},
       "aggData": [],
       "aggError": "",
       "aggOverflow": false,
       "aggSchema": [],
       "aggSeriesLimitReached": false,
       "aggType": "",
       "arguments": {},
       "columnCustomDisplayInfos": {},
       "data": [
        [
         7
        ],
        [
         7
        ],
        [
         null
        ]
       ],
       "datasetInfos": [],
       "dbfsResultPath": null,
       "isJsonSchema": true,
       "metadata": {
        "isDbfsCommandResult": false
       },
       "overflow": false,
       "plotOptions": {
        "customPlotOptions": {},
        "displayType": "table",
        "pivotAggregation": null,
        "pivotColumns": null,
        "xColumns": null,
        "yColumns": null
       },
       "removedWidgets": [],
       "schema": [
        {
         "metadata": "{}",
         "name": "result",
         "type": "\"integer\""
        }
       ],
       "type": "table"
      }
     },
     "output_type": "display_data"
    }
   ],
   "source": [
    "-- Returns the day of the month from a valid date expression.\n",
    "-- This is a synonym for extract(DAY FROM expr)\n",
    "-- DBR 16.1, https://docs.databricks.com/en/sql/language-manual/functions/day.html\n",
    "\n",
    "-- using the new day function\n",
    "SELECT day('2019-01-07') as result\n",
    "UNION ALL\n",
    "\n",
    "-- the old synonym\n",
    "SELECT extract(DAY FROM '2019-01-07') as result\n",
    "UNION ALL\n",
    "\n",
    "--checks for a valid date\n",
    "SELECT day('2019-02-30') as result;\n"
   ]
  },
  {
   "cell_type": "code",
   "execution_count": 0,
   "metadata": {
    "application/vnd.databricks.v1+cell": {
     "cellMetadata": {
      "byteLimit": 2048000,
      "rowLimit": 10000
     },
     "inputWidgets": {},
     "nuid": "550475b8-f96e-4d21-8fed-cb4394c7cc65",
     "showTitle": true,
     "tableResultSettingsMap": {},
     "title": "uniform"
    }
   },
   "outputs": [
    {
     "output_type": "display_data",
     "data": {
      "text/html": [
       "<style scoped>\n",
       "  .table-result-container {\n",
       "    max-height: 300px;\n",
       "    overflow: auto;\n",
       "  }\n",
       "  table, th, td {\n",
       "    border: 1px solid black;\n",
       "    border-collapse: collapse;\n",
       "  }\n",
       "  th, td {\n",
       "    padding: 5px;\n",
       "  }\n",
       "  th {\n",
       "    text-align: left;\n",
       "  }\n",
       "</style><div class='table-result-container'><table class='table-result'><thead style='background-color: white'><tr><th>random_no</th></tr></thead><tbody><tr><td>10</td></tr><tr><td>16</td></tr></tbody></table></div>"
      ]
     },
     "metadata": {
      "application/vnd.databricks.v1+output": {
       "addedWidgets": {},
       "aggData": [],
       "aggError": "",
       "aggOverflow": false,
       "aggSchema": [],
       "aggSeriesLimitReached": false,
       "aggType": "",
       "arguments": {},
       "columnCustomDisplayInfos": {},
       "data": [
        [
         10
        ],
        [
         16
        ]
       ],
       "datasetInfos": [],
       "dbfsResultPath": null,
       "isJsonSchema": true,
       "metadata": {
        "isDbfsCommandResult": false
       },
       "overflow": false,
       "plotOptions": {
        "customPlotOptions": {},
        "displayType": "table",
        "pivotAggregation": null,
        "pivotColumns": null,
        "xColumns": null,
        "yColumns": null
       },
       "removedWidgets": [],
       "schema": [
        {
         "metadata": "{}",
         "name": "random_no",
         "type": "\"integer\""
        }
       ],
       "type": "table"
      }
     },
     "output_type": "display_data"
    }
   ],
   "source": [
    "-- generates a random number between two specified values with a uniform distribution, ie even chances of getting any number \n",
    "-- there's an option to specify a seed to consistently get the same random number\n",
    "-- DBR 16.1, https://docs.databricks.com/en/sql/language-manual/functions/uniform.html\n",
    "\n",
    "-- select a random number between 10 and 20\n",
    "-- if you run this cell multiple times the number will update\n",
    "SELECT uniform(10, 20) as random_no\n",
    "UNION ALL \n",
    "\n",
    "-- select a consistently random number between 10 and 20\n",
    "-- if you run this cell multiple times the number *won't* update\n",
    "SELECT uniform(10, 20, 42) as random_no"
   ]
  },
  {
   "cell_type": "code",
   "execution_count": 0,
   "metadata": {
    "application/vnd.databricks.v1+cell": {
     "cellMetadata": {
      "byteLimit": 2048000,
      "rowLimit": 10000
     },
     "inputWidgets": {},
     "nuid": "d4626f7b-c279-40b1-a9a6-6b273dbff753",
     "showTitle": true,
     "tableResultSettingsMap": {},
     "title": "randstr"
    }
   },
   "outputs": [
    {
     "output_type": "display_data",
     "data": {
      "text/html": [
       "<style scoped>\n",
       "  .table-result-container {\n",
       "    max-height: 300px;\n",
       "    overflow: auto;\n",
       "  }\n",
       "  table, th, td {\n",
       "    border: 1px solid black;\n",
       "    border-collapse: collapse;\n",
       "  }\n",
       "  th, td {\n",
       "    padding: 5px;\n",
       "  }\n",
       "  th {\n",
       "    text-align: left;\n",
       "  }\n",
       "</style><div class='table-result-container'><table class='table-result'><thead style='background-color: white'><tr><th>random_string</th></tr></thead><tbody><tr><td>TPw2OkGx5W</td></tr><tr><td>pll6YOIJNn</td></tr></tbody></table></div>"
      ]
     },
     "metadata": {
      "application/vnd.databricks.v1+output": {
       "addedWidgets": {},
       "aggData": [],
       "aggError": "",
       "aggOverflow": false,
       "aggSchema": [],
       "aggSeriesLimitReached": false,
       "aggType": "",
       "arguments": {},
       "columnCustomDisplayInfos": {},
       "data": [
        [
         "TPw2OkGx5W"
        ],
        [
         "pll6YOIJNn"
        ]
       ],
       "datasetInfos": [],
       "dbfsResultPath": null,
       "isJsonSchema": true,
       "metadata": {
        "isDbfsCommandResult": false
       },
       "overflow": false,
       "plotOptions": {
        "customPlotOptions": {},
        "displayType": "table",
        "pivotAggregation": null,
        "pivotColumns": null,
        "xColumns": null,
        "yColumns": null
       },
       "removedWidgets": [],
       "schema": [
        {
         "metadata": "{}",
         "name": "random_string",
         "type": "\"string\""
        }
       ],
       "type": "table"
      }
     },
     "output_type": "display_data"
    }
   ],
   "source": [
    "-- returns a random string of specified length\n",
    "-- the string can contain uppercase, lowercase and numeric values \n",
    "-- there's an option to specify a seed to consistently get the same random string\n",
    "-- DBR 16.1, https://docs.databricks.com/en/sql/language-manual/functions/randstr.html\n",
    "\n",
    "-- creates a random string of length 10\n",
    "SELECT randstr(10) as random_string\n",
    "UNION ALL\n",
    "\n",
    "-- creates a consistently random string of length 10\n",
    "SELECT randstr(10, 42) as random_string;"
   ]
  },
  {
   "cell_type": "code",
   "execution_count": 0,
   "metadata": {
    "application/vnd.databricks.v1+cell": {
     "cellMetadata": {
      "byteLimit": 2048000,
      "rowLimit": 10000
     },
     "inputWidgets": {},
     "nuid": "ba42c813-6b23-446a-936f-1b79c73913bc",
     "showTitle": true,
     "tableResultSettingsMap": {},
     "title": "More named parameter invocation"
    }
   },
   "outputs": [
    {
     "output_type": "display_data",
     "data": {
      "text/html": [
       "<style scoped>\n",
       "  .table-result-container {\n",
       "    max-height: 300px;\n",
       "    overflow: auto;\n",
       "  }\n",
       "  table, th, td {\n",
       "    border: 1px solid black;\n",
       "    border-collapse: collapse;\n",
       "  }\n",
       "  th, td {\n",
       "    padding: 5px;\n",
       "  }\n",
       "  th {\n",
       "    text-align: left;\n",
       "  }\n",
       "</style><div class='table-result-container'><table class='table-result'><thead style='background-color: white'><tr><th>pos</th><th>col</th></tr></thead><tbody><tr><td>0</td><td>10</td></tr><tr><td>1</td><td>20</td></tr></tbody></table></div>"
      ]
     },
     "metadata": {
      "application/vnd.databricks.v1+output": {
       "addedWidgets": {},
       "aggData": [],
       "aggError": "",
       "aggOverflow": false,
       "aggSchema": [],
       "aggSeriesLimitReached": false,
       "aggType": "",
       "arguments": {},
       "columnCustomDisplayInfos": {},
       "data": [
        [
         0,
         10
        ],
        [
         1,
         20
        ]
       ],
       "datasetInfos": [],
       "dbfsResultPath": null,
       "isJsonSchema": true,
       "metadata": {
        "isDbfsCommandResult": false
       },
       "overflow": false,
       "plotOptions": {
        "customPlotOptions": {},
        "displayType": "table",
        "pivotAggregation": null,
        "pivotColumns": null,
        "xColumns": null,
        "yColumns": null
       },
       "removedWidgets": [],
       "schema": [
        {
         "metadata": "{}",
         "name": "pos",
         "type": "\"integer\""
        },
        {
         "metadata": "{}",
         "name": "col",
         "type": "\"integer\""
        }
       ],
       "type": "table"
      }
     },
     "output_type": "display_data"
    }
   ],
   "source": [
    "\n",
    "-- The following functions now support named parameter invocation: variant_explode, variant_explode_outer, inline, inline_outer, posexplode, posexplode_outer\n",
    "-- this means you can have flexibility in the order and improve readability\n",
    "\n",
    "--instead of this\n",
    "SELECT pos, col FROM posexplode(array(10, 20));\n",
    "\n",
    "-- you can do this\n",
    "SELECT pos, col FROM posexplode(collection => array(10, 20));\n"
   ]
  },
  {
   "cell_type": "markdown",
   "metadata": {
    "application/vnd.databricks.v1+cell": {
     "cellMetadata": {},
     "inputWidgets": {},
     "nuid": "c7b8249b-1ad6-421e-8d1b-8e566e1d84f0",
     "showTitle": false,
     "tableResultSettingsMap": {},
     "title": ""
    }
   },
   "source": [
    "### 🦩 Primary Key and Foreign Key relationship constraints"
   ]
  },
  {
   "cell_type": "code",
   "execution_count": 0,
   "metadata": {
    "application/vnd.databricks.v1+cell": {
     "cellMetadata": {
      "byteLimit": 2048000,
      "rowLimit": 10000
     },
     "inputWidgets": {},
     "nuid": "4329d454-a6a4-4e28-a538-e3d125bc4ea9",
     "showTitle": true,
     "tableResultSettingsMap": {},
     "title": "Create the table containing the Primary Key"
    }
   },
   "outputs": [
    {
     "output_type": "display_data",
     "data": {
      "text/html": [
       "<style scoped>\n",
       "  .table-result-container {\n",
       "    max-height: 300px;\n",
       "    overflow: auto;\n",
       "  }\n",
       "  table, th, td {\n",
       "    border: 1px solid black;\n",
       "    border-collapse: collapse;\n",
       "  }\n",
       "  th, td {\n",
       "    padding: 5px;\n",
       "  }\n",
       "  th {\n",
       "    text-align: left;\n",
       "  }\n",
       "</style><div class='table-result-container'><table class='table-result'><thead style='background-color: white'><tr></tr></thead><tbody></tbody></table></div>"
      ]
     },
     "metadata": {
      "application/vnd.databricks.v1+output": {
       "addedWidgets": {},
       "aggData": [],
       "aggError": "",
       "aggOverflow": false,
       "aggSchema": [],
       "aggSeriesLimitReached": false,
       "aggType": "",
       "arguments": {},
       "columnCustomDisplayInfos": {},
       "data": [],
       "datasetInfos": [],
       "dbfsResultPath": null,
       "isJsonSchema": true,
       "metadata": {
        "isDbfsCommandResult": false
       },
       "overflow": false,
       "plotOptions": {
        "customPlotOptions": {},
        "displayType": "table",
        "pivotAggregation": null,
        "pivotColumns": null,
        "xColumns": null,
        "yColumns": null
       },
       "removedWidgets": [],
       "schema": [],
       "type": "table"
      }
     },
     "output_type": "display_data"
    }
   ],
   "source": [
    "CREATE TABLE ham_types(ham_type STRING NOT NULL, is_edible BOOLEAN, --standard table definition\n",
    "                CONSTRAINT ham_key PRIMARY KEY(ham_type)); --name and define the constraint"
   ]
  },
  {
   "cell_type": "code",
   "execution_count": 0,
   "metadata": {
    "application/vnd.databricks.v1+cell": {
     "cellMetadata": {
      "byteLimit": 2048000,
      "rowLimit": 10000
     },
     "inputWidgets": {},
     "nuid": "a87e7735-b915-4efb-8246-57c310d12f54",
     "showTitle": true,
     "tableResultSettingsMap": {},
     "title": "Create the table containing the Foreign Key"
    }
   },
   "outputs": [
    {
     "output_type": "display_data",
     "data": {
      "text/html": [
       "<style scoped>\n",
       "  .table-result-container {\n",
       "    max-height: 300px;\n",
       "    overflow: auto;\n",
       "  }\n",
       "  table, th, td {\n",
       "    border: 1px solid black;\n",
       "    border-collapse: collapse;\n",
       "  }\n",
       "  th, td {\n",
       "    padding: 5px;\n",
       "  }\n",
       "  th {\n",
       "    text-align: left;\n",
       "  }\n",
       "</style><div class='table-result-container'><table class='table-result'><thead style='background-color: white'><tr></tr></thead><tbody></tbody></table></div>"
      ]
     },
     "metadata": {
      "application/vnd.databricks.v1+output": {
       "addedWidgets": {},
       "aggData": [],
       "aggError": "",
       "aggOverflow": false,
       "aggSchema": [],
       "aggSeriesLimitReached": false,
       "aggType": "",
       "arguments": {},
       "columnCustomDisplayInfos": {},
       "data": [],
       "datasetInfos": [],
       "dbfsResultPath": null,
       "isJsonSchema": true,
       "metadata": {
        "isDbfsCommandResult": false
       },
       "overflow": false,
       "plotOptions": {
        "customPlotOptions": {},
        "displayType": "table",
        "pivotAggregation": null,
        "pivotColumns": null,
        "xColumns": null,
        "yColumns": null
       },
       "removedWidgets": [],
       "schema": [],
       "type": "table"
      }
     },
     "output_type": "display_data"
    }
   ],
   "source": [
    "CREATE TABLE sandwich_feasibility(ham_type STRING NOT NULL, is_feasible BOOLEAN,\n",
    "                CONSTRAINT ham_sandwich_key FOREIGN KEY(ham_type) REFERENCES ham_types);"
   ]
  },
  {
   "cell_type": "code",
   "execution_count": 0,
   "metadata": {
    "application/vnd.databricks.v1+cell": {
     "cellMetadata": {
      "byteLimit": 2048000,
      "rowLimit": 10000
     },
     "inputWidgets": {},
     "nuid": "24528d55-1b32-4754-9161-eb05d966ec4b",
     "showTitle": false,
     "tableResultSettingsMap": {},
     "title": ""
    }
   },
   "outputs": [
    {
     "output_type": "display_data",
     "data": {
      "text/html": [
       "<style scoped>\n",
       "  .table-result-container {\n",
       "    max-height: 300px;\n",
       "    overflow: auto;\n",
       "  }\n",
       "  table, th, td {\n",
       "    border: 1px solid black;\n",
       "    border-collapse: collapse;\n",
       "  }\n",
       "  th, td {\n",
       "    padding: 5px;\n",
       "  }\n",
       "  th {\n",
       "    text-align: left;\n",
       "  }\n",
       "</style><div class='table-result-container'><table class='table-result'><thead style='background-color: white'><tr><th>constraint_catalog</th><th>constraint_schema</th><th>constraint_name</th><th>table_catalog</th><th>table_schema</th><th>table_name</th><th>column_name</th><th>ordinal_position</th><th>position_in_unique_constraint</th></tr></thead><tbody><tr><td>shared</td><td>default</td><td>ham_sandwich_key</td><td>shared</td><td>default</td><td>sandwich_feasibility</td><td>ham_type</td><td>1</td><td>1</td></tr><tr><td>shared</td><td>default</td><td>ham_key</td><td>shared</td><td>default</td><td>ham_types</td><td>ham_type</td><td>1</td><td>null</td></tr></tbody></table></div>"
      ]
     },
     "metadata": {
      "application/vnd.databricks.v1+output": {
       "addedWidgets": {},
       "aggData": [],
       "aggError": "",
       "aggOverflow": false,
       "aggSchema": [],
       "aggSeriesLimitReached": false,
       "aggType": "",
       "arguments": {},
       "columnCustomDisplayInfos": {},
       "data": [
        [
         "shared",
         "default",
         "ham_sandwich_key",
         "shared",
         "default",
         "sandwich_feasibility",
         "ham_type",
         1,
         1
        ],
        [
         "shared",
         "default",
         "ham_key",
         "shared",
         "default",
         "ham_types",
         "ham_type",
         1,
         null
        ]
       ],
       "datasetInfos": [],
       "dbfsResultPath": null,
       "isJsonSchema": true,
       "metadata": {
        "isDbfsCommandResult": false
       },
       "overflow": false,
       "plotOptions": {
        "customPlotOptions": {},
        "displayType": "table",
        "pivotAggregation": null,
        "pivotColumns": null,
        "xColumns": null,
        "yColumns": null
       },
       "removedWidgets": [],
       "schema": [
        {
         "metadata": "{\"comment\":\"Catalog containing the constraint.\"}",
         "name": "constraint_catalog",
         "type": "\"string\""
        },
        {
         "metadata": "{\"comment\":\"Schema containing the constraint.\"}",
         "name": "constraint_schema",
         "type": "\"string\""
        },
        {
         "metadata": "{\"comment\":\"Name of the constraint.\"}",
         "name": "constraint_name",
         "type": "\"string\""
        },
        {
         "metadata": "{\"comment\":\"Catalog containing the table.\"}",
         "name": "table_catalog",
         "type": "\"string\""
        },
        {
         "metadata": "{\"comment\":\"Schema containing the table.\"}",
         "name": "table_schema",
         "type": "\"string\""
        },
        {
         "metadata": "{\"comment\":\"Name of the table in which the constraint is defined.\"}",
         "name": "table_name",
         "type": "\"string\""
        },
        {
         "metadata": "{\"comment\":\"Name of the column.\"}",
         "name": "column_name",
         "type": "\"string\""
        },
        {
         "metadata": "{\"comment\":\"Position (1-based) of the column in the key.\"}",
         "name": "ordinal_position",
         "type": "\"integer\""
        },
        {
         "metadata": "{\"comment\":\"For foreign key, position (1-based) of the column in parent unique or primary key constraint, NULL otherwise.\"}",
         "name": "position_in_unique_constraint",
         "type": "\"integer\""
        }
       ],
       "type": "table"
      }
     },
     "output_type": "display_data"
    }
   ],
   "source": [
    "select * from  information_schema.key_column_usage\n",
    "where constraint_name in ('ham_key','ham_sandwich_key');"
   ]
  },
  {
   "cell_type": "markdown",
   "metadata": {
    "application/vnd.databricks.v1+cell": {
     "cellMetadata": {},
     "inputWidgets": {},
     "nuid": "9b778c4d-2f06-43f4-8822-0cbffb4ac141",
     "showTitle": false,
     "tableResultSettingsMap": {},
     "title": ""
    }
   },
   "source": [
    "### 🦩 Structured Streaming and liquid clustering compatibility improvements"
   ]
  },
  {
   "cell_type": "code",
   "execution_count": 0,
   "metadata": {
    "application/vnd.databricks.v1+cell": {
     "cellMetadata": {
      "byteLimit": 2048000,
      "rowLimit": 10000
     },
     "inputWidgets": {},
     "nuid": "8286e89b-cee4-4e4e-b551-14e0d1a5a500",
     "showTitle": true,
     "tableResultSettingsMap": {},
     "title": "cluster data within streaming statements at creation point"
    }
   },
   "outputs": [
    {
     "output_type": "execute_result",
     "data": {
      "text/plain": [
       "<pyspark.sql.streaming.query.StreamingQuery at 0x7f1992964e90>"
      ]
     },
     "execution_count": 21,
     "metadata": {},
     "output_type": "execute_result"
    }
   ],
   "source": [
    "%python\n",
    "(spark.readStream.format(\"rate\") # generate some random data of timestamps and a value\n",
    "  .load()\n",
    "  .writeStream \n",
    "  .clusterBy(\"timestamp\") # <- this bit is new and now possible \n",
    "  .option(\"checkpointLocation\", \"dbfs:/tmp/checkpoint/random_numbers\")\n",
    "  .trigger(once=True)  # let's not have this run forever\n",
    "  .toTable(\"random_numbers\") # new table created as part of this syntax\n",
    ")"
   ]
  },
  {
   "cell_type": "code",
   "execution_count": 0,
   "metadata": {
    "application/vnd.databricks.v1+cell": {
     "cellMetadata": {
      "byteLimit": 2048000,
      "rowLimit": 10000
     },
     "inputWidgets": {},
     "nuid": "4a5076e1-3345-4e28-8d37-ce1cd6cc73b3",
     "showTitle": true,
     "tableResultSettingsMap": {},
     "title": "validate the clustering has been applied"
    }
   },
   "outputs": [
    {
     "output_type": "display_data",
     "data": {
      "text/html": [
       "<style scoped>\n",
       "  .table-result-container {\n",
       "    max-height: 300px;\n",
       "    overflow: auto;\n",
       "  }\n",
       "  table, th, td {\n",
       "    border: 1px solid black;\n",
       "    border-collapse: collapse;\n",
       "  }\n",
       "  th, td {\n",
       "    padding: 5px;\n",
       "  }\n",
       "  th {\n",
       "    text-align: left;\n",
       "  }\n",
       "</style><div class='table-result-container'><table class='table-result'><thead style='background-color: white'><tr><th>col_name</th><th>data_type</th><th>comment</th></tr></thead><tbody><tr><td>timestamp</td><td>timestamp</td><td>null</td></tr><tr><td>value</td><td>bigint</td><td>null</td></tr><tr><td># Clustering Information</td><td></td><td></td></tr><tr><td># col_name</td><td>data_type</td><td>comment</td></tr><tr><td>timestamp</td><td>timestamp</td><td>null</td></tr><tr><td></td><td></td><td></td></tr><tr><td># Delta Statistics Columns</td><td></td><td></td></tr><tr><td>Column Names</td><td>timestamp, value</td><td></td></tr><tr><td>Column Selection Method</td><td>first-32</td><td></td></tr><tr><td></td><td></td><td></td></tr><tr><td># Detailed Table Information</td><td></td><td></td></tr><tr><td>Catalog</td><td>shared</td><td></td></tr><tr><td>Database</td><td>default</td><td></td></tr><tr><td>Table</td><td>random_numbers</td><td></td></tr><tr><td>Created Time</td><td>Thu Jan 09 10:06:43 UTC 2025</td><td></td></tr><tr><td>Last Access</td><td>UNKNOWN</td><td></td></tr><tr><td>Created By</td><td>Spark </td><td></td></tr><tr><td>Type</td><td>MANAGED</td><td></td></tr><tr><td>Location</td><td>s3://databricks-devrel/unity-catalog/556849771150522/__unitystorage/catalogs/5af9d1b9-ce84-4845-a5f7-3a0ab902e978/tables/7919975b-c13a-4995-ba7b-ccfda121c61e</td><td></td></tr><tr><td>Provider</td><td>delta</td><td></td></tr><tr><td>Owner</td><td>holly.smith@databricks.com</td><td></td></tr><tr><td>Is_managed_location</td><td>true</td><td></td></tr><tr><td>Predictive Optimization</td><td>ENABLE (inherited from METASTORE metastore_aws_us_west_2)</td><td></td></tr><tr><td>Table Properties</td><td>[clusteringColumns=[[\"timestamp\"]],delta.checkpointPolicy=v2,delta.enableDeletionVectors=true,delta.enableRowTracking=true,delta.feature.appendOnly=supported,delta.feature.clustering=supported,delta.feature.deletionVectors=supported,delta.feature.domainMetadata=supported,delta.feature.invariants=supported,delta.feature.rowTracking=supported,delta.feature.v2Checkpoint=supported,delta.minReaderVersion=3,delta.minWriterVersion=7,delta.rowTracking.materializedRowCommitVersionColumnName=_row-commit-version-col-0edb6827-803c-450f-b73b-1652fe05801e,delta.rowTracking.materializedRowIdColumnName=_row-id-col-a162077e-a282-4f39-8c9e-197ef9fa8a59]</td><td></td></tr></tbody></table></div>"
      ]
     },
     "metadata": {
      "application/vnd.databricks.v1+output": {
       "addedWidgets": {},
       "aggData": [],
       "aggError": "",
       "aggOverflow": false,
       "aggSchema": [],
       "aggSeriesLimitReached": false,
       "aggType": "",
       "arguments": {},
       "columnCustomDisplayInfos": {},
       "data": [
        [
         "timestamp",
         "timestamp",
         null
        ],
        [
         "value",
         "bigint",
         null
        ],
        [
         "# Clustering Information",
         "",
         ""
        ],
        [
         "# col_name",
         "data_type",
         "comment"
        ],
        [
         "timestamp",
         "timestamp",
         null
        ],
        [
         "",
         "",
         ""
        ],
        [
         "# Delta Statistics Columns",
         "",
         ""
        ],
        [
         "Column Names",
         "timestamp, value",
         ""
        ],
        [
         "Column Selection Method",
         "first-32",
         ""
        ],
        [
         "",
         "",
         ""
        ],
        [
         "# Detailed Table Information",
         "",
         ""
        ],
        [
         "Catalog",
         "shared",
         ""
        ],
        [
         "Database",
         "default",
         ""
        ],
        [
         "Table",
         "random_numbers",
         ""
        ],
        [
         "Created Time",
         "Thu Jan 09 10:06:43 UTC 2025",
         ""
        ],
        [
         "Last Access",
         "UNKNOWN",
         ""
        ],
        [
         "Created By",
         "Spark ",
         ""
        ],
        [
         "Type",
         "MANAGED",
         ""
        ],
        [
         "Location",
         "s3://databricks-devrel/unity-catalog/556849771150522/__unitystorage/catalogs/5af9d1b9-ce84-4845-a5f7-3a0ab902e978/tables/7919975b-c13a-4995-ba7b-ccfda121c61e",
         ""
        ],
        [
         "Provider",
         "delta",
         ""
        ],
        [
         "Owner",
         "holly.smith@databricks.com",
         ""
        ],
        [
         "Is_managed_location",
         "true",
         ""
        ],
        [
         "Predictive Optimization",
         "ENABLE (inherited from METASTORE metastore_aws_us_west_2)",
         ""
        ],
        [
         "Table Properties",
         "[clusteringColumns=[[\"timestamp\"]],delta.checkpointPolicy=v2,delta.enableDeletionVectors=true,delta.enableRowTracking=true,delta.feature.appendOnly=supported,delta.feature.clustering=supported,delta.feature.deletionVectors=supported,delta.feature.domainMetadata=supported,delta.feature.invariants=supported,delta.feature.rowTracking=supported,delta.feature.v2Checkpoint=supported,delta.minReaderVersion=3,delta.minWriterVersion=7,delta.rowTracking.materializedRowCommitVersionColumnName=_row-commit-version-col-0edb6827-803c-450f-b73b-1652fe05801e,delta.rowTracking.materializedRowIdColumnName=_row-id-col-a162077e-a282-4f39-8c9e-197ef9fa8a59]",
         ""
        ]
       ],
       "datasetInfos": [],
       "dbfsResultPath": null,
       "isJsonSchema": true,
       "metadata": {
        "isDbfsCommandResult": false
       },
       "overflow": false,
       "plotOptions": {
        "customPlotOptions": {},
        "displayType": "table",
        "pivotAggregation": null,
        "pivotColumns": null,
        "xColumns": null,
        "yColumns": null
       },
       "removedWidgets": [],
       "schema": [
        {
         "metadata": "{\"comment\":\"name of the column\"}",
         "name": "col_name",
         "type": "\"string\""
        },
        {
         "metadata": "{\"comment\":\"data type of the column\"}",
         "name": "data_type",
         "type": "\"string\""
        },
        {
         "metadata": "{\"comment\":\"comment of the column\"}",
         "name": "comment",
         "type": "\"string\""
        }
       ],
       "type": "table"
      }
     },
     "output_type": "display_data"
    }
   ],
   "source": [
    "describe extended random_numbers --check out rows 3-5, 24"
   ]
  },
  {
   "cell_type": "markdown",
   "metadata": {
    "application/vnd.databricks.v1+cell": {
     "cellMetadata": {},
     "inputWidgets": {},
     "nuid": "60e34aaf-e11c-4649-96ac-f0f3ef9d8f03",
     "showTitle": false,
     "tableResultSettingsMap": {},
     "title": ""
    }
   },
   "source": [
    "### 🐘 Warehouse system tables"
   ]
  },
  {
   "cell_type": "code",
   "execution_count": 0,
   "metadata": {
    "application/vnd.databricks.v1+cell": {
     "cellMetadata": {},
     "inputWidgets": {},
     "nuid": "747331e3-a7be-4fa6-b729-b33daaf38969",
     "showTitle": true,
     "tableResultSettingsMap": {},
     "title": "enable system tables for compute"
    }
   },
   "outputs": [],
   "source": [
    "%sh\n",
    "curl -v -X PUT -H \"Authorization: Bearer <Developer Access Token>\" \"https://<your workspace url>.cloud.databricks.com/api/2.0/unity-catalog/metastores/<metastore id found in UC>/systemschemas/compute\""
   ]
  },
  {
   "cell_type": "code",
   "execution_count": 0,
   "metadata": {
    "application/vnd.databricks.v1+cell": {
     "cellMetadata": {
      "byteLimit": 2048000,
      "rowLimit": 10000
     },
     "inputWidgets": {},
     "nuid": "52eb6c6e-9deb-4043-87ee-828ce0ef401b",
     "showTitle": false,
     "tableResultSettingsMap": {},
     "title": ""
    }
   },
   "outputs": [],
   "source": [
    "select * from system.compute.warehouses\n",
    "--sorry removing this result for sensitive data\n",
    "--but just imagine the best practices you've ever seen"
   ]
  },
  {
   "cell_type": "markdown",
   "metadata": {
    "application/vnd.databricks.v1+cell": {
     "cellMetadata": {},
     "inputWidgets": {},
     "nuid": "08136e4b-bdf2-4e3c-b377-bf7434daedbd",
     "showTitle": false,
     "tableResultSettingsMap": {},
     "title": ""
    }
   },
   "source": [
    "### 🐘 Materialised View Updates\n",
    "To schedule these awe inspiring examples of MVs, move them to the SQL editor otherwise DLT will try and run everything in this notebook"
   ]
  },
  {
   "cell_type": "code",
   "execution_count": 0,
   "metadata": {
    "application/vnd.databricks.v1+cell": {
     "cellMetadata": {
      "byteLimit": 2048000,
      "rowLimit": 10000
     },
     "inputWidgets": {},
     "nuid": "d58fb186-c430-4661-ba02-098c49d6fe25",
     "showTitle": true,
     "tableResultSettingsMap": {},
     "title": "Use the new refresh syntax"
    }
   },
   "outputs": [
    {
     "output_type": "display_data",
     "data": {
      "text/html": [
       "\n",
       "<html>\n",
       "  <style>\n",
       "<style>\n",
       "      html {\n",
       "        font-family: -apple-system,BlinkMacSystemFont,Segoe UI,Roboto,Helvetica Neue,Arial,\n",
       "        Noto Sans,sans-serif,Apple Color Emoji,Segoe UI Emoji,Segoe UI Symbol,\n",
       "        Noto Color Emoji,FontAwesome;\n",
       "        font-size: 13;\n",
       "      }\n",
       "\n",
       "      .ansiout {\n",
       "        padding-bottom: 8px;\n",
       "      }\n",
       "\n",
       "      .createPipeline {\n",
       "        background-color: rgb(34, 114, 180);\n",
       "        color: white;\n",
       "        text-decoration: none;\n",
       "        padding: 4px 12px;\n",
       "        border-radius: 4px;\n",
       "        display: inline-block;\n",
       "      }\n",
       "\n",
       "      .createPipeline:hover {\n",
       "        background-color: #195487;\n",
       "      }\n",
       "\n",
       "      .tag {\n",
       "        border: none;\n",
       "        color: rgb(31, 39, 45);\n",
       "        padding: 2px 4px;\n",
       "        font-weight: 600;\n",
       "        background-color: rgba(93, 114, 131, 0.08);\n",
       "        border-radius: 4px;\n",
       "        margin-right: 0;\n",
       "        display: inline-block;\n",
       "        cursor: default;\n",
       "      }\n",
       "\n",
       "      table {\n",
       "        border-collapse: collapse;\n",
       "        font-size: 13px;\n",
       "      }\n",
       "\n",
       "      th {\n",
       "        text-align: left;\n",
       "        background-color: #F2F5F7;\n",
       "        padding-left: 8px;\n",
       "        padding-right: 8px;\n",
       "      }\n",
       "\n",
       "      tr {\n",
       "        border-bottom: solid;\n",
       "        border-bottom-color: #CDDAE5;\n",
       "        border-bottom-width: 1px;\n",
       "      }\n",
       "\n",
       "      td {\n",
       "        padding-left: 8px;\n",
       "        padding-right: 8px;\n",
       "      }\n",
       "\n",
       "      .dlt-label {\n",
       "        font-weight: bold;\n",
       "      }\n",
       "\n",
       "      ul {\n",
       "        list-style: circle;\n",
       "        padding-inline-start: 12px;\n",
       "      }\n",
       "\n",
       "      li {\n",
       "        padding-bottom: 4px;\n",
       "      }\n",
       "</style></style>\n",
       "  \n",
       "<div class=\"ansiout\">\n",
       "<span class='tag'>ham_feasibility</span> is defined as a\n",
       "<span class=\"dlt-label\">Delta Live Tables</span> dataset\n",
       " with schema: \n",
       "</div>\n",
       "\n",
       "  \n",
       "<div class=\"ansiout\">\n",
       "   <table>\n",
       "     <tbody>\n",
       "       <tr>\n",
       "         <th>Name</th>\n",
       "         <th>Type</th>\n",
       "       </tr>\n",
       "       \n",
       "<tr>\n",
       "   <td>ham_type</td>\n",
       "   <td>string</td>\n",
       "</tr>\n",
       "\n",
       "<tr>\n",
       "   <td>is_feasible</td>\n",
       "   <td>boolean</td>\n",
       "</tr>\n",
       "     </tbody>\n",
       "   </table>\n",
       "</div>\n",
       "\n",
       "  <div class =\"ansiout\">\n",
       "    To populate your table you must either:\n",
       "    <ul>\n",
       "      <li>\n",
       "        Run an existing pipeline using the\n",
       "        <span class=\"dlt-label\">Delta Live Tables</span> menu\n",
       "      </li>\n",
       "      <li>\n",
       "        Create a new pipeline: <a class='createPipeline' href=\"?o=556849771150522#joblist/pipelines/create?initialSource=%2FUsers%2Fholly.smith%40databricks.com%2FBlogs%2FData%20Engineering%20SQL%20Holiday%20Specials&redirectNotebookId=1502201671325450\">Create Pipeline</a>\n",
       "      </li>\n",
       "    </ul>\n",
       "  <div>\n",
       "</html>\n"
      ]
     },
     "metadata": {
      "application/vnd.databricks.v1+output": {
       "addedWidgets": {},
       "arguments": {},
       "data": "\n<html>\n  <style>\n<style>\n      html {\n        font-family: -apple-system,BlinkMacSystemFont,Segoe UI,Roboto,Helvetica Neue,Arial,\n        Noto Sans,sans-serif,Apple Color Emoji,Segoe UI Emoji,Segoe UI Symbol,\n        Noto Color Emoji,FontAwesome;\n        font-size: 13;\n      }\n\n      .ansiout {\n        padding-bottom: 8px;\n      }\n\n      .createPipeline {\n        background-color: rgb(34, 114, 180);\n        color: white;\n        text-decoration: none;\n        padding: 4px 12px;\n        border-radius: 4px;\n        display: inline-block;\n      }\n\n      .createPipeline:hover {\n        background-color: #195487;\n      }\n\n      .tag {\n        border: none;\n        color: rgb(31, 39, 45);\n        padding: 2px 4px;\n        font-weight: 600;\n        background-color: rgba(93, 114, 131, 0.08);\n        border-radius: 4px;\n        margin-right: 0;\n        display: inline-block;\n        cursor: default;\n      }\n\n      table {\n        border-collapse: collapse;\n        font-size: 13px;\n      }\n\n      th {\n        text-align: left;\n        background-color: #F2F5F7;\n        padding-left: 8px;\n        padding-right: 8px;\n      }\n\n      tr {\n        border-bottom: solid;\n        border-bottom-color: #CDDAE5;\n        border-bottom-width: 1px;\n      }\n\n      td {\n        padding-left: 8px;\n        padding-right: 8px;\n      }\n\n      .dlt-label {\n        font-weight: bold;\n      }\n\n      ul {\n        list-style: circle;\n        padding-inline-start: 12px;\n      }\n\n      li {\n        padding-bottom: 4px;\n      }\n</style></style>\n  \n<div class=\"ansiout\">\n<span class='tag'>ham_feasibility</span> is defined as a\n<span class=\"dlt-label\">Delta Live Tables</span> dataset\n with schema: \n</div>\n\n  \n<div class=\"ansiout\">\n   <table>\n     <tbody>\n       <tr>\n         <th>Name</th>\n         <th>Type</th>\n       </tr>\n       \n<tr>\n   <td>ham_type</td>\n   <td>string</td>\n</tr>\n\n<tr>\n   <td>is_feasible</td>\n   <td>boolean</td>\n</tr>\n     </tbody>\n   </table>\n</div>\n\n  <div class =\"ansiout\">\n    To populate your table you must either:\n    <ul>\n      <li>\n        Run an existing pipeline using the\n        <span class=\"dlt-label\">Delta Live Tables</span> menu\n      </li>\n      <li>\n        Create a new pipeline: <a class='createPipeline' href=\"?o=556849771150522#joblist/pipelines/create?initialSource=%2FUsers%2Fholly.smith%40databricks.com%2FBlogs%2FData%20Engineering%20SQL%20Holiday%20Specials&redirectNotebookId=1502201671325450\">Create Pipeline</a>\n      </li>\n    </ul>\n  <div>\n</html>\n",
       "datasetInfos": [],
       "metadata": {
        "isDbfsCommandResult": false
       },
       "removedWidgets": [],
       "textData": null,
       "type": "htmlSandbox"
      }
     },
     "output_type": "display_data"
    }
   ],
   "source": [
    "CREATE MATERIALIZED VIEW ham_feasibility\n",
    "SCHEDULE EVERY 1 HOUR --new schedule syntax\n",
    "AS SELECT `🐖`.ham_type, `🥪`.is_feasible \n",
    "FROM ham_types AS `🐖`\n",
    "LEFT JOIN sandwich_feasibility AS `🥪`\n",
    "ON `🐖`.ham_type = `🥪`.ham_type;"
   ]
  },
  {
   "cell_type": "code",
   "execution_count": 0,
   "metadata": {
    "application/vnd.databricks.v1+cell": {
     "cellMetadata": {
      "byteLimit": 2048000,
      "rowLimit": 10000
     },
     "inputWidgets": {},
     "nuid": "803380b6-1598-46b1-9797-fc0595751f16",
     "showTitle": true,
     "tableResultSettingsMap": {},
     "title": "Row filtering with materialised views"
    }
   },
   "outputs": [
    {
     "output_type": "display_data",
     "data": {
      "text/html": [
       "\n",
       "<html>\n",
       "  <style>\n",
       "<style>\n",
       "      html {\n",
       "        font-family: -apple-system,BlinkMacSystemFont,Segoe UI,Roboto,Helvetica Neue,Arial,\n",
       "        Noto Sans,sans-serif,Apple Color Emoji,Segoe UI Emoji,Segoe UI Symbol,\n",
       "        Noto Color Emoji,FontAwesome;\n",
       "        font-size: 13;\n",
       "      }\n",
       "\n",
       "      .ansiout {\n",
       "        padding-bottom: 8px;\n",
       "      }\n",
       "\n",
       "      .createPipeline {\n",
       "        background-color: rgb(34, 114, 180);\n",
       "        color: white;\n",
       "        text-decoration: none;\n",
       "        padding: 4px 12px;\n",
       "        border-radius: 4px;\n",
       "        display: inline-block;\n",
       "      }\n",
       "\n",
       "      .createPipeline:hover {\n",
       "        background-color: #195487;\n",
       "      }\n",
       "\n",
       "      .tag {\n",
       "        border: none;\n",
       "        color: rgb(31, 39, 45);\n",
       "        padding: 2px 4px;\n",
       "        font-weight: 600;\n",
       "        background-color: rgba(93, 114, 131, 0.08);\n",
       "        border-radius: 4px;\n",
       "        margin-right: 0;\n",
       "        display: inline-block;\n",
       "        cursor: default;\n",
       "      }\n",
       "\n",
       "      table {\n",
       "        border-collapse: collapse;\n",
       "        font-size: 13px;\n",
       "      }\n",
       "\n",
       "      th {\n",
       "        text-align: left;\n",
       "        background-color: #F2F5F7;\n",
       "        padding-left: 8px;\n",
       "        padding-right: 8px;\n",
       "      }\n",
       "\n",
       "      tr {\n",
       "        border-bottom: solid;\n",
       "        border-bottom-color: #CDDAE5;\n",
       "        border-bottom-width: 1px;\n",
       "      }\n",
       "\n",
       "      td {\n",
       "        padding-left: 8px;\n",
       "        padding-right: 8px;\n",
       "      }\n",
       "\n",
       "      .dlt-label {\n",
       "        font-weight: bold;\n",
       "      }\n",
       "\n",
       "      ul {\n",
       "        list-style: circle;\n",
       "        padding-inline-start: 12px;\n",
       "      }\n",
       "\n",
       "      li {\n",
       "        padding-bottom: 4px;\n",
       "      }\n",
       "</style></style>\n",
       "  \n",
       "<div class=\"ansiout\">\n",
       "<span class='tag'>ham_options</span> is defined as a\n",
       "<span class=\"dlt-label\">Delta Live Tables</span> dataset\n",
       " with schema: \n",
       "</div>\n",
       "\n",
       "  \n",
       "<div class=\"ansiout\">\n",
       "   <table>\n",
       "     <tbody>\n",
       "       <tr>\n",
       "         <th>Name</th>\n",
       "         <th>Type</th>\n",
       "       </tr>\n",
       "       \n",
       "<tr>\n",
       "   <td>ham_type</td>\n",
       "   <td>string</td>\n",
       "</tr>\n",
       "\n",
       "<tr>\n",
       "   <td>is_edible</td>\n",
       "   <td>boolean</td>\n",
       "</tr>\n",
       "     </tbody>\n",
       "   </table>\n",
       "</div>\n",
       "\n",
       "  <div class =\"ansiout\">\n",
       "    To populate your table you must either:\n",
       "    <ul>\n",
       "      <li>\n",
       "        Run an existing pipeline using the\n",
       "        <span class=\"dlt-label\">Delta Live Tables</span> menu\n",
       "      </li>\n",
       "      <li>\n",
       "        Create a new pipeline: <a class='createPipeline' href=\"?o=556849771150522#joblist/pipelines/create?initialSource=%2FUsers%2Fholly.smith%40databricks.com%2FBlogs%2FData%20Engineering%20SQL%20Holiday%20Specials&redirectNotebookId=1502201671325450\">Create Pipeline</a>\n",
       "      </li>\n",
       "    </ul>\n",
       "  <div>\n",
       "</html>\n"
      ]
     },
     "metadata": {
      "application/vnd.databricks.v1+output": {
       "addedWidgets": {},
       "arguments": {},
       "data": "\n<html>\n  <style>\n<style>\n      html {\n        font-family: -apple-system,BlinkMacSystemFont,Segoe UI,Roboto,Helvetica Neue,Arial,\n        Noto Sans,sans-serif,Apple Color Emoji,Segoe UI Emoji,Segoe UI Symbol,\n        Noto Color Emoji,FontAwesome;\n        font-size: 13;\n      }\n\n      .ansiout {\n        padding-bottom: 8px;\n      }\n\n      .createPipeline {\n        background-color: rgb(34, 114, 180);\n        color: white;\n        text-decoration: none;\n        padding: 4px 12px;\n        border-radius: 4px;\n        display: inline-block;\n      }\n\n      .createPipeline:hover {\n        background-color: #195487;\n      }\n\n      .tag {\n        border: none;\n        color: rgb(31, 39, 45);\n        padding: 2px 4px;\n        font-weight: 600;\n        background-color: rgba(93, 114, 131, 0.08);\n        border-radius: 4px;\n        margin-right: 0;\n        display: inline-block;\n        cursor: default;\n      }\n\n      table {\n        border-collapse: collapse;\n        font-size: 13px;\n      }\n\n      th {\n        text-align: left;\n        background-color: #F2F5F7;\n        padding-left: 8px;\n        padding-right: 8px;\n      }\n\n      tr {\n        border-bottom: solid;\n        border-bottom-color: #CDDAE5;\n        border-bottom-width: 1px;\n      }\n\n      td {\n        padding-left: 8px;\n        padding-right: 8px;\n      }\n\n      .dlt-label {\n        font-weight: bold;\n      }\n\n      ul {\n        list-style: circle;\n        padding-inline-start: 12px;\n      }\n\n      li {\n        padding-bottom: 4px;\n      }\n</style></style>\n  \n<div class=\"ansiout\">\n<span class='tag'>ham_options</span> is defined as a\n<span class=\"dlt-label\">Delta Live Tables</span> dataset\n with schema: \n</div>\n\n  \n<div class=\"ansiout\">\n   <table>\n     <tbody>\n       <tr>\n         <th>Name</th>\n         <th>Type</th>\n       </tr>\n       \n<tr>\n   <td>ham_type</td>\n   <td>string</td>\n</tr>\n\n<tr>\n   <td>is_edible</td>\n   <td>boolean</td>\n</tr>\n     </tbody>\n   </table>\n</div>\n\n  <div class =\"ansiout\">\n    To populate your table you must either:\n    <ul>\n      <li>\n        Run an existing pipeline using the\n        <span class=\"dlt-label\">Delta Live Tables</span> menu\n      </li>\n      <li>\n        Create a new pipeline: <a class='createPipeline' href=\"?o=556849771150522#joblist/pipelines/create?initialSource=%2FUsers%2Fholly.smith%40databricks.com%2FBlogs%2FData%20Engineering%20SQL%20Holiday%20Specials&redirectNotebookId=1502201671325450\">Create Pipeline</a>\n      </li>\n    </ul>\n  <div>\n</html>\n",
       "datasetInfos": [],
       "metadata": {
        "isDbfsCommandResult": false
       },
       "removedWidgets": [],
       "textData": null,
       "type": "htmlSandbox"
      }
     },
     "output_type": "display_data"
    }
   ],
   "source": [
    "CREATE FUNCTION veggie_filter(is_edible BOOLEAN) --let's stop taunting our veggie friends\n",
    "RETURN IF(IS_ACCOUNT_GROUP_MEMBER('omnivore'), false, is_edible=0); --if they're not part of the omnivore group, we'll hide piggy products\n",
    "\n",
    "CREATE MATERIALIZED VIEW ham_options (ham_type STRING, is_edible BOOLEAN) --now this view will show results tailored to whether or not the user is part of the omnivore group stored in unity catalog\n",
    "WITH ROW FILTER veggie_filter --apply the function we just defined\n",
    "AS SELECT * FROM ham_types"
   ]
  },
  {
   "cell_type": "code",
   "execution_count": 0,
   "metadata": {
    "application/vnd.databricks.v1+cell": {
     "cellMetadata": {
      "byteLimit": 2048000,
      "rowLimit": 10000
     },
     "inputWidgets": {},
     "nuid": "ff546784-e3dc-4842-9144-1e7bb2c94038",
     "showTitle": true,
     "tableResultSettingsMap": {},
     "title": "Column masking with materialised views"
    }
   },
   "outputs": [
    {
     "output_type": "display_data",
     "data": {
      "text/html": [
       "\n",
       "<html>\n",
       "  <style>\n",
       "<style>\n",
       "      html {\n",
       "        font-family: -apple-system,BlinkMacSystemFont,Segoe UI,Roboto,Helvetica Neue,Arial,\n",
       "        Noto Sans,sans-serif,Apple Color Emoji,Segoe UI Emoji,Segoe UI Symbol,\n",
       "        Noto Color Emoji,FontAwesome;\n",
       "        font-size: 13;\n",
       "      }\n",
       "\n",
       "      .ansiout {\n",
       "        padding-bottom: 8px;\n",
       "      }\n",
       "\n",
       "      .createPipeline {\n",
       "        background-color: rgb(34, 114, 180);\n",
       "        color: white;\n",
       "        text-decoration: none;\n",
       "        padding: 4px 12px;\n",
       "        border-radius: 4px;\n",
       "        display: inline-block;\n",
       "      }\n",
       "\n",
       "      .createPipeline:hover {\n",
       "        background-color: #195487;\n",
       "      }\n",
       "\n",
       "      .tag {\n",
       "        border: none;\n",
       "        color: rgb(31, 39, 45);\n",
       "        padding: 2px 4px;\n",
       "        font-weight: 600;\n",
       "        background-color: rgba(93, 114, 131, 0.08);\n",
       "        border-radius: 4px;\n",
       "        margin-right: 0;\n",
       "        display: inline-block;\n",
       "        cursor: default;\n",
       "      }\n",
       "\n",
       "      table {\n",
       "        border-collapse: collapse;\n",
       "        font-size: 13px;\n",
       "      }\n",
       "\n",
       "      th {\n",
       "        text-align: left;\n",
       "        background-color: #F2F5F7;\n",
       "        padding-left: 8px;\n",
       "        padding-right: 8px;\n",
       "      }\n",
       "\n",
       "      tr {\n",
       "        border-bottom: solid;\n",
       "        border-bottom-color: #CDDAE5;\n",
       "        border-bottom-width: 1px;\n",
       "      }\n",
       "\n",
       "      td {\n",
       "        padding-left: 8px;\n",
       "        padding-right: 8px;\n",
       "      }\n",
       "\n",
       "      .dlt-label {\n",
       "        font-weight: bold;\n",
       "      }\n",
       "\n",
       "      ul {\n",
       "        list-style: circle;\n",
       "        padding-inline-start: 12px;\n",
       "      }\n",
       "\n",
       "      li {\n",
       "        padding-bottom: 4px;\n",
       "      }\n",
       "</style></style>\n",
       "  \n",
       "<div class=\"ansiout\">\n",
       "<span class='tag'>ham_options</span> is defined as a\n",
       "<span class=\"dlt-label\">Delta Live Tables</span> dataset\n",
       " with schema: \n",
       "</div>\n",
       "\n",
       "  \n",
       "<div class=\"ansiout\">\n",
       "   <table>\n",
       "     <tbody>\n",
       "       <tr>\n",
       "         <th>Name</th>\n",
       "         <th>Type</th>\n",
       "       </tr>\n",
       "       \n",
       "<tr>\n",
       "   <td>ham_type</td>\n",
       "   <td>string</td>\n",
       "</tr>\n",
       "\n",
       "<tr>\n",
       "   <td>is_edible</td>\n",
       "   <td>boolean</td>\n",
       "</tr>\n",
       "     </tbody>\n",
       "   </table>\n",
       "</div>\n",
       "\n",
       "  <div class =\"ansiout\">\n",
       "    To populate your table you must either:\n",
       "    <ul>\n",
       "      <li>\n",
       "        Run an existing pipeline using the\n",
       "        <span class=\"dlt-label\">Delta Live Tables</span> menu\n",
       "      </li>\n",
       "      <li>\n",
       "        Create a new pipeline: <a class='createPipeline' href=\"?o=556849771150522#joblist/pipelines/create?initialSource=%2FUsers%2Fholly.smith%40databricks.com%2FBlogs%2FData%20Engineering%20SQL%20Holiday%20Specials&redirectNotebookId=1502201671325450\">Create Pipeline</a>\n",
       "      </li>\n",
       "    </ul>\n",
       "  <div>\n",
       "</html>\n"
      ]
     },
     "metadata": {
      "application/vnd.databricks.v1+output": {
       "addedWidgets": {},
       "arguments": {},
       "data": "\n<html>\n  <style>\n<style>\n      html {\n        font-family: -apple-system,BlinkMacSystemFont,Segoe UI,Roboto,Helvetica Neue,Arial,\n        Noto Sans,sans-serif,Apple Color Emoji,Segoe UI Emoji,Segoe UI Symbol,\n        Noto Color Emoji,FontAwesome;\n        font-size: 13;\n      }\n\n      .ansiout {\n        padding-bottom: 8px;\n      }\n\n      .createPipeline {\n        background-color: rgb(34, 114, 180);\n        color: white;\n        text-decoration: none;\n        padding: 4px 12px;\n        border-radius: 4px;\n        display: inline-block;\n      }\n\n      .createPipeline:hover {\n        background-color: #195487;\n      }\n\n      .tag {\n        border: none;\n        color: rgb(31, 39, 45);\n        padding: 2px 4px;\n        font-weight: 600;\n        background-color: rgba(93, 114, 131, 0.08);\n        border-radius: 4px;\n        margin-right: 0;\n        display: inline-block;\n        cursor: default;\n      }\n\n      table {\n        border-collapse: collapse;\n        font-size: 13px;\n      }\n\n      th {\n        text-align: left;\n        background-color: #F2F5F7;\n        padding-left: 8px;\n        padding-right: 8px;\n      }\n\n      tr {\n        border-bottom: solid;\n        border-bottom-color: #CDDAE5;\n        border-bottom-width: 1px;\n      }\n\n      td {\n        padding-left: 8px;\n        padding-right: 8px;\n      }\n\n      .dlt-label {\n        font-weight: bold;\n      }\n\n      ul {\n        list-style: circle;\n        padding-inline-start: 12px;\n      }\n\n      li {\n        padding-bottom: 4px;\n      }\n</style></style>\n  \n<div class=\"ansiout\">\n<span class='tag'>ham_options</span> is defined as a\n<span class=\"dlt-label\">Delta Live Tables</span> dataset\n with schema: \n</div>\n\n  \n<div class=\"ansiout\">\n   <table>\n     <tbody>\n       <tr>\n         <th>Name</th>\n         <th>Type</th>\n       </tr>\n       \n<tr>\n   <td>ham_type</td>\n   <td>string</td>\n</tr>\n\n<tr>\n   <td>is_edible</td>\n   <td>boolean</td>\n</tr>\n     </tbody>\n   </table>\n</div>\n\n  <div class =\"ansiout\">\n    To populate your table you must either:\n    <ul>\n      <li>\n        Run an existing pipeline using the\n        <span class=\"dlt-label\">Delta Live Tables</span> menu\n      </li>\n      <li>\n        Create a new pipeline: <a class='createPipeline' href=\"?o=556849771150522#joblist/pipelines/create?initialSource=%2FUsers%2Fholly.smith%40databricks.com%2FBlogs%2FData%20Engineering%20SQL%20Holiday%20Specials&redirectNotebookId=1502201671325450\">Create Pipeline</a>\n      </li>\n    </ul>\n  <div>\n</html>\n",
       "datasetInfos": [],
       "metadata": {
        "isDbfsCommandResult": false
       },
       "removedWidgets": [],
       "textData": null,
       "type": "htmlSandbox"
      }
     },
     "output_type": "display_data"
    }
   ],
   "source": [
    "--uh oh! but what if someone is new and we don't know which group to put them in?\n",
    "--the only sane thing to do is hide the contents of this column from them until they're added to a group\n",
    "CREATE FUNCTION undefined_preference(is_edible BOOLEAN)\n",
    "  RETURN CASE WHEN is_member('omnivore') THEN is_edible \n",
    "              WHEN is_member('veggie') THEN is_edible \n",
    "              ELSE NULL END;\n",
    "\n",
    "CREATE OR REPLACE MATERIALIZED VIEW ham_options \n",
    "  (ham_type STRING, \n",
    "  is_edible BOOLEAN MASK undefined_preference) -- applying the column mask to our materialised view\n",
    "WITH ROW FILTER veggie_filter\n",
    "AS SELECT * FROM ham_types;"
   ]
  },
  {
   "cell_type": "code",
   "execution_count": 0,
   "metadata": {
    "application/vnd.databricks.v1+cell": {
     "cellMetadata": {
      "byteLimit": 2048000,
      "rowLimit": 10000
     },
     "inputWidgets": {},
     "nuid": "8c91fa07-cb6f-461d-a081-58d22dc62d0b",
     "showTitle": true,
     "tableResultSettingsMap": {},
     "title": "Set the channel for Materialised Views"
    }
   },
   "outputs": [
    {
     "output_type": "display_data",
     "data": {
      "text/html": [
       "\n",
       "<html>\n",
       "  <style>\n",
       "<style>\n",
       "      html {\n",
       "        font-family: -apple-system,BlinkMacSystemFont,Segoe UI,Roboto,Helvetica Neue,Arial,\n",
       "        Noto Sans,sans-serif,Apple Color Emoji,Segoe UI Emoji,Segoe UI Symbol,\n",
       "        Noto Color Emoji,FontAwesome;\n",
       "        font-size: 13;\n",
       "      }\n",
       "\n",
       "      .ansiout {\n",
       "        padding-bottom: 8px;\n",
       "      }\n",
       "\n",
       "      .createPipeline {\n",
       "        background-color: rgb(34, 114, 180);\n",
       "        color: white;\n",
       "        text-decoration: none;\n",
       "        padding: 4px 12px;\n",
       "        border-radius: 4px;\n",
       "        display: inline-block;\n",
       "      }\n",
       "\n",
       "      .createPipeline:hover {\n",
       "        background-color: #195487;\n",
       "      }\n",
       "\n",
       "      .tag {\n",
       "        border: none;\n",
       "        color: rgb(31, 39, 45);\n",
       "        padding: 2px 4px;\n",
       "        font-weight: 600;\n",
       "        background-color: rgba(93, 114, 131, 0.08);\n",
       "        border-radius: 4px;\n",
       "        margin-right: 0;\n",
       "        display: inline-block;\n",
       "        cursor: default;\n",
       "      }\n",
       "\n",
       "      table {\n",
       "        border-collapse: collapse;\n",
       "        font-size: 13px;\n",
       "      }\n",
       "\n",
       "      th {\n",
       "        text-align: left;\n",
       "        background-color: #F2F5F7;\n",
       "        padding-left: 8px;\n",
       "        padding-right: 8px;\n",
       "      }\n",
       "\n",
       "      tr {\n",
       "        border-bottom: solid;\n",
       "        border-bottom-color: #CDDAE5;\n",
       "        border-bottom-width: 1px;\n",
       "      }\n",
       "\n",
       "      td {\n",
       "        padding-left: 8px;\n",
       "        padding-right: 8px;\n",
       "      }\n",
       "\n",
       "      .dlt-label {\n",
       "        font-weight: bold;\n",
       "      }\n",
       "\n",
       "      ul {\n",
       "        list-style: circle;\n",
       "        padding-inline-start: 12px;\n",
       "      }\n",
       "\n",
       "      li {\n",
       "        padding-bottom: 4px;\n",
       "      }\n",
       "</style></style>\n",
       "  \n",
       "<div class=\"ansiout\">\n",
       "<span class='tag'>preview_channel_example</span> is defined as a\n",
       "<span class=\"dlt-label\">Delta Live Tables</span> dataset\n",
       " with schema: \n",
       "</div>\n",
       "\n",
       "  \n",
       "<div class=\"ansiout\">\n",
       "   <table>\n",
       "     <tbody>\n",
       "       <tr>\n",
       "         <th>Name</th>\n",
       "         <th>Type</th>\n",
       "       </tr>\n",
       "       \n",
       "<tr>\n",
       "   <td>result</td>\n",
       "   <td>int</td>\n",
       "</tr>\n",
       "     </tbody>\n",
       "   </table>\n",
       "</div>\n",
       "\n",
       "  <div class =\"ansiout\">\n",
       "    To populate your table you must either:\n",
       "    <ul>\n",
       "      <li>\n",
       "        Run an existing pipeline using the\n",
       "        <span class=\"dlt-label\">Delta Live Tables</span> menu\n",
       "      </li>\n",
       "      <li>\n",
       "        Create a new pipeline: <a class='createPipeline' href=\"?o=556849771150522#joblist/pipelines/create?initialSource=%2FUsers%2Fholly.smith%40databricks.com%2FBlogs%2FData%20Engineering%20SQL%20Holiday%20Specials&redirectNotebookId=1502201671325450\">Create Pipeline</a>\n",
       "      </li>\n",
       "    </ul>\n",
       "  <div>\n",
       "</html>\n"
      ]
     },
     "metadata": {
      "application/vnd.databricks.v1+output": {
       "addedWidgets": {},
       "arguments": {},
       "data": "\n<html>\n  <style>\n<style>\n      html {\n        font-family: -apple-system,BlinkMacSystemFont,Segoe UI,Roboto,Helvetica Neue,Arial,\n        Noto Sans,sans-serif,Apple Color Emoji,Segoe UI Emoji,Segoe UI Symbol,\n        Noto Color Emoji,FontAwesome;\n        font-size: 13;\n      }\n\n      .ansiout {\n        padding-bottom: 8px;\n      }\n\n      .createPipeline {\n        background-color: rgb(34, 114, 180);\n        color: white;\n        text-decoration: none;\n        padding: 4px 12px;\n        border-radius: 4px;\n        display: inline-block;\n      }\n\n      .createPipeline:hover {\n        background-color: #195487;\n      }\n\n      .tag {\n        border: none;\n        color: rgb(31, 39, 45);\n        padding: 2px 4px;\n        font-weight: 600;\n        background-color: rgba(93, 114, 131, 0.08);\n        border-radius: 4px;\n        margin-right: 0;\n        display: inline-block;\n        cursor: default;\n      }\n\n      table {\n        border-collapse: collapse;\n        font-size: 13px;\n      }\n\n      th {\n        text-align: left;\n        background-color: #F2F5F7;\n        padding-left: 8px;\n        padding-right: 8px;\n      }\n\n      tr {\n        border-bottom: solid;\n        border-bottom-color: #CDDAE5;\n        border-bottom-width: 1px;\n      }\n\n      td {\n        padding-left: 8px;\n        padding-right: 8px;\n      }\n\n      .dlt-label {\n        font-weight: bold;\n      }\n\n      ul {\n        list-style: circle;\n        padding-inline-start: 12px;\n      }\n\n      li {\n        padding-bottom: 4px;\n      }\n</style></style>\n  \n<div class=\"ansiout\">\n<span class='tag'>preview_channel_example</span> is defined as a\n<span class=\"dlt-label\">Delta Live Tables</span> dataset\n with schema: \n</div>\n\n  \n<div class=\"ansiout\">\n   <table>\n     <tbody>\n       <tr>\n         <th>Name</th>\n         <th>Type</th>\n       </tr>\n       \n<tr>\n   <td>result</td>\n   <td>int</td>\n</tr>\n     </tbody>\n   </table>\n</div>\n\n  <div class =\"ansiout\">\n    To populate your table you must either:\n    <ul>\n      <li>\n        Run an existing pipeline using the\n        <span class=\"dlt-label\">Delta Live Tables</span> menu\n      </li>\n      <li>\n        Create a new pipeline: <a class='createPipeline' href=\"?o=556849771150522#joblist/pipelines/create?initialSource=%2FUsers%2Fholly.smith%40databricks.com%2FBlogs%2FData%20Engineering%20SQL%20Holiday%20Specials&redirectNotebookId=1502201671325450\">Create Pipeline</a>\n      </li>\n    </ul>\n  <div>\n</html>\n",
       "datasetInfos": [],
       "metadata": {
        "isDbfsCommandResult": false
       },
       "removedWidgets": [],
       "textData": null,
       "type": "htmlSandbox"
      }
     },
     "output_type": "display_data"
    }
   ],
   "source": [
    "CREATE MATERIALIZED VIEW preview_channel_example\n",
    "TBLPROPERTIES(pipelines.channel = \"PREVIEW\") --set the compute to use features in public preview\n",
    "AS SELECT day('2019-01-07') as result"
   ]
  },
  {
   "cell_type": "markdown",
   "metadata": {
    "application/vnd.databricks.v1+cell": {
     "cellMetadata": {},
     "inputWidgets": {},
     "nuid": "0a80992c-d990-43d2-89a4-5d57afb53081",
     "showTitle": false,
     "tableResultSettingsMap": {},
     "title": ""
    }
   },
   "source": [
    "### 🦩 Lite mode for `VACUUM`"
   ]
  },
  {
   "cell_type": "code",
   "execution_count": 0,
   "metadata": {
    "application/vnd.databricks.v1+cell": {
     "cellMetadata": {
      "byteLimit": 2048000,
      "rowLimit": 10000
     },
     "inputWidgets": {},
     "nuid": "da7842df-2138-455a-bf46-b883984d2525",
     "showTitle": false,
     "tableResultSettingsMap": {},
     "title": ""
    }
   },
   "outputs": [
    {
     "output_type": "display_data",
     "data": {
      "text/html": [
       "<style scoped>\n",
       "  .table-result-container {\n",
       "    max-height: 300px;\n",
       "    overflow: auto;\n",
       "  }\n",
       "  table, th, td {\n",
       "    border: 1px solid black;\n",
       "    border-collapse: collapse;\n",
       "  }\n",
       "  th, td {\n",
       "    padding: 5px;\n",
       "  }\n",
       "  th {\n",
       "    text-align: left;\n",
       "  }\n",
       "</style><div class='table-result-container'><table class='table-result'><thead style='background-color: white'><tr><th>path</th></tr></thead><tbody><tr><td>s3://databricks-devrel/unity-catalog/556849771150522/__unitystorage/catalogs/5af9d1b9-ce84-4845-a5f7-3a0ab902e978/tables/0e26978e-85a9-46d6-b74a-d91f6421861f</td></tr></tbody></table></div>"
      ]
     },
     "metadata": {
      "application/vnd.databricks.v1+output": {
       "addedWidgets": {},
       "aggData": [],
       "aggError": "",
       "aggOverflow": false,
       "aggSchema": [],
       "aggSeriesLimitReached": false,
       "aggType": "",
       "arguments": {},
       "columnCustomDisplayInfos": {},
       "data": [
        [
         "s3://databricks-devrel/unity-catalog/556849771150522/__unitystorage/catalogs/5af9d1b9-ce84-4845-a5f7-3a0ab902e978/tables/0e26978e-85a9-46d6-b74a-d91f6421861f"
        ]
       ],
       "datasetInfos": [],
       "dbfsResultPath": null,
       "isJsonSchema": true,
       "metadata": {
        "isDbfsCommandResult": false
       },
       "overflow": false,
       "plotOptions": {
        "customPlotOptions": {},
        "displayType": "table",
        "pivotAggregation": null,
        "pivotColumns": null,
        "xColumns": null,
        "yColumns": null
       },
       "removedWidgets": [],
       "schema": [
        {
         "metadata": "{}",
         "name": "path",
         "type": "\"string\""
        }
       ],
       "type": "table"
      }
     },
     "output_type": "display_data"
    }
   ],
   "source": [
    "VACUUM ham_types LITE;"
   ]
  },
  {
   "cell_type": "markdown",
   "metadata": {
    "application/vnd.databricks.v1+cell": {
     "cellMetadata": {},
     "inputWidgets": {},
     "nuid": "c79645d7-1e88-4e0e-8bdf-ad1e60885584",
     "showTitle": false,
     "tableResultSettingsMap": {},
     "title": ""
    }
   },
   "source": [
    "# 🐷"
   ]
  }
 ],
 "metadata": {
  "application/vnd.databricks.v1+notebook": {
   "computePreferences": null,
   "dashboards": [],
   "environmentMetadata": {
    "base_environment": "",
    "client": "1"
   },
   "language": "sql",
   "notebookMetadata": {
    "mostRecentlyExecutedCommandWithImplicitDF": {
     "commandId": 1295466155889207,
     "dataframes": [
      "_sqldf"
     ]
    },
    "pythonIndentUnit": 4
   },
   "notebookName": "Data Engineering SQL Holiday Specials",
   "widgets": {}
  },
  "language_info": {
   "name": "sql"
  }
 },
 "nbformat": 4,
 "nbformat_minor": 0
}