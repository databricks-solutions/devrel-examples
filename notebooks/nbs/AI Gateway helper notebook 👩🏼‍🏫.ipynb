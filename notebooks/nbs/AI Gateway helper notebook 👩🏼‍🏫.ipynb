{
 "cells": [
  {
   "cell_type": "markdown",
   "metadata": {
    "application/vnd.databricks.v1+cell": {
     "cellMetadata": {},
     "inputWidgets": {},
     "nuid": "8bbe1f17-ec3f-4a03-bcd0-c905b8ce53f1",
     "showTitle": false,
     "tableResultSettingsMap": {},
     "title": ""
    }
   },
   "source": [
    "## Querying system tables for AI endpoints\n",
    "\n",
    "⚙️ Compute: General Compute Serverless for SQL, classic cluster for first cell\n",
    "\n",
    "⛓️ Dependency: a serving model using either your own models from Unity Catalog, or an External model provider. The easiest to test out is probably the External models for Chat, although you will need to use the model provider API key. \n",
    "\n",
    "📺 This accompanies this [youtube video](https://youtube.com/shorts/VxiI-qOgxpU), which at under 2 mins I recommend watching to get the context of this notebook"
   ]
  },
  {
   "cell_type": "code",
   "execution_count": 0,
   "metadata": {
    "application/vnd.databricks.v1+cell": {
     "cellMetadata": {},
     "inputWidgets": {},
     "nuid": "7bd43443-4adc-4d6a-b850-666e0fec9042",
     "showTitle": true,
     "tableResultSettingsMap": {},
     "title": "Use standard cluster for this bit only"
    }
   },
   "outputs": [],
   "source": [
    "%sh\n",
    "curl -v -X PUT -H \"Authorization: Bearer <PAToken>\" \"https://<workspace_id>.databricks.com/api/2.0/unity-catalog/metastores/<metastore_id>/systemschemas/serving\"\n",
    "#PAToken - can be found in: User > Developer > Access Tokens\n",
    "#workspace_id: found in the URL\n",
    "#metastore_id: select metastore_id from system.information_schema.metastores"
   ]
  },
  {
   "cell_type": "code",
   "execution_count": 0,
   "metadata": {
    "application/vnd.databricks.v1+cell": {
     "cellMetadata": {
      "byteLimit": 2048000,
      "rowLimit": 10000
     },
     "inputWidgets": {},
     "nuid": "ee5500d5-4c29-4a27-8f49-cc876c0b2893",
     "showTitle": true,
     "tableResultSettingsMap": {},
     "title": "look at your beautiful new tables"
    }
   },
   "outputs": [
    {
     "output_type": "display_data",
     "data": {
      "text/html": [
       "<style scoped>\n",
       "  .table-result-container {\n",
       "    max-height: 300px;\n",
       "    overflow: auto;\n",
       "  }\n",
       "  table, th, td {\n",
       "    border: 1px solid black;\n",
       "    border-collapse: collapse;\n",
       "  }\n",
       "  th, td {\n",
       "    padding: 5px;\n",
       "  }\n",
       "  th {\n",
       "    text-align: left;\n",
       "  }\n",
       "</style><div class='table-result-container'><table class='table-result'><thead style='background-color: white'><tr><th>database</th><th>tableName</th><th>isTemporary</th></tr></thead><tbody><tr><td>serving</td><td>endpoint_usage</td><td>false</td></tr><tr><td>serving</td><td>served_entities</td><td>false</td></tr><tr><td></td><td>_sqldf</td><td>true</td></tr></tbody></table></div>"
      ]
     },
     "metadata": {
      "application/vnd.databricks.v1+output": {
       "addedWidgets": {},
       "aggData": [],
       "aggError": "",
       "aggOverflow": false,
       "aggSchema": [],
       "aggSeriesLimitReached": false,
       "aggType": "",
       "arguments": {},
       "columnCustomDisplayInfos": {},
       "data": [
        [
         "serving",
         "endpoint_usage",
         false
        ],
        [
         "serving",
         "served_entities",
         false
        ],
        [
         "",
         "_sqldf",
         true
        ]
       ],
       "datasetInfos": [
        {
         "name": "_sqldf",
         "schema": {
          "fields": [
           {
            "metadata": {},
            "name": "database",
            "nullable": false,
            "type": "string"
           },
           {
            "metadata": {},
            "name": "tableName",
            "nullable": false,
            "type": "string"
           },
           {
            "metadata": {},
            "name": "isTemporary",
            "nullable": false,
            "type": "boolean"
           }
          ],
          "type": "struct"
         },
         "tableIdentifier": null,
         "typeStr": "pyspark.sql.connect.dataframe.DataFrame"
        }
       ],
       "dbfsResultPath": null,
       "isJsonSchema": true,
       "metadata": {
        "createTempViewForImplicitDf": true,
        "dataframeName": "_sqldf",
        "executionCount": 104
       },
       "overflow": false,
       "plotOptions": {
        "customPlotOptions": {},
        "displayType": "table",
        "pivotAggregation": null,
        "pivotColumns": null,
        "xColumns": null,
        "yColumns": null
       },
       "removedWidgets": [],
       "schema": [
        {
         "metadata": "{}",
         "name": "database",
         "type": "\"string\""
        },
        {
         "metadata": "{}",
         "name": "tableName",
         "type": "\"string\""
        },
        {
         "metadata": "{}",
         "name": "isTemporary",
         "type": "\"boolean\""
        }
       ],
       "type": "table"
      }
     },
     "output_type": "display_data"
    }
   ],
   "source": [
    "show tables in system.serving"
   ]
  },
  {
   "cell_type": "code",
   "execution_count": 0,
   "metadata": {
    "application/vnd.databricks.v1+cell": {
     "cellMetadata": {
      "byteLimit": 2048000,
      "rowLimit": 10000
     },
     "inputWidgets": {},
     "nuid": "01b66d13-bf40-4811-8701-297265d996e0",
     "showTitle": true,
     "tableResultSettingsMap": {},
     "title": "usage tracking"
    }
   },
   "outputs": [
    {
     "output_type": "display_data",
     "data": {
      "text/html": [
       "<style scoped>\n",
       "  .table-result-container {\n",
       "    max-height: 300px;\n",
       "    overflow: auto;\n",
       "  }\n",
       "  table, th, td {\n",
       "    border: 1px solid black;\n",
       "    border-collapse: collapse;\n",
       "  }\n",
       "  th, td {\n",
       "    padding: 5px;\n",
       "  }\n",
       "  th {\n",
       "    text-align: left;\n",
       "  }\n",
       "</style><div class='table-result-container'><table class='table-result'><thead style='background-color: white'><tr><th>workspace_id</th><th>account_id</th><th>client_request_id</th><th>databricks_request_id</th><th>requester</th><th>status_code</th><th>request_time</th><th>input_token_count</th><th>output_token_count</th><th>input_character_count</th><th>output_character_count</th><th>usage_context</th><th>request_streaming</th><th>served_entity_id</th></tr></thead><tbody><tr><td>556849771150522</td><td>05054295-4959-42dc-abf8-934d75c36417</td><td>null</td><td>b336623b-6f95-4ddd-8992-e54a873a1b46</td><td>holly.smith@databricks.com</td><td>200</td><td>2024-12-11T11:59:14.046Z</td><td>259</td><td>159</td><td>1112</td><td>734</td><td>Map()</td><td>false</td><td>f7c5c305af1d4dacb0ebdd6f447ba1be</td></tr><tr><td>556849771150522</td><td>05054295-4959-42dc-abf8-934d75c36417</td><td>null</td><td>04ff5243-ba02-471d-afdc-9b382a364b7f</td><td>holly.smith@databricks.com</td><td>200</td><td>2024-12-11T11:57:39.551Z</td><td>13</td><td>232</td><td>21</td><td>1067</td><td>Map()</td><td>false</td><td>f7c5c305af1d4dacb0ebdd6f447ba1be</td></tr><tr><td>556849771150522</td><td>05054295-4959-42dc-abf8-934d75c36417</td><td>null</td><td>2d11499f-56a9-4044-9e74-bd1cd6859860</td><td>holly.smith@databricks.com</td><td>400</td><td>2024-12-11T11:58:12.250Z</td><td>0</td><td>0</td><td>1120</td><td>0</td><td>Map()</td><td>false</td><td>f7c5c305af1d4dacb0ebdd6f447ba1be</td></tr><tr><td>556849771150522</td><td>05054295-4959-42dc-abf8-934d75c36417</td><td>null</td><td>69a173a6-f21a-4516-bff7-6df730795911</td><td>holly.smith@databricks.com</td><td>400</td><td>2024-12-11T11:59:48.876Z</td><td>0</td><td>0</td><td>1873</td><td>0</td><td>Map()</td><td>false</td><td>f7c5c305af1d4dacb0ebdd6f447ba1be</td></tr><tr><td>556849771150522</td><td>05054295-4959-42dc-abf8-934d75c36417</td><td>null</td><td>d7926e60-d150-415c-8a51-e12e4a4541b5</td><td>holly.smith@databricks.com</td><td>400</td><td>2024-12-11T11:58:52.684Z</td><td>0</td><td>0</td><td>1120</td><td>0</td><td>Map()</td><td>false</td><td>455f0d9643774b9d983341c928fe03c6</td></tr><tr><td>556849771150522</td><td>05054295-4959-42dc-abf8-934d75c36417</td><td>null</td><td>1fe6a664-fff8-46b1-badc-6fade0934e3c</td><td>holly.smith@databricks.com</td><td>400</td><td>2024-12-11T11:59:11.609Z</td><td>0</td><td>0</td><td>1112</td><td>0</td><td>Map()</td><td>false</td><td>455f0d9643774b9d983341c928fe03c6</td></tr><tr><td>556849771150522</td><td>05054295-4959-42dc-abf8-934d75c36417</td><td>null</td><td>a4b5374b-7029-4e65-b474-2c884e087f48</td><td>holly.smith@databricks.com</td><td>400</td><td>2024-12-11T11:56:43.078Z</td><td>0</td><td>0</td><td>21</td><td>0</td><td>Map()</td><td>false</td><td>455f0d9643774b9d983341c928fe03c6</td></tr><tr><td>556849771150522</td><td>05054295-4959-42dc-abf8-934d75c36417</td><td>null</td><td>9a2b8197-b167-46de-b3f4-1c3ef83d7221</td><td>holly.smith@databricks.com</td><td>400</td><td>2024-12-11T11:55:40.779Z</td><td>0</td><td>0</td><td>38</td><td>0</td><td>Map()</td><td>false</td><td>455f0d9643774b9d983341c928fe03c6</td></tr><tr><td>556849771150522</td><td>05054295-4959-42dc-abf8-934d75c36417</td><td>null</td><td>dbb5e0da-c788-4936-90b3-c98bd1954ce9</td><td>holly.smith@databricks.com</td><td>400</td><td>2024-12-11T11:54:38.386Z</td><td>0</td><td>0</td><td>38</td><td>0</td><td>Map()</td><td>false</td><td>455f0d9643774b9d983341c928fe03c6</td></tr><tr><td>556849771150522</td><td>05054295-4959-42dc-abf8-934d75c36417</td><td>null</td><td>b43ddd25-6fa2-4967-9a1b-e9cbe1025399</td><td>holly.smith@databricks.com</td><td>400</td><td>2024-12-11T11:55:47.318Z</td><td>0</td><td>0</td><td>38</td><td>0</td><td>Map()</td><td>false</td><td>455f0d9643774b9d983341c928fe03c6</td></tr></tbody></table></div>"
      ]
     },
     "metadata": {
      "application/vnd.databricks.v1+output": {
       "addedWidgets": {},
       "aggData": [],
       "aggError": "",
       "aggOverflow": false,
       "aggSchema": [],
       "aggSeriesLimitReached": false,
       "aggType": "",
       "arguments": {},
       "columnCustomDisplayInfos": {},
       "data": [
        [
         "556849771150522",
         "05054295-4959-42dc-abf8-934d75c36417",
         null,
         "b336623b-6f95-4ddd-8992-e54a873a1b46",
         "holly.smith@databricks.com",
         200,
         "2024-12-11T11:59:14.046Z",
         259,
         159,
         1112,
         734,
         {},
         false,
         "f7c5c305af1d4dacb0ebdd6f447ba1be"
        ],
        [
         "556849771150522",
         "05054295-4959-42dc-abf8-934d75c36417",
         null,
         "04ff5243-ba02-471d-afdc-9b382a364b7f",
         "holly.smith@databricks.com",
         200,
         "2024-12-11T11:57:39.551Z",
         13,
         232,
         21,
         1067,
         {},
         false,
         "f7c5c305af1d4dacb0ebdd6f447ba1be"
        ],
        [
         "556849771150522",
         "05054295-4959-42dc-abf8-934d75c36417",
         null,
         "2d11499f-56a9-4044-9e74-bd1cd6859860",
         "holly.smith@databricks.com",
         400,
         "2024-12-11T11:58:12.250Z",
         0,
         0,
         1120,
         0,
         {},
         false,
         "f7c5c305af1d4dacb0ebdd6f447ba1be"
        ],
        [
         "556849771150522",
         "05054295-4959-42dc-abf8-934d75c36417",
         null,
         "69a173a6-f21a-4516-bff7-6df730795911",
         "holly.smith@databricks.com",
         400,
         "2024-12-11T11:59:48.876Z",
         0,
         0,
         1873,
         0,
         {},
         false,
         "f7c5c305af1d4dacb0ebdd6f447ba1be"
        ],
        [
         "556849771150522",
         "05054295-4959-42dc-abf8-934d75c36417",
         null,
         "d7926e60-d150-415c-8a51-e12e4a4541b5",
         "holly.smith@databricks.com",
         400,
         "2024-12-11T11:58:52.684Z",
         0,
         0,
         1120,
         0,
         {},
         false,
         "455f0d9643774b9d983341c928fe03c6"
        ],
        [
         "556849771150522",
         "05054295-4959-42dc-abf8-934d75c36417",
         null,
         "1fe6a664-fff8-46b1-badc-6fade0934e3c",
         "holly.smith@databricks.com",
         400,
         "2024-12-11T11:59:11.609Z",
         0,
         0,
         1112,
         0,
         {},
         false,
         "455f0d9643774b9d983341c928fe03c6"
        ],
        [
         "556849771150522",
         "05054295-4959-42dc-abf8-934d75c36417",
         null,
         "a4b5374b-7029-4e65-b474-2c884e087f48",
         "holly.smith@databricks.com",
         400,
         "2024-12-11T11:56:43.078Z",
         0,
         0,
         21,
         0,
         {},
         false,
         "455f0d9643774b9d983341c928fe03c6"
        ],
        [
         "556849771150522",
         "05054295-4959-42dc-abf8-934d75c36417",
         null,
         "9a2b8197-b167-46de-b3f4-1c3ef83d7221",
         "holly.smith@databricks.com",
         400,
         "2024-12-11T11:55:40.779Z",
         0,
         0,
         38,
         0,
         {},
         false,
         "455f0d9643774b9d983341c928fe03c6"
        ],
        [
         "556849771150522",
         "05054295-4959-42dc-abf8-934d75c36417",
         null,
         "dbb5e0da-c788-4936-90b3-c98bd1954ce9",
         "holly.smith@databricks.com",
         400,
         "2024-12-11T11:54:38.386Z",
         0,
         0,
         38,
         0,
         {},
         false,
         "455f0d9643774b9d983341c928fe03c6"
        ],
        [
         "556849771150522",
         "05054295-4959-42dc-abf8-934d75c36417",
         null,
         "b43ddd25-6fa2-4967-9a1b-e9cbe1025399",
         "holly.smith@databricks.com",
         400,
         "2024-12-11T11:55:47.318Z",
         0,
         0,
         38,
         0,
         {},
         false,
         "455f0d9643774b9d983341c928fe03c6"
        ]
       ],
       "datasetInfos": [
        {
         "name": "_sqldf",
         "schema": {
          "fields": [
           {
            "metadata": {},
            "name": "workspace_id",
            "nullable": true,
            "type": "string"
           },
           {
            "metadata": {},
            "name": "account_id",
            "nullable": true,
            "type": "string"
           },
           {
            "metadata": {},
            "name": "client_request_id",
            "nullable": true,
            "type": "string"
           },
           {
            "metadata": {},
            "name": "databricks_request_id",
            "nullable": true,
            "type": "string"
           },
           {
            "metadata": {},
            "name": "requester",
            "nullable": true,
            "type": "string"
           },
           {
            "metadata": {},
            "name": "status_code",
            "nullable": true,
            "type": "integer"
           },
           {
            "metadata": {},
            "name": "request_time",
            "nullable": true,
            "type": "timestamp"
           },
           {
            "metadata": {},
            "name": "input_token_count",
            "nullable": true,
            "type": "long"
           },
           {
            "metadata": {},
            "name": "output_token_count",
            "nullable": true,
            "type": "long"
           },
           {
            "metadata": {},
            "name": "input_character_count",
            "nullable": true,
            "type": "long"
           },
           {
            "metadata": {},
            "name": "output_character_count",
            "nullable": true,
            "type": "long"
           },
           {
            "metadata": {},
            "name": "usage_context",
            "nullable": true,
            "type": {
             "keyType": "string",
             "type": "map",
             "valueContainsNull": true,
             "valueType": "string"
            }
           },
           {
            "metadata": {},
            "name": "request_streaming",
            "nullable": true,
            "type": "boolean"
           },
           {
            "metadata": {},
            "name": "served_entity_id",
            "nullable": true,
            "type": "string"
           }
          ],
          "type": "struct"
         },
         "tableIdentifier": null,
         "typeStr": "pyspark.sql.connect.dataframe.DataFrame"
        }
       ],
       "dbfsResultPath": null,
       "isJsonSchema": true,
       "metadata": {
        "createTempViewForImplicitDf": true,
        "dataframeName": "_sqldf",
        "executionCount": 105
       },
       "overflow": false,
       "plotOptions": {
        "customPlotOptions": {},
        "displayType": "table",
        "pivotAggregation": null,
        "pivotColumns": null,
        "xColumns": null,
        "yColumns": null
       },
       "removedWidgets": [],
       "schema": [
        {
         "metadata": "{}",
         "name": "workspace_id",
         "type": "\"string\""
        },
        {
         "metadata": "{}",
         "name": "account_id",
         "type": "\"string\""
        },
        {
         "metadata": "{}",
         "name": "client_request_id",
         "type": "\"string\""
        },
        {
         "metadata": "{}",
         "name": "databricks_request_id",
         "type": "\"string\""
        },
        {
         "metadata": "{}",
         "name": "requester",
         "type": "\"string\""
        },
        {
         "metadata": "{}",
         "name": "status_code",
         "type": "\"integer\""
        },
        {
         "metadata": "{}",
         "name": "request_time",
         "type": "\"timestamp\""
        },
        {
         "metadata": "{}",
         "name": "input_token_count",
         "type": "\"long\""
        },
        {
         "metadata": "{}",
         "name": "output_token_count",
         "type": "\"long\""
        },
        {
         "metadata": "{}",
         "name": "input_character_count",
         "type": "\"long\""
        },
        {
         "metadata": "{}",
         "name": "output_character_count",
         "type": "\"long\""
        },
        {
         "metadata": "{}",
         "name": "usage_context",
         "type": "{\"keyType\":\"string\",\"type\":\"map\",\"valueContainsNull\":true,\"valueType\":\"string\"}"
        },
        {
         "metadata": "{}",
         "name": "request_streaming",
         "type": "\"boolean\""
        },
        {
         "metadata": "{}",
         "name": "served_entity_id",
         "type": "\"string\""
        }
       ],
       "type": "table"
      }
     },
     "output_type": "display_data"
    }
   ],
   "source": [
    "select * from system.serving.endpoint_usage"
   ]
  },
  {
   "cell_type": "code",
   "execution_count": 0,
   "metadata": {
    "application/vnd.databricks.v1+cell": {
     "cellMetadata": {
      "byteLimit": 2048000,
      "rowLimit": 10000
     },
     "inputWidgets": {},
     "nuid": "544ee39b-c13c-4c3e-90de-0f7e1a582547",
     "showTitle": true,
     "tableResultSettingsMap": {},
     "title": "list of endpoints"
    }
   },
   "outputs": [
    {
     "output_type": "display_data",
     "data": {
      "text/html": [
       "<style scoped>\n",
       "  .table-result-container {\n",
       "    max-height: 300px;\n",
       "    overflow: auto;\n",
       "  }\n",
       "  table, th, td {\n",
       "    border: 1px solid black;\n",
       "    border-collapse: collapse;\n",
       "  }\n",
       "  th, td {\n",
       "    padding: 5px;\n",
       "  }\n",
       "  th {\n",
       "    text-align: left;\n",
       "  }\n",
       "</style><div class='table-result-container'><table class='table-result'><thead style='background-color: white'><tr><th>served_entity_id</th><th>account_id</th><th>workspace_id</th><th>created_by</th><th>endpoint_name</th><th>endpoint_id</th><th>served_entity_name</th><th>entity_type</th><th>entity_name</th><th>entity_version</th><th>endpoint_config_version</th><th>task</th><th>external_model_config</th><th>foundation_model_config</th><th>custom_model_config</th><th>feature_spec_config</th><th>change_time</th><th>endpoint_delete_time</th></tr></thead><tbody><tr><td>455f0d9643774b9d983341c928fe03c6</td><td>05054295-4959-42dc-abf8-934d75c36417</td><td>556849771150522</td><td>daniel.liden@databricks.com</td><td>DL-external-models</td><td>89fe6eeb07d246b2bab727e9d5ecd78d</td><td>claude-3-haiku</td><td>EXTERNAL_MODEL</td><td>claude-3-haiku-20240307</td><td>null</td><td>1</td><td>llm/v1/chat</td><td>List(anthropic)</td><td>null</td><td>null</td><td>null</td><td>2024-08-15T15:29:48.000Z</td><td>null</td></tr><tr><td>f7c5c305af1d4dacb0ebdd6f447ba1be</td><td>05054295-4959-42dc-abf8-934d75c36417</td><td>556849771150522</td><td>daniel.liden@databricks.com</td><td>DL-external-models</td><td>89fe6eeb07d246b2bab727e9d5ecd78d</td><td>gpt-4o-mini</td><td>EXTERNAL_MODEL</td><td>gpt-4o-mini</td><td>null</td><td>1</td><td>llm/v1/chat</td><td>List(openai)</td><td>null</td><td>null</td><td>null</td><td>2024-08-15T15:29:48.000Z</td><td>null</td></tr></tbody></table></div>"
      ]
     },
     "metadata": {
      "application/vnd.databricks.v1+output": {
       "addedWidgets": {},
       "aggData": [],
       "aggError": "",
       "aggOverflow": false,
       "aggSchema": [],
       "aggSeriesLimitReached": false,
       "aggType": "",
       "arguments": {},
       "columnCustomDisplayInfos": {},
       "data": [
        [
         "455f0d9643774b9d983341c928fe03c6",
         "05054295-4959-42dc-abf8-934d75c36417",
         "556849771150522",
         "daniel.liden@databricks.com",
         "DL-external-models",
         "89fe6eeb07d246b2bab727e9d5ecd78d",
         "claude-3-haiku",
         "EXTERNAL_MODEL",
         "claude-3-haiku-20240307",
         null,
         1,
         "llm/v1/chat",
         [
          "anthropic"
         ],
         null,
         null,
         null,
         "2024-08-15T15:29:48.000Z",
         null
        ],
        [
         "f7c5c305af1d4dacb0ebdd6f447ba1be",
         "05054295-4959-42dc-abf8-934d75c36417",
         "556849771150522",
         "daniel.liden@databricks.com",
         "DL-external-models",
         "89fe6eeb07d246b2bab727e9d5ecd78d",
         "gpt-4o-mini",
         "EXTERNAL_MODEL",
         "gpt-4o-mini",
         null,
         1,
         "llm/v1/chat",
         [
          "openai"
         ],
         null,
         null,
         null,
         "2024-08-15T15:29:48.000Z",
         null
        ]
       ],
       "datasetInfos": [
        {
         "name": "_sqldf",
         "schema": {
          "fields": [
           {
            "metadata": {},
            "name": "served_entity_id",
            "nullable": true,
            "type": "string"
           },
           {
            "metadata": {},
            "name": "account_id",
            "nullable": true,
            "type": "string"
           },
           {
            "metadata": {},
            "name": "workspace_id",
            "nullable": true,
            "type": "string"
           },
           {
            "metadata": {},
            "name": "created_by",
            "nullable": true,
            "type": "string"
           },
           {
            "metadata": {},
            "name": "endpoint_name",
            "nullable": true,
            "type": "string"
           },
           {
            "metadata": {},
            "name": "endpoint_id",
            "nullable": true,
            "type": "string"
           },
           {
            "metadata": {},
            "name": "served_entity_name",
            "nullable": true,
            "type": "string"
           },
           {
            "metadata": {},
            "name": "entity_type",
            "nullable": true,
            "type": "string"
           },
           {
            "metadata": {},
            "name": "entity_name",
            "nullable": true,
            "type": "string"
           },
           {
            "metadata": {},
            "name": "entity_version",
            "nullable": true,
            "type": "string"
           },
           {
            "metadata": {},
            "name": "endpoint_config_version",
            "nullable": true,
            "type": "integer"
           },
           {
            "metadata": {},
            "name": "task",
            "nullable": true,
            "type": "string"
           },
           {
            "metadata": {},
            "name": "external_model_config",
            "nullable": true,
            "type": {
             "fields": [
              {
               "metadata": {},
               "name": "provider",
               "nullable": true,
               "type": "string"
              }
             ],
             "type": "struct"
            }
           },
           {
            "metadata": {},
            "name": "foundation_model_config",
            "nullable": true,
            "type": {
             "fields": [
              {
               "metadata": {},
               "name": "min_provisioned_throughput",
               "nullable": true,
               "type": "long"
              },
              {
               "metadata": {},
               "name": "max_provisioned_throughput",
               "nullable": true,
               "type": "long"
              }
             ],
             "type": "struct"
            }
           },
           {
            "metadata": {},
            "name": "custom_model_config",
            "nullable": true,
            "type": {
             "fields": [
              {
               "metadata": {},
               "name": "min_concurrency",
               "nullable": true,
               "type": "integer"
              },
              {
               "metadata": {},
               "name": "max_concurrency",
               "nullable": true,
               "type": "integer"
              },
              {
               "metadata": {},
               "name": "compute_type",
               "nullable": true,
               "type": "string"
              }
             ],
             "type": "struct"
            }
           },
           {
            "metadata": {},
            "name": "feature_spec_config",
            "nullable": true,
            "type": {
             "fields": [
              {
               "metadata": {},
               "name": "min_concurrency",
               "nullable": true,
               "type": "integer"
              },
              {
               "metadata": {},
               "name": "max_concurrency",
               "nullable": true,
               "type": "integer"
              },
              {
               "metadata": {},
               "name": "compute_type",
               "nullable": true,
               "type": "string"
              }
             ],
             "type": "struct"
            }
           },
           {
            "metadata": {},
            "name": "change_time",
            "nullable": true,
            "type": "timestamp"
           },
           {
            "metadata": {},
            "name": "endpoint_delete_time",
            "nullable": true,
            "type": "timestamp"
           }
          ],
          "type": "struct"
         },
         "tableIdentifier": null,
         "typeStr": "pyspark.sql.connect.dataframe.DataFrame"
        }
       ],
       "dbfsResultPath": null,
       "isJsonSchema": true,
       "metadata": {
        "createTempViewForImplicitDf": true,
        "dataframeName": "_sqldf",
        "executionCount": 106
       },
       "overflow": false,
       "plotOptions": {
        "customPlotOptions": {},
        "displayType": "table",
        "pivotAggregation": null,
        "pivotColumns": null,
        "xColumns": null,
        "yColumns": null
       },
       "removedWidgets": [],
       "schema": [
        {
         "metadata": "{}",
         "name": "served_entity_id",
         "type": "\"string\""
        },
        {
         "metadata": "{}",
         "name": "account_id",
         "type": "\"string\""
        },
        {
         "metadata": "{}",
         "name": "workspace_id",
         "type": "\"string\""
        },
        {
         "metadata": "{}",
         "name": "created_by",
         "type": "\"string\""
        },
        {
         "metadata": "{}",
         "name": "endpoint_name",
         "type": "\"string\""
        },
        {
         "metadata": "{}",
         "name": "endpoint_id",
         "type": "\"string\""
        },
        {
         "metadata": "{}",
         "name": "served_entity_name",
         "type": "\"string\""
        },
        {
         "metadata": "{}",
         "name": "entity_type",
         "type": "\"string\""
        },
        {
         "metadata": "{}",
         "name": "entity_name",
         "type": "\"string\""
        },
        {
         "metadata": "{}",
         "name": "entity_version",
         "type": "\"string\""
        },
        {
         "metadata": "{}",
         "name": "endpoint_config_version",
         "type": "\"integer\""
        },
        {
         "metadata": "{}",
         "name": "task",
         "type": "\"string\""
        },
        {
         "metadata": "{}",
         "name": "external_model_config",
         "type": "{\"fields\":[{\"metadata\":{},\"name\":\"provider\",\"nullable\":true,\"type\":\"string\"}],\"type\":\"struct\"}"
        },
        {
         "metadata": "{}",
         "name": "foundation_model_config",
         "type": "{\"fields\":[{\"metadata\":{},\"name\":\"min_provisioned_throughput\",\"nullable\":true,\"type\":\"long\"},{\"metadata\":{},\"name\":\"max_provisioned_throughput\",\"nullable\":true,\"type\":\"long\"}],\"type\":\"struct\"}"
        },
        {
         "metadata": "{}",
         "name": "custom_model_config",
         "type": "{\"fields\":[{\"metadata\":{},\"name\":\"min_concurrency\",\"nullable\":true,\"type\":\"integer\"},{\"metadata\":{},\"name\":\"max_concurrency\",\"nullable\":true,\"type\":\"integer\"},{\"metadata\":{},\"name\":\"compute_type\",\"nullable\":true,\"type\":\"string\"}],\"type\":\"struct\"}"
        },
        {
         "metadata": "{}",
         "name": "feature_spec_config",
         "type": "{\"fields\":[{\"metadata\":{},\"name\":\"min_concurrency\",\"nullable\":true,\"type\":\"integer\"},{\"metadata\":{},\"name\":\"max_concurrency\",\"nullable\":true,\"type\":\"integer\"},{\"metadata\":{},\"name\":\"compute_type\",\"nullable\":true,\"type\":\"string\"}],\"type\":\"struct\"}"
        },
        {
         "metadata": "{}",
         "name": "change_time",
         "type": "\"timestamp\""
        },
        {
         "metadata": "{}",
         "name": "endpoint_delete_time",
         "type": "\"timestamp\""
        }
       ],
       "type": "table"
      }
     },
     "output_type": "display_data"
    }
   ],
   "source": [
    "select * from system.serving.served_entities"
   ]
  },
  {
   "cell_type": "code",
   "execution_count": 0,
   "metadata": {
    "application/vnd.databricks.v1+cell": {
     "cellMetadata": {
      "byteLimit": 2048000,
      "rowLimit": 10000
     },
     "inputWidgets": {},
     "nuid": "78ed206c-672a-41d8-af81-783bc1bc27e3",
     "showTitle": true,
     "tableResultSettingsMap": {},
     "title": "query inference tables"
    }
   },
   "outputs": [
    {
     "output_type": "display_data",
     "data": {
      "text/html": [
       "<style scoped>\n",
       "  .table-result-container {\n",
       "    max-height: 300px;\n",
       "    overflow: auto;\n",
       "  }\n",
       "  table, th, td {\n",
       "    border: 1px solid black;\n",
       "    border-collapse: collapse;\n",
       "  }\n",
       "  th, td {\n",
       "    padding: 5px;\n",
       "  }\n",
       "  th {\n",
       "    text-align: left;\n",
       "  }\n",
       "</style><div class='table-result-container'><table class='table-result'><thead style='background-color: white'><tr><th>request_date</th><th>databricks_request_id</th><th>client_request_id</th><th>request_time</th><th>status_code</th><th>sampling_fraction</th><th>execution_duration_ms</th><th>request</th><th>response</th><th>served_entity_id</th><th>logging_error_codes</th><th>requester</th></tr></thead><tbody><tr><td>2024-12-11</td><td>04ff5243-ba02-471d-afdc-9b382a364b7f</td><td>null</td><td>2024-12-11T11:57:39.551Z</td><td>200</td><td>1.0</td><td>5625</td><td>{\"messages\":[{\"role\":\"user\",\"content\":\"what's a good cookie?\"}],\"temperature\":0,\"top_p\":0.95,\"stream\":false}</td><td>{\n",
       "  \"id\": \"chatcmpl-AdFdUDeGKqobSaUUCnsq2GW2QJQWJ\",\n",
       "  \"object\": \"chat.completion\",\n",
       "  \"created\": 1733918260,\n",
       "  \"model\": \"gpt-4o-mini-2024-07-18\",\n",
       "  \"choices\": [\n",
       "    {\n",
       "      \"index\": 0,\n",
       "      \"message\": {\n",
       "        \"role\": \"assistant\",\n",
       "        \"content\": \"A good cookie often depends on personal preference, but some popular favorites include:\\n\\n1. **Chocolate Chip Cookies**: Classic and beloved, these cookies are soft and chewy with melty chocolate chips.\\n2. **Oatmeal Raisin Cookies**: Chewy and hearty, these cookies combine oats and raisins for a satisfying texture and flavor.\\n3. **Peanut Butter Cookies**: Rich and nutty, these cookies often have a crisscross pattern on top and a deliciously creamy taste.\\n4. **Snickerdoodles**: Soft and cinnamon-sugar coated, these cookies have a delightful tang from cream of tartar.\\n5. **Sugar Cookies**: Simple and sweet, sugar cookies can be decorated with icing or sprinkles for a festive touch.\\n6. **Double Chocolate Cookies**: For chocolate lovers, these cookies are made with cocoa powder and chocolate chips for an extra chocolatey experience.\\n7. **Macarons**: These French cookies are delicate and come in various flavors, with a crisp shell and a creamy filling.\\n\\nUltimately, a good cookie is one that brings you joy, whether it's homemade or from your favorite bakery!\",\n",
       "        \"refusal\": null\n",
       "      },\n",
       "      \"logprobs\": null,\n",
       "      \"finish_reason\": \"stop\"\n",
       "    }\n",
       "  ],\n",
       "  \"usage\": {\n",
       "    \"prompt_tokens\": 13,\n",
       "    \"completion_tokens\": 232,\n",
       "    \"total_tokens\": 245,\n",
       "    \"prompt_tokens_details\": {\n",
       "      \"cached_tokens\": 0,\n",
       "      \"audio_tokens\": 0\n",
       "    },\n",
       "    \"completion_tokens_details\": {\n",
       "      \"reasoning_tokens\": 0,\n",
       "      \"audio_tokens\": 0,\n",
       "      \"accepted_prediction_tokens\": 0,\n",
       "      \"rejected_prediction_tokens\": 0\n",
       "    }\n",
       "  },\n",
       "  \"system_fingerprint\": \"fp_818c284075\"\n",
       "}\n",
       "</td><td>f7c5c305af1d4dacb0ebdd6f447ba1be</td><td>List()</td><td>holly.smith@databricks.com</td></tr><tr><td>2024-12-11</td><td>b336623b-6f95-4ddd-8992-e54a873a1b46</td><td>null</td><td>2024-12-11T11:59:14.046Z</td><td>200</td><td>1.0</td><td>8467</td><td>{\"messages\":[{\"role\":\"user\",\"content\":\"what's a good cookie?\"},{\"role\":\"assistant\",\"content\":\"A good cookie often depends on personal preference, but some popular favorites include:\\n\\n1. **Chocolate Chip Cookies**: Classic and beloved, these cookies are soft and chewy with melty chocolate chips.\\n2. **Oatmeal Raisin Cookies**: Chewy and hearty, these cookies combine oats and raisins for a satisfying texture and flavor.\\n3. **Peanut Butter Cookies**: Rich and nutty, these cookies often have a crisscross pattern on top and a deliciously creamy taste.\\n4. **Snickerdoodles**: Soft and cinnamon-sugar coated, these cookies have a delightful tang from cream of tartar.\\n5. **Sugar Cookies**: Simple and sweet, sugar cookies can be decorated with icing or sprinkles for a festive touch.\\n6. **Double Chocolate Cookies**: For chocolate lovers, these cookies are made with cocoa powder and chocolate chips for an extra chocolatey experience.\\n7. **Macarons**: These French cookies are delicate and come in various flavors, with a crisp shell and a creamy filling.\\n\\nUltimately, a good cookie is one that brings you joy, whether it's homemade or from your favorite bakery!\"},{\"role\":\"user\",\"content\":\"are cookies a good gift?\"}],\"temperature\":0,\"top_p\":0.95,\"stream\":false}</td><td>{\n",
       "  \"id\": \"chatcmpl-AdFf0Zta2ChROJxtGpYJ08kX6XRcW\",\n",
       "  \"object\": \"chat.completion\",\n",
       "  \"created\": 1733918354,\n",
       "  \"model\": \"gpt-4o-mini-2024-07-18\",\n",
       "  \"choices\": [\n",
       "    {\n",
       "      \"index\": 0,\n",
       "      \"message\": {\n",
       "        \"role\": \"assistant\",\n",
       "        \"content\": \"Yes, cookies can make a great gift! Here are a few reasons why:\\n\\n1. **Personal Touch**: Homemade cookies show thoughtfulness and effort, making them a heartfelt gift.\\n2. **Variety**: There are countless cookie recipes and flavors, allowing you to customize your gift to the recipient's preferences.\\n3. **Shareable**: Cookies are easy to share, making them a great treat for gatherings or family events.\\n4. **Presentation**: You can package cookies beautifully in jars, boxes, or tins, adding to the gift's appeal.\\n5. **Occasions**: Cookies are suitable for various occasions, from holidays and birthdays to thank-you gifts or just because.\\n\\nOverall, cookies can be a delightful and appreciated gift for friends, family, or colleagues!\",\n",
       "        \"refusal\": null\n",
       "      },\n",
       "      \"logprobs\": null,\n",
       "      \"finish_reason\": \"stop\"\n",
       "    }\n",
       "  ],\n",
       "  \"usage\": {\n",
       "    \"prompt_tokens\": 259,\n",
       "    \"completion_tokens\": 159,\n",
       "    \"total_tokens\": 418,\n",
       "    \"prompt_tokens_details\": {\n",
       "      \"cached_tokens\": 0,\n",
       "      \"audio_tokens\": 0\n",
       "    },\n",
       "    \"completion_tokens_details\": {\n",
       "      \"reasoning_tokens\": 0,\n",
       "      \"audio_tokens\": 0,\n",
       "      \"accepted_prediction_tokens\": 0,\n",
       "      \"rejected_prediction_tokens\": 0\n",
       "    }\n",
       "  },\n",
       "  \"system_fingerprint\": \"fp_bba3c8e70b\"\n",
       "}\n",
       "</td><td>f7c5c305af1d4dacb0ebdd6f447ba1be</td><td>List()</td><td>holly.smith@databricks.com</td></tr><tr><td>2024-12-11</td><td>69a173a6-f21a-4516-bff7-6df730795911</td><td>null</td><td>2024-12-11T11:59:48.876Z</td><td>400</td><td>1.0</td><td>515</td><td>{\"messages\":[{\"role\":\"user\",\"content\":\"what's a good cookie?\"},{\"role\":\"assistant\",\"content\":\"A good cookie often depends on personal preference, but some popular favorites include:\\n\\n1. **Chocolate Chip Cookies**: Classic and beloved, these cookies are soft and chewy with melty chocolate chips.\\n2. **Oatmeal Raisin Cookies**: Chewy and hearty, these cookies combine oats and raisins for a satisfying texture and flavor.\\n3. **Peanut Butter Cookies**: Rich and nutty, these cookies often have a crisscross pattern on top and a deliciously creamy taste.\\n4. **Snickerdoodles**: Soft and cinnamon-sugar coated, these cookies have a delightful tang from cream of tartar.\\n5. **Sugar Cookies**: Simple and sweet, sugar cookies can be decorated with icing or sprinkles for a festive touch.\\n6. **Double Chocolate Cookies**: For chocolate lovers, these cookies are made with cocoa powder and chocolate chips for an extra chocolatey experience.\\n7. **Macarons**: These French cookies are delicate and come in various flavors, with a crisp shell and a creamy filling.\\n\\nUltimately, a good cookie is one that brings you joy, whether it's homemade or from your favorite bakery!\"},{\"role\":\"user\",\"content\":\"are cookies a good gift?\"},{\"role\":\"assistant\",\"content\":\"Yes, cookies can make a great gift! Here are a few reasons why:\\n\\n1. **Personal Touch**: Homemade cookies show thoughtfulness and effort, making them a heartfelt gift.\\n2. **Variety**: There are countless cookie recipes and flavors, allowing you to customize your gift to the recipient's preferences.\\n3. **Shareable**: Cookies are easy to share, making them a great treat for gatherings or family events.\\n4. **Presentation**: You can package cookies beautifully in jars, boxes, or tins, adding to the gift's appeal.\\n5. **Occasions**: Cookies are suitable for various occasions, from holidays and birthdays to thank-you gifts or just because.\\n\\nOverall, cookies can be a delightful and appreciated gift for friends, family, or colleagues!\"},{\"role\":\"user\",\"content\":\"is cake good for birthdays?\"}],\"temperature\":0,\"top_p\":0.95,\"stream\":false}</td><td>{\"usage\":{\"prompt_tokens\":587,\"total_tokens\":587},\"input_guardrail\":[{\"flagged\":false,\"categories\":{\"violent-crimes\":false,\"non-violent-crimes\":false,\"sex-crimes\":false,\"child-exploitation\":false,\"specialized-advice\":false,\"privacy\":false,\"intellectual-property\":false,\"indiscriminate-weapons\":false,\"hate\":false,\"self-harm\":false,\"sexual-content\":false},\"category_scores\":null,\"pii_detection\":false,\"anonymized_input\":null,\"invalid_keywords\":null,\"off_topic\":true}],\"finishReason\":\"input_guardrail_triggered\"}</td><td>f7c5c305af1d4dacb0ebdd6f447ba1be</td><td>List()</td><td>holly.smith@databricks.com</td></tr><tr><td>2024-12-11</td><td>2d11499f-56a9-4044-9e74-bd1cd6859860</td><td>null</td><td>2024-12-11T11:58:12.250Z</td><td>400</td><td>1.0</td><td>7615</td><td>{\"messages\":[{\"role\":\"user\",\"content\":\"what's a good cookie?\"},{\"role\":\"assistant\",\"content\":\"A good cookie often depends on personal preference, but some popular favorites include:\\n\\n1. **Chocolate Chip Cookies**: Classic and beloved, these cookies are soft and chewy with melty chocolate chips.\\n2. **Oatmeal Raisin Cookies**: Chewy and hearty, these cookies combine oats and raisins for a satisfying texture and flavor.\\n3. **Peanut Butter Cookies**: Rich and nutty, these cookies often have a crisscross pattern on top and a deliciously creamy taste.\\n4. **Snickerdoodles**: Soft and cinnamon-sugar coated, these cookies have a delightful tang from cream of tartar.\\n5. **Sugar Cookies**: Simple and sweet, sugar cookies can be decorated with icing or sprinkles for a festive touch.\\n6. **Double Chocolate Cookies**: For chocolate lovers, these cookies are made with cocoa powder and chocolate chips for an extra chocolatey experience.\\n7. **Macarons**: These French cookies are delicate and come in various flavors, with a crisp shell and a creamy filling.\\n\\nUltimately, a good cookie is one that brings you joy, whether it's homemade or from your favorite bakery!\"},{\"role\":\"user\",\"content\":\"are croissants a good breakfast?\"}],\"temperature\":0,\"top_p\":0.95,\"stream\":false}</td><td>{\"usage\":{\"prompt_tokens\":413,\"total_tokens\":413},\"output_guardrail\":[{\"flagged\":false,\"categories\":{\"violent-crimes\":false,\"non-violent-crimes\":false,\"sex-crimes\":false,\"child-exploitation\":false,\"specialized-advice\":false,\"privacy\":false,\"intellectual-property\":false,\"indiscriminate-weapons\":false,\"hate\":false,\"self-harm\":false,\"sexual-content\":false},\"category_scores\":null,\"pii_detection\":null,\"anonymized_input\":null,\"invalid_keywords\":true,\"off_topic\":null}],\"finishReason\":\"output_guardrail_triggered\"}</td><td>f7c5c305af1d4dacb0ebdd6f447ba1be</td><td>List()</td><td>holly.smith@databricks.com</td></tr><tr><td>2024-12-11</td><td>d7926e60-d150-415c-8a51-e12e4a4541b5</td><td>null</td><td>2024-12-11T11:58:52.684Z</td><td>400</td><td>1.0</td><td>840</td><td>{\"messages\":[{\"role\":\"user\",\"content\":\"what's a good cookie?\"},{\"role\":\"assistant\",\"content\":\"A good cookie often depends on personal preference, but some popular favorites include:\\n\\n1. **Chocolate Chip Cookies**: Classic and beloved, these cookies are soft and chewy with melty chocolate chips.\\n2. **Oatmeal Raisin Cookies**: Chewy and hearty, these cookies combine oats and raisins for a satisfying texture and flavor.\\n3. **Peanut Butter Cookies**: Rich and nutty, these cookies often have a crisscross pattern on top and a deliciously creamy taste.\\n4. **Snickerdoodles**: Soft and cinnamon-sugar coated, these cookies have a delightful tang from cream of tartar.\\n5. **Sugar Cookies**: Simple and sweet, sugar cookies can be decorated with icing or sprinkles for a festive touch.\\n6. **Double Chocolate Cookies**: For chocolate lovers, these cookies are made with cocoa powder and chocolate chips for an extra chocolatey experience.\\n7. **Macarons**: These French cookies are delicate and come in various flavors, with a crisp shell and a creamy filling.\\n\\nUltimately, a good cookie is one that brings you joy, whether it's homemade or from your favorite bakery!\"},{\"role\":\"user\",\"content\":\"are croissants a good breakfast?\"}],\"temperature\":0,\"top_p\":0.95,\"stream\":false}</td><td>{\"usage\":{\"prompt_tokens\":425,\"total_tokens\":425},\"input_guardrail\":[{\"flagged\":false,\"categories\":{\"violent-crimes\":false,\"non-violent-crimes\":false,\"sex-crimes\":false,\"child-exploitation\":false,\"specialized-advice\":false,\"privacy\":false,\"intellectual-property\":false,\"indiscriminate-weapons\":false,\"hate\":false,\"self-harm\":false,\"sexual-content\":false},\"category_scores\":null,\"pii_detection\":false,\"anonymized_input\":null,\"invalid_keywords\":null,\"off_topic\":true}],\"finishReason\":\"input_guardrail_triggered\"}</td><td>455f0d9643774b9d983341c928fe03c6</td><td>List()</td><td>holly.smith@databricks.com</td></tr><tr><td>2024-12-11</td><td>1fe6a664-fff8-46b1-badc-6fade0934e3c</td><td>null</td><td>2024-12-11T11:59:11.609Z</td><td>400</td><td>1.0</td><td>537</td><td>{\"messages\":[{\"role\":\"user\",\"content\":\"what's a good cookie?\"},{\"role\":\"assistant\",\"content\":\"A good cookie often depends on personal preference, but some popular favorites include:\\n\\n1. **Chocolate Chip Cookies**: Classic and beloved, these cookies are soft and chewy with melty chocolate chips.\\n2. **Oatmeal Raisin Cookies**: Chewy and hearty, these cookies combine oats and raisins for a satisfying texture and flavor.\\n3. **Peanut Butter Cookies**: Rich and nutty, these cookies often have a crisscross pattern on top and a deliciously creamy taste.\\n4. **Snickerdoodles**: Soft and cinnamon-sugar coated, these cookies have a delightful tang from cream of tartar.\\n5. **Sugar Cookies**: Simple and sweet, sugar cookies can be decorated with icing or sprinkles for a festive touch.\\n6. **Double Chocolate Cookies**: For chocolate lovers, these cookies are made with cocoa powder and chocolate chips for an extra chocolatey experience.\\n7. **Macarons**: These French cookies are delicate and come in various flavors, with a crisp shell and a creamy filling.\\n\\nUltimately, a good cookie is one that brings you joy, whether it's homemade or from your favorite bakery!\"},{\"role\":\"user\",\"content\":\"are cookies a good gift?\"}],\"temperature\":0,\"top_p\":0.95,\"stream\":false}</td><td>{\"error\":\"Received error from anthropic\",\"external_model_message\":{\"type\":\"error\",\"error\":{\"type\":\"invalid_request_error\",\"message\":\"max_tokens: 8192 > 4096, which is the maximum allowed number of output tokens for claude-3-haiku-20240307\"}}}</td><td>455f0d9643774b9d983341c928fe03c6</td><td>List()</td><td>holly.smith@databricks.com</td></tr><tr><td>2024-12-11</td><td>a4b5374b-7029-4e65-b474-2c884e087f48</td><td>null</td><td>2024-12-11T11:56:43.078Z</td><td>400</td><td>1.0</td><td>499</td><td>{\"messages\":[{\"role\":\"user\",\"content\":\"what's a good cookie?\"}],\"temperature\":0,\"top_p\":0.95,\"stream\":false}</td><td>{\"error\":\"Received error from anthropic\",\"external_model_message\":{\"type\":\"error\",\"error\":{\"type\":\"invalid_request_error\",\"message\":\"max_tokens: 8192 > 4096, which is the maximum allowed number of output tokens for claude-3-haiku-20240307\"}}}</td><td>455f0d9643774b9d983341c928fe03c6</td><td>List()</td><td>holly.smith@databricks.com</td></tr><tr><td>2024-12-11</td><td>9a2b8197-b167-46de-b3f4-1c3ef83d7221</td><td>null</td><td>2024-12-11T11:55:40.779Z</td><td>400</td><td>1.0</td><td>1935</td><td>{\"messages\":[{\"role\":\"user\",\"content\":\"what do you think makes a good cookie?\"}],\"temperature\":0,\"top_p\":0.95,\"stream\":false}</td><td>{\"error\":\"Received error from anthropic\",\"external_model_message\":{\"type\":\"error\",\"error\":{\"type\":\"invalid_request_error\",\"message\":\"max_tokens: 8192 > 4096, which is the maximum allowed number of output tokens for claude-3-haiku-20240307\"}}}</td><td>455f0d9643774b9d983341c928fe03c6</td><td>List()</td><td>holly.smith@databricks.com</td></tr><tr><td>2024-12-11</td><td>dbb5e0da-c788-4936-90b3-c98bd1954ce9</td><td>null</td><td>2024-12-11T11:54:38.386Z</td><td>400</td><td>1.0</td><td>1267</td><td>{\"messages\":[{\"role\":\"user\",\"content\":\"what do you think makes a good cookie?\"}],\"temperature\":0,\"top_p\":0.95,\"stream\":false}</td><td>{\"error\":\"Received error from anthropic\",\"external_model_message\":{\"type\":\"error\",\"error\":{\"type\":\"invalid_request_error\",\"message\":\"max_tokens: 8192 > 4096, which is the maximum allowed number of output tokens for claude-3-haiku-20240307\"}}}</td><td>455f0d9643774b9d983341c928fe03c6</td><td>List()</td><td>holly.smith@databricks.com</td></tr><tr><td>2024-12-11</td><td>b43ddd25-6fa2-4967-9a1b-e9cbe1025399</td><td>null</td><td>2024-12-11T11:55:47.318Z</td><td>400</td><td>1.0</td><td>1260</td><td>{\"messages\":[{\"role\":\"user\",\"content\":\"what do you think makes a good cookie?\"}],\"temperature\":0,\"top_p\":0.95,\"stream\":false}</td><td>{\"error\":\"Received error from anthropic\",\"external_model_message\":{\"type\":\"error\",\"error\":{\"type\":\"invalid_request_error\",\"message\":\"max_tokens: 8192 > 4096, which is the maximum allowed number of output tokens for claude-3-haiku-20240307\"}}}</td><td>455f0d9643774b9d983341c928fe03c6</td><td>List()</td><td>holly.smith@databricks.com</td></tr></tbody></table></div>"
      ]
     },
     "metadata": {
      "application/vnd.databricks.v1+output": {
       "addedWidgets": {},
       "aggData": [],
       "aggError": "",
       "aggOverflow": false,
       "aggSchema": [],
       "aggSeriesLimitReached": false,
       "aggType": "",
       "arguments": {},
       "columnCustomDisplayInfos": {},
       "data": [
        [
         "2024-12-11",
         "04ff5243-ba02-471d-afdc-9b382a364b7f",
         null,
         "2024-12-11T11:57:39.551Z",
         200,
         1.0,
         5625,
         "{\"messages\":[{\"role\":\"user\",\"content\":\"what's a good cookie?\"}],\"temperature\":0,\"top_p\":0.95,\"stream\":false}",
         "{\n  \"id\": \"chatcmpl-AdFdUDeGKqobSaUUCnsq2GW2QJQWJ\",\n  \"object\": \"chat.completion\",\n  \"created\": 1733918260,\n  \"model\": \"gpt-4o-mini-2024-07-18\",\n  \"choices\": [\n    {\n      \"index\": 0,\n      \"message\": {\n        \"role\": \"assistant\",\n        \"content\": \"A good cookie often depends on personal preference, but some popular favorites include:\\n\\n1. **Chocolate Chip Cookies**: Classic and beloved, these cookies are soft and chewy with melty chocolate chips.\\n2. **Oatmeal Raisin Cookies**: Chewy and hearty, these cookies combine oats and raisins for a satisfying texture and flavor.\\n3. **Peanut Butter Cookies**: Rich and nutty, these cookies often have a crisscross pattern on top and a deliciously creamy taste.\\n4. **Snickerdoodles**: Soft and cinnamon-sugar coated, these cookies have a delightful tang from cream of tartar.\\n5. **Sugar Cookies**: Simple and sweet, sugar cookies can be decorated with icing or sprinkles for a festive touch.\\n6. **Double Chocolate Cookies**: For chocolate lovers, these cookies are made with cocoa powder and chocolate chips for an extra chocolatey experience.\\n7. **Macarons**: These French cookies are delicate and come in various flavors, with a crisp shell and a creamy filling.\\n\\nUltimately, a good cookie is one that brings you joy, whether it's homemade or from your favorite bakery!\",\n        \"refusal\": null\n      },\n      \"logprobs\": null,\n      \"finish_reason\": \"stop\"\n    }\n  ],\n  \"usage\": {\n    \"prompt_tokens\": 13,\n    \"completion_tokens\": 232,\n    \"total_tokens\": 245,\n    \"prompt_tokens_details\": {\n      \"cached_tokens\": 0,\n      \"audio_tokens\": 0\n    },\n    \"completion_tokens_details\": {\n      \"reasoning_tokens\": 0,\n      \"audio_tokens\": 0,\n      \"accepted_prediction_tokens\": 0,\n      \"rejected_prediction_tokens\": 0\n    }\n  },\n  \"system_fingerprint\": \"fp_818c284075\"\n}\n",
         "f7c5c305af1d4dacb0ebdd6f447ba1be",
         [],
         "holly.smith@databricks.com"
        ],
        [
         "2024-12-11",
         "b336623b-6f95-4ddd-8992-e54a873a1b46",
         null,
         "2024-12-11T11:59:14.046Z",
         200,
         1.0,
         8467,
         "{\"messages\":[{\"role\":\"user\",\"content\":\"what's a good cookie?\"},{\"role\":\"assistant\",\"content\":\"A good cookie often depends on personal preference, but some popular favorites include:\\n\\n1. **Chocolate Chip Cookies**: Classic and beloved, these cookies are soft and chewy with melty chocolate chips.\\n2. **Oatmeal Raisin Cookies**: Chewy and hearty, these cookies combine oats and raisins for a satisfying texture and flavor.\\n3. **Peanut Butter Cookies**: Rich and nutty, these cookies often have a crisscross pattern on top and a deliciously creamy taste.\\n4. **Snickerdoodles**: Soft and cinnamon-sugar coated, these cookies have a delightful tang from cream of tartar.\\n5. **Sugar Cookies**: Simple and sweet, sugar cookies can be decorated with icing or sprinkles for a festive touch.\\n6. **Double Chocolate Cookies**: For chocolate lovers, these cookies are made with cocoa powder and chocolate chips for an extra chocolatey experience.\\n7. **Macarons**: These French cookies are delicate and come in various flavors, with a crisp shell and a creamy filling.\\n\\nUltimately, a good cookie is one that brings you joy, whether it's homemade or from your favorite bakery!\"},{\"role\":\"user\",\"content\":\"are cookies a good gift?\"}],\"temperature\":0,\"top_p\":0.95,\"stream\":false}",
         "{\n  \"id\": \"chatcmpl-AdFf0Zta2ChROJxtGpYJ08kX6XRcW\",\n  \"object\": \"chat.completion\",\n  \"created\": 1733918354,\n  \"model\": \"gpt-4o-mini-2024-07-18\",\n  \"choices\": [\n    {\n      \"index\": 0,\n      \"message\": {\n        \"role\": \"assistant\",\n        \"content\": \"Yes, cookies can make a great gift! Here are a few reasons why:\\n\\n1. **Personal Touch**: Homemade cookies show thoughtfulness and effort, making them a heartfelt gift.\\n2. **Variety**: There are countless cookie recipes and flavors, allowing you to customize your gift to the recipient's preferences.\\n3. **Shareable**: Cookies are easy to share, making them a great treat for gatherings or family events.\\n4. **Presentation**: You can package cookies beautifully in jars, boxes, or tins, adding to the gift's appeal.\\n5. **Occasions**: Cookies are suitable for various occasions, from holidays and birthdays to thank-you gifts or just because.\\n\\nOverall, cookies can be a delightful and appreciated gift for friends, family, or colleagues!\",\n        \"refusal\": null\n      },\n      \"logprobs\": null,\n      \"finish_reason\": \"stop\"\n    }\n  ],\n  \"usage\": {\n    \"prompt_tokens\": 259,\n    \"completion_tokens\": 159,\n    \"total_tokens\": 418,\n    \"prompt_tokens_details\": {\n      \"cached_tokens\": 0,\n      \"audio_tokens\": 0\n    },\n    \"completion_tokens_details\": {\n      \"reasoning_tokens\": 0,\n      \"audio_tokens\": 0,\n      \"accepted_prediction_tokens\": 0,\n      \"rejected_prediction_tokens\": 0\n    }\n  },\n  \"system_fingerprint\": \"fp_bba3c8e70b\"\n}\n",
         "f7c5c305af1d4dacb0ebdd6f447ba1be",
         [],
         "holly.smith@databricks.com"
        ],
        [
         "2024-12-11",
         "69a173a6-f21a-4516-bff7-6df730795911",
         null,
         "2024-12-11T11:59:48.876Z",
         400,
         1.0,
         515,
         "{\"messages\":[{\"role\":\"user\",\"content\":\"what's a good cookie?\"},{\"role\":\"assistant\",\"content\":\"A good cookie often depends on personal preference, but some popular favorites include:\\n\\n1. **Chocolate Chip Cookies**: Classic and beloved, these cookies are soft and chewy with melty chocolate chips.\\n2. **Oatmeal Raisin Cookies**: Chewy and hearty, these cookies combine oats and raisins for a satisfying texture and flavor.\\n3. **Peanut Butter Cookies**: Rich and nutty, these cookies often have a crisscross pattern on top and a deliciously creamy taste.\\n4. **Snickerdoodles**: Soft and cinnamon-sugar coated, these cookies have a delightful tang from cream of tartar.\\n5. **Sugar Cookies**: Simple and sweet, sugar cookies can be decorated with icing or sprinkles for a festive touch.\\n6. **Double Chocolate Cookies**: For chocolate lovers, these cookies are made with cocoa powder and chocolate chips for an extra chocolatey experience.\\n7. **Macarons**: These French cookies are delicate and come in various flavors, with a crisp shell and a creamy filling.\\n\\nUltimately, a good cookie is one that brings you joy, whether it's homemade or from your favorite bakery!\"},{\"role\":\"user\",\"content\":\"are cookies a good gift?\"},{\"role\":\"assistant\",\"content\":\"Yes, cookies can make a great gift! Here are a few reasons why:\\n\\n1. **Personal Touch**: Homemade cookies show thoughtfulness and effort, making them a heartfelt gift.\\n2. **Variety**: There are countless cookie recipes and flavors, allowing you to customize your gift to the recipient's preferences.\\n3. **Shareable**: Cookies are easy to share, making them a great treat for gatherings or family events.\\n4. **Presentation**: You can package cookies beautifully in jars, boxes, or tins, adding to the gift's appeal.\\n5. **Occasions**: Cookies are suitable for various occasions, from holidays and birthdays to thank-you gifts or just because.\\n\\nOverall, cookies can be a delightful and appreciated gift for friends, family, or colleagues!\"},{\"role\":\"user\",\"content\":\"is cake good for birthdays?\"}],\"temperature\":0,\"top_p\":0.95,\"stream\":false}",
         "{\"usage\":{\"prompt_tokens\":587,\"total_tokens\":587},\"input_guardrail\":[{\"flagged\":false,\"categories\":{\"violent-crimes\":false,\"non-violent-crimes\":false,\"sex-crimes\":false,\"child-exploitation\":false,\"specialized-advice\":false,\"privacy\":false,\"intellectual-property\":false,\"indiscriminate-weapons\":false,\"hate\":false,\"self-harm\":false,\"sexual-content\":false},\"category_scores\":null,\"pii_detection\":false,\"anonymized_input\":null,\"invalid_keywords\":null,\"off_topic\":true}],\"finishReason\":\"input_guardrail_triggered\"}",
         "f7c5c305af1d4dacb0ebdd6f447ba1be",
         [],
         "holly.smith@databricks.com"
        ],
        [
         "2024-12-11",
         "2d11499f-56a9-4044-9e74-bd1cd6859860",
         null,
         "2024-12-11T11:58:12.250Z",
         400,
         1.0,
         7615,
         "{\"messages\":[{\"role\":\"user\",\"content\":\"what's a good cookie?\"},{\"role\":\"assistant\",\"content\":\"A good cookie often depends on personal preference, but some popular favorites include:\\n\\n1. **Chocolate Chip Cookies**: Classic and beloved, these cookies are soft and chewy with melty chocolate chips.\\n2. **Oatmeal Raisin Cookies**: Chewy and hearty, these cookies combine oats and raisins for a satisfying texture and flavor.\\n3. **Peanut Butter Cookies**: Rich and nutty, these cookies often have a crisscross pattern on top and a deliciously creamy taste.\\n4. **Snickerdoodles**: Soft and cinnamon-sugar coated, these cookies have a delightful tang from cream of tartar.\\n5. **Sugar Cookies**: Simple and sweet, sugar cookies can be decorated with icing or sprinkles for a festive touch.\\n6. **Double Chocolate Cookies**: For chocolate lovers, these cookies are made with cocoa powder and chocolate chips for an extra chocolatey experience.\\n7. **Macarons**: These French cookies are delicate and come in various flavors, with a crisp shell and a creamy filling.\\n\\nUltimately, a good cookie is one that brings you joy, whether it's homemade or from your favorite bakery!\"},{\"role\":\"user\",\"content\":\"are croissants a good breakfast?\"}],\"temperature\":0,\"top_p\":0.95,\"stream\":false}",
         "{\"usage\":{\"prompt_tokens\":413,\"total_tokens\":413},\"output_guardrail\":[{\"flagged\":false,\"categories\":{\"violent-crimes\":false,\"non-violent-crimes\":false,\"sex-crimes\":false,\"child-exploitation\":false,\"specialized-advice\":false,\"privacy\":false,\"intellectual-property\":false,\"indiscriminate-weapons\":false,\"hate\":false,\"self-harm\":false,\"sexual-content\":false},\"category_scores\":null,\"pii_detection\":null,\"anonymized_input\":null,\"invalid_keywords\":true,\"off_topic\":null}],\"finishReason\":\"output_guardrail_triggered\"}",
         "f7c5c305af1d4dacb0ebdd6f447ba1be",
         [],
         "holly.smith@databricks.com"
        ],
        [
         "2024-12-11",
         "d7926e60-d150-415c-8a51-e12e4a4541b5",
         null,
         "2024-12-11T11:58:52.684Z",
         400,
         1.0,
         840,
         "{\"messages\":[{\"role\":\"user\",\"content\":\"what's a good cookie?\"},{\"role\":\"assistant\",\"content\":\"A good cookie often depends on personal preference, but some popular favorites include:\\n\\n1. **Chocolate Chip Cookies**: Classic and beloved, these cookies are soft and chewy with melty chocolate chips.\\n2. **Oatmeal Raisin Cookies**: Chewy and hearty, these cookies combine oats and raisins for a satisfying texture and flavor.\\n3. **Peanut Butter Cookies**: Rich and nutty, these cookies often have a crisscross pattern on top and a deliciously creamy taste.\\n4. **Snickerdoodles**: Soft and cinnamon-sugar coated, these cookies have a delightful tang from cream of tartar.\\n5. **Sugar Cookies**: Simple and sweet, sugar cookies can be decorated with icing or sprinkles for a festive touch.\\n6. **Double Chocolate Cookies**: For chocolate lovers, these cookies are made with cocoa powder and chocolate chips for an extra chocolatey experience.\\n7. **Macarons**: These French cookies are delicate and come in various flavors, with a crisp shell and a creamy filling.\\n\\nUltimately, a good cookie is one that brings you joy, whether it's homemade or from your favorite bakery!\"},{\"role\":\"user\",\"content\":\"are croissants a good breakfast?\"}],\"temperature\":0,\"top_p\":0.95,\"stream\":false}",
         "{\"usage\":{\"prompt_tokens\":425,\"total_tokens\":425},\"input_guardrail\":[{\"flagged\":false,\"categories\":{\"violent-crimes\":false,\"non-violent-crimes\":false,\"sex-crimes\":false,\"child-exploitation\":false,\"specialized-advice\":false,\"privacy\":false,\"intellectual-property\":false,\"indiscriminate-weapons\":false,\"hate\":false,\"self-harm\":false,\"sexual-content\":false},\"category_scores\":null,\"pii_detection\":false,\"anonymized_input\":null,\"invalid_keywords\":null,\"off_topic\":true}],\"finishReason\":\"input_guardrail_triggered\"}",
         "455f0d9643774b9d983341c928fe03c6",
         [],
         "holly.smith@databricks.com"
        ],
        [
         "2024-12-11",
         "1fe6a664-fff8-46b1-badc-6fade0934e3c",
         null,
         "2024-12-11T11:59:11.609Z",
         400,
         1.0,
         537,
         "{\"messages\":[{\"role\":\"user\",\"content\":\"what's a good cookie?\"},{\"role\":\"assistant\",\"content\":\"A good cookie often depends on personal preference, but some popular favorites include:\\n\\n1. **Chocolate Chip Cookies**: Classic and beloved, these cookies are soft and chewy with melty chocolate chips.\\n2. **Oatmeal Raisin Cookies**: Chewy and hearty, these cookies combine oats and raisins for a satisfying texture and flavor.\\n3. **Peanut Butter Cookies**: Rich and nutty, these cookies often have a crisscross pattern on top and a deliciously creamy taste.\\n4. **Snickerdoodles**: Soft and cinnamon-sugar coated, these cookies have a delightful tang from cream of tartar.\\n5. **Sugar Cookies**: Simple and sweet, sugar cookies can be decorated with icing or sprinkles for a festive touch.\\n6. **Double Chocolate Cookies**: For chocolate lovers, these cookies are made with cocoa powder and chocolate chips for an extra chocolatey experience.\\n7. **Macarons**: These French cookies are delicate and come in various flavors, with a crisp shell and a creamy filling.\\n\\nUltimately, a good cookie is one that brings you joy, whether it's homemade or from your favorite bakery!\"},{\"role\":\"user\",\"content\":\"are cookies a good gift?\"}],\"temperature\":0,\"top_p\":0.95,\"stream\":false}",
         "{\"error\":\"Received error from anthropic\",\"external_model_message\":{\"type\":\"error\",\"error\":{\"type\":\"invalid_request_error\",\"message\":\"max_tokens: 8192 > 4096, which is the maximum allowed number of output tokens for claude-3-haiku-20240307\"}}}",
         "455f0d9643774b9d983341c928fe03c6",
         [],
         "holly.smith@databricks.com"
        ],
        [
         "2024-12-11",
         "a4b5374b-7029-4e65-b474-2c884e087f48",
         null,
         "2024-12-11T11:56:43.078Z",
         400,
         1.0,
         499,
         "{\"messages\":[{\"role\":\"user\",\"content\":\"what's a good cookie?\"}],\"temperature\":0,\"top_p\":0.95,\"stream\":false}",
         "{\"error\":\"Received error from anthropic\",\"external_model_message\":{\"type\":\"error\",\"error\":{\"type\":\"invalid_request_error\",\"message\":\"max_tokens: 8192 > 4096, which is the maximum allowed number of output tokens for claude-3-haiku-20240307\"}}}",
         "455f0d9643774b9d983341c928fe03c6",
         [],
         "holly.smith@databricks.com"
        ],
        [
         "2024-12-11",
         "9a2b8197-b167-46de-b3f4-1c3ef83d7221",
         null,
         "2024-12-11T11:55:40.779Z",
         400,
         1.0,
         1935,
         "{\"messages\":[{\"role\":\"user\",\"content\":\"what do you think makes a good cookie?\"}],\"temperature\":0,\"top_p\":0.95,\"stream\":false}",
         "{\"error\":\"Received error from anthropic\",\"external_model_message\":{\"type\":\"error\",\"error\":{\"type\":\"invalid_request_error\",\"message\":\"max_tokens: 8192 > 4096, which is the maximum allowed number of output tokens for claude-3-haiku-20240307\"}}}",
         "455f0d9643774b9d983341c928fe03c6",
         [],
         "holly.smith@databricks.com"
        ],
        [
         "2024-12-11",
         "dbb5e0da-c788-4936-90b3-c98bd1954ce9",
         null,
         "2024-12-11T11:54:38.386Z",
         400,
         1.0,
         1267,
         "{\"messages\":[{\"role\":\"user\",\"content\":\"what do you think makes a good cookie?\"}],\"temperature\":0,\"top_p\":0.95,\"stream\":false}",
         "{\"error\":\"Received error from anthropic\",\"external_model_message\":{\"type\":\"error\",\"error\":{\"type\":\"invalid_request_error\",\"message\":\"max_tokens: 8192 > 4096, which is the maximum allowed number of output tokens for claude-3-haiku-20240307\"}}}",
         "455f0d9643774b9d983341c928fe03c6",
         [],
         "holly.smith@databricks.com"
        ],
        [
         "2024-12-11",
         "b43ddd25-6fa2-4967-9a1b-e9cbe1025399",
         null,
         "2024-12-11T11:55:47.318Z",
         400,
         1.0,
         1260,
         "{\"messages\":[{\"role\":\"user\",\"content\":\"what do you think makes a good cookie?\"}],\"temperature\":0,\"top_p\":0.95,\"stream\":false}",
         "{\"error\":\"Received error from anthropic\",\"external_model_message\":{\"type\":\"error\",\"error\":{\"type\":\"invalid_request_error\",\"message\":\"max_tokens: 8192 > 4096, which is the maximum allowed number of output tokens for claude-3-haiku-20240307\"}}}",
         "455f0d9643774b9d983341c928fe03c6",
         [],
         "holly.smith@databricks.com"
        ]
       ],
       "datasetInfos": [
        {
         "name": "_sqldf",
         "schema": {
          "fields": [
           {
            "metadata": {},
            "name": "request_date",
            "nullable": true,
            "type": "date"
           },
           {
            "metadata": {},
            "name": "databricks_request_id",
            "nullable": true,
            "type": "string"
           },
           {
            "metadata": {},
            "name": "client_request_id",
            "nullable": true,
            "type": "string"
           },
           {
            "metadata": {},
            "name": "request_time",
            "nullable": true,
            "type": "timestamp"
           },
           {
            "metadata": {},
            "name": "status_code",
            "nullable": true,
            "type": "integer"
           },
           {
            "metadata": {},
            "name": "sampling_fraction",
            "nullable": true,
            "type": "double"
           },
           {
            "metadata": {},
            "name": "execution_duration_ms",
            "nullable": true,
            "type": "long"
           },
           {
            "metadata": {},
            "name": "request",
            "nullable": true,
            "type": "string"
           },
           {
            "metadata": {},
            "name": "response",
            "nullable": true,
            "type": "string"
           },
           {
            "metadata": {},
            "name": "served_entity_id",
            "nullable": true,
            "type": "string"
           },
           {
            "metadata": {},
            "name": "logging_error_codes",
            "nullable": true,
            "type": {
             "containsNull": true,
             "elementType": "string",
             "type": "array"
            }
           },
           {
            "metadata": {},
            "name": "requester",
            "nullable": true,
            "type": "string"
           }
          ],
          "type": "struct"
         },
         "tableIdentifier": null,
         "typeStr": "pyspark.sql.connect.dataframe.DataFrame"
        }
       ],
       "dbfsResultPath": null,
       "isJsonSchema": true,
       "metadata": {
        "createTempViewForImplicitDf": true,
        "dataframeName": "_sqldf",
        "executionCount": 107
       },
       "overflow": false,
       "plotOptions": {
        "customPlotOptions": {},
        "displayType": "table",
        "pivotAggregation": null,
        "pivotColumns": null,
        "xColumns": null,
        "yColumns": null
       },
       "removedWidgets": [],
       "schema": [
        {
         "metadata": "{}",
         "name": "request_date",
         "type": "\"date\""
        },
        {
         "metadata": "{}",
         "name": "databricks_request_id",
         "type": "\"string\""
        },
        {
         "metadata": "{}",
         "name": "client_request_id",
         "type": "\"string\""
        },
        {
         "metadata": "{}",
         "name": "request_time",
         "type": "\"timestamp\""
        },
        {
         "metadata": "{}",
         "name": "status_code",
         "type": "\"integer\""
        },
        {
         "metadata": "{}",
         "name": "sampling_fraction",
         "type": "\"double\""
        },
        {
         "metadata": "{}",
         "name": "execution_duration_ms",
         "type": "\"long\""
        },
        {
         "metadata": "{}",
         "name": "request",
         "type": "\"string\""
        },
        {
         "metadata": "{}",
         "name": "response",
         "type": "\"string\""
        },
        {
         "metadata": "{}",
         "name": "served_entity_id",
         "type": "\"string\""
        },
        {
         "metadata": "{}",
         "name": "logging_error_codes",
         "type": "{\"containsNull\":true,\"elementType\":\"string\",\"type\":\"array\"}"
        },
        {
         "metadata": "{}",
         "name": "requester",
         "type": "\"string\""
        }
       ],
       "type": "table"
      }
     },
     "output_type": "display_data"
    }
   ],
   "source": [
    "select * from demo_sample_data.tables.`DL-external-models_payload`\n",
    "--replace with the table you specified for inference at the serving stage\n",
    "--and yes, this is technically not a system table"
   ]
  }
 ],
 "metadata": {
  "application/vnd.databricks.v1+notebook": {
   "computePreferences": null,
   "dashboards": [],
   "environmentMetadata": {
    "base_environment": "",
    "client": "1"
   },
   "language": "sql",
   "notebookMetadata": {
    "mostRecentlyExecutedCommandWithImplicitDF": {
     "commandId": 25680954426266,
     "dataframes": [
      "_sqldf"
     ]
    },
    "pythonIndentUnit": 4
   },
   "notebookName": "AI Gateway helper notebook 👩🏼‍🏫",
   "widgets": {}
  },
  "language_info": {
   "name": "sql"
  }
 },
 "nbformat": 4,
 "nbformat_minor": 0
}