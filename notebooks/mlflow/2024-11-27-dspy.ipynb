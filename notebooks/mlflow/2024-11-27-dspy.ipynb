{
 "cells": [
  {
   "cell_type": "markdown",
   "metadata": {},
   "source": [
    "# Using DSPy and MLflow with a local LLM\n",
    "\n",
    "DSPy (Declarative Self-improving Python) is an open-source framework that enables users to write Python code, rather than prompts, to build and direct LLMs. DSPy includes tools for directing the bahavior of LLMs, automatically optimize prompts and weights, and evaluate the performance of AI systems.\n",
    "\n",
    "MLflow's native integration with DSPy allows you to track and visualize the performance of your AI systems and to log your DSPy programs as MLflow models.\n",
    "\n",
    "In this notebook, we will use DSPy with Llama-3.2-3B-Instruct, running locally via LMStudio. Note that you can swap in any other model running on an OpenAI-compatible endpoint. We will use the DSPy to build a system for summarizing research papers from arXiv at different levels of complexity.\n",
    "\n",
    "Note that when setting up a local inference server with LMStudio you will likely need to increase the `ctx_length` parameter and set the overflow policy to truncate middle, ensuring the system prompt with the instructions is retained. \n",
    "\n",
    "First, we will set up an MLflow experiment and enable DSPy autologging so we can easily view traces of all of our DSPy runs."
   ]
  },
  {
   "cell_type": "code",
   "execution_count": 1,
   "metadata": {},
   "outputs": [],
   "source": [
    "import dspy\n",
    "import mlflow\n",
    "from rich import print\n",
    "from dotenv import load_dotenv\n",
    "import os\n",
    "load_dotenv()\n",
    "\n",
    "mlflow.set_experiment(\"dspy-paper-summarization\")\n",
    "mlflow.dspy.autolog()"
   ]
  },
  {
   "cell_type": "markdown",
   "metadata": {},
   "source": [
    "Next, we will configure the LLM we want to use. In this case, we will use Llama-3.2-3B-Instruct, running locally via LMStudio. Note that you can swap in any other model running on an OpenAI-compatible endpoint."
   ]
  },
  {
   "cell_type": "code",
   "execution_count": 25,
   "metadata": {},
   "outputs": [],
   "source": [
    "# Configure the LM with your local endpoint\n",
    "lm_local = dspy.LM(\n",
    "    #\"openai/lmstudio-community/Meta-Llama-3.1-8B-Instruct-GGUF\",  # model name\n",
    "    \"openai/unsloth/Llama-3.2-3B-Instruct-GGUF\",\n",
    "    api_base=\"http://localhost:1234/v1\",  # local endpoint\n",
    "    api_key=\"whatever\",  # empty api_key for local endpoint\n",
    "    model_type='chat',  # specify chat model type\n",
    "    cache=False  # disable caching\n",
    ")\n",
    "\n",
    "lm_anthropic = dspy.LM(\n",
    "    \"anthropic/claude-3-5-sonnet-20241022\",\n",
    "    api_key=os.getenv(\"ANTHROPIC_API_KEY\"),\n",
    ")\n",
    "\n",
    "lm_openai = dspy.LM(\n",
    "    \"openai/gpt-4o-mini\",\n",
    "    api_key=os.getenv(\"OPENAI_API_KEY\"),\n",
    ")\n",
    "\n",
    "lm_gemini = dspy.LM(\n",
    "    \"gemini/gemini-1.5-flash\",\n",
    "    api_key=os.getenv(\"GEMINI_API_KEY\"),\n",
    ")\n",
    "\n",
    "lm_gemini_sm = dspy.LM(\n",
    "    \"gemini/gemini-1.5-flash-8b\",\n",
    "    api_key=os.getenv(\"GEMINI_API_KEY\"),\n",
    ")\n",
    "\n",
    "# Set this as the default LM for DSPy\n",
    "dspy.configure(lm=lm_gemini_sm)\n"
   ]
  },
  {
   "cell_type": "code",
   "execution_count": 26,
   "metadata": {},
   "outputs": [
    {
     "data": {
      "text/html": [
       "<pre style=\"white-space:pre;overflow-x:auto;line-height:normal;font-family:Menlo,'DejaVu Sans Mono',consolas,'Courier New',monospace\">MLflow is an open-source platform for managing the entire machine learning lifecycle.  This means it helps with:\n",
       "\n",
       "* **Experiment tracking:**  Recording and comparing different experiments, including parameters, code versions, \n",
       "metrics, and artifacts.  This allows you to easily reproduce and understand past experiments.\n",
       "\n",
       "* **Model registry:**  Storing, sharing, and deploying machine learning models.  It provides a central repository \n",
       "for models, allowing you to track their versions, metadata, and lineage.\n",
       "\n",
       "* **Projects:**  Packaging and managing machine learning code, data, and configurations.  This facilitates \n",
       "reproducibility and collaboration.\n",
       "\n",
       "* **Model deployment:**  Deploying models to various platforms, including cloud services and on-premises \n",
       "environments.  MLflow provides integrations with different deployment tools.\n",
       "\n",
       "In essence, MLflow helps you:\n",
       "\n",
       "* **Reproduce experiments:**  Easily recreate past experiments with the same parameters and code.\n",
       "* **Manage models:**  Track and deploy models efficiently.\n",
       "* **Collaborate:**  Share experiments and models with others.\n",
       "* **Improve reproducibility:**  Ensure that your machine learning work is repeatable and reliable.\n",
       "* **Scale your machine learning workflows:**  Manage complex machine learning projects.\n",
       "\n",
       "MLflow is a powerful tool for anyone working with machine learning, from individual researchers to large teams.\n",
       "\n",
       "</pre>\n"
      ],
      "text/plain": [
       "MLflow is an open-source platform for managing the entire machine learning lifecycle.  This means it helps with:\n",
       "\n",
       "* **Experiment tracking:**  Recording and comparing different experiments, including parameters, code versions, \n",
       "metrics, and artifacts.  This allows you to easily reproduce and understand past experiments.\n",
       "\n",
       "* **Model registry:**  Storing, sharing, and deploying machine learning models.  It provides a central repository \n",
       "for models, allowing you to track their versions, metadata, and lineage.\n",
       "\n",
       "* **Projects:**  Packaging and managing machine learning code, data, and configurations.  This facilitates \n",
       "reproducibility and collaboration.\n",
       "\n",
       "* **Model deployment:**  Deploying models to various platforms, including cloud services and on-premises \n",
       "environments.  MLflow provides integrations with different deployment tools.\n",
       "\n",
       "In essence, MLflow helps you:\n",
       "\n",
       "* **Reproduce experiments:**  Easily recreate past experiments with the same parameters and code.\n",
       "* **Manage models:**  Track and deploy models efficiently.\n",
       "* **Collaborate:**  Share experiments and models with others.\n",
       "* **Improve reproducibility:**  Ensure that your machine learning work is repeatable and reliable.\n",
       "* **Scale your machine learning workflows:**  Manage complex machine learning projects.\n",
       "\n",
       "MLflow is a powerful tool for anyone working with machine learning, from individual researchers to large teams.\n",
       "\n"
      ]
     },
     "metadata": {},
     "output_type": "display_data"
    }
   ],
   "source": [
    "# verify that the LLM is working\n",
    "print(lm_gemini_sm(\"Please tell me what MLflow is for.\")[0])\n"
   ]
  },
  {
   "cell_type": "markdown",
   "metadata": {},
   "source": [
    "We can already examine the traces captured via DSPy autologging:\n",
    "\n",
    "```{image} ../images/2024-11-27-dspy/1_mlflow_ui.png\n",
    ":alt: DSPy traces in the MLflow UI\n",
    ":width: 800px\n",
    ":align: center\n",
    "```"
   ]
  },
  {
   "cell_type": "markdown",
   "metadata": {},
   "source": [
    "Now, to build our system, we need a few things:\n",
    "\n",
    "1. A way to get the paper from an arxiv id\n",
    "2. A way to specify the level of complexity of the summary we want\n",
    "3. A way to evaluate the summary\n",
    "\n",
    "Integrating these components will demonstrate how DSPy *is* Python: we don't have to think in terms of prompts; we can write Python code for both the deterministic components (e.g. getting the paper) and the LLM-powered components (e.g. summarizing the paper).\n",
    "\n",
    "For now, we will just focus on extracting and operating on the text from the paper, but this approach could be extended to look at images or other data modalities as well."
   ]
  },
  {
   "cell_type": "code",
   "execution_count": 7,
   "metadata": {},
   "outputs": [],
   "source": [
    "import arxiv\n",
    "import PyPDF2\n",
    "import io\n",
    "import requests\n",
    "\n",
    "def get_paper_from_arxiv(arxiv_id: str) -> tuple[str, str]:\n",
    "    \"\"\"\n",
    "    Download and extract text from an arxiv paper.\n",
    "    \n",
    "    Args:\n",
    "        arxiv_id (str): The arxiv ID (e.g., '2311.12399' or 'arxiv:2311.12399')\n",
    "    \n",
    "    Returns:\n",
    "        tuple[str, str]: (title, text) of the paper\n",
    "    \"\"\"\n",
    "    client = arxiv.Client()\n",
    "\n",
    "    # Clean the arxiv ID\n",
    "    arxiv_id = arxiv_id.replace('arxiv:', '').strip()\n",
    "    \n",
    "    # Search for the paper\n",
    "    search = client.results(arxiv.Search(id_list=[arxiv_id]))\n",
    "    paper = next(search)\n",
    "    \n",
    "    # Download the PDF\n",
    "    response = requests.get(paper.pdf_url)\n",
    "    pdf_file = io.BytesIO(response.content)\n",
    "    \n",
    "    # Extract text from PDF\n",
    "    reader = PyPDF2.PdfReader(pdf_file)\n",
    "    text = ' '.join(page.extract_text() for page in reader.pages)\n",
    "    \n",
    "    return paper.title, text"
   ]
  },
  {
   "cell_type": "code",
   "execution_count": 8,
   "metadata": {},
   "outputs": [],
   "source": [
    "# get papers\n",
    "\n",
    "paper_ids = [\"2411.15138\", \"2411.15124\", \"2411.10442\", \"2411.10958\", \"2411.12372\"]\n",
    "papers = []\n",
    "for paper_id in paper_ids:\n",
    "    papers.append(get_paper_from_arxiv(paper_id))"
   ]
  },
  {
   "cell_type": "markdown",
   "metadata": {},
   "source": [
    "## Set up the DSPy Signature\n",
    "\n",
    "A DSPy signature is a Python class that defines the inputs and outputs of a DSPy program. It is used to specify the structure of the data that will be passed into and out of the program.\n",
    "\n",
    "A signature primarily consists of input fields (`dspy.InputField`) and output fields (`dspy.OutputField`). Input fields describe the data that will be passed into the program, while output fields describe the data that will be returned by the program. The class docstring also provides instructions or task descriptions.\n",
    "\n",
    "We can also concisely define a signature as a string mapping inputs to outputs, such as 'text: str -> sentiment: str'.\n",
    "\n",
    "For our paper summarization task, we will define a signature that takes in a paper title, text, and complexity level, and outputs a summary at the specified complexity level."
   ]
  },
  {
   "cell_type": "code",
   "execution_count": 9,
   "metadata": {},
   "outputs": [],
   "source": [
    "from typing import Literal\n",
    "\n",
    "class PaperSummarySignature(dspy.Signature):\n",
    "    \"\"\"Generate a summary of the provided research paper at a specified complexity level.\n",
    "    The summary can be up to four paragraphs long and should be tailored to the specified complexity level.\n",
    "    \n",
    "    Complexity levels:\n",
    "    1: High school level - Use basic vocabulary and simple concepts. Avoid technical terms.\n",
    "    2: Early undergraduate - Introduce some basic technical terms with explanations\n",
    "    3: Advanced undergraduate - Use moderate technical language with occasional explanations\n",
    "    4: Graduate student - Use technical language freely with minimal explanations\n",
    "    5: Expert - Use sophisticated technical language and assume deep domain knowledge\n",
    "    \"\"\"\n",
    "    \n",
    "    # Input fields\n",
    "    title: str = dspy.InputField(description=\"The title of the research paper\")\n",
    "    complexity_level: Literal[1, 2, 3, 4, 5] = dspy.InputField(\n",
    "        description=(\n",
    "            \"The desired complexity level of the generated summary, ranging from 1 (high school level) to 5 (graduate student level)\"\n",
    "        )\n",
    "    )\n",
    "    text: str = dspy.InputField(description=\"The full text content of a single research paper\")\n",
    "    \n",
    "    # Output fields\n",
    "    summary: str = dspy.OutputField(description=\"A summary of the paper at the specified complexity level\")"
   ]
  },
  {
   "cell_type": "code",
   "execution_count": 51,
   "metadata": {},
   "outputs": [],
   "source": [
    "from typing import Literal\n",
    "\n",
    "class WorsePaperSummarySignature(dspy.Signature):\n",
    "    \"\"\"Generate a summary of the provided research paper at a specified complexity level.\n",
    "    The summary can be up to four paragraphs long and should be tailored to the specified complexity level.\n",
    "    \"\"\"\n",
    "    \n",
    "    # Input fields\n",
    "    title: str = dspy.InputField(description=\"The title of the research paper\")\n",
    "    complexity_level: Literal[1, 2, 3, 4, 5] = dspy.InputField(\n",
    "        description=(\n",
    "            \"The desired complexity level of the generated summary, ranging from 1 (more elementary) to 5 (more advanced)\"\n",
    "        )\n",
    "    )\n",
    "    text: str = dspy.InputField(description=\"Text from a research paper\")\n",
    "    \n",
    "    # Output fields\n",
    "    summary: str = dspy.OutputField(description=\"A summary of the paper at the specified complexity level\")"
   ]
  },
  {
   "cell_type": "markdown",
   "metadata": {},
   "source": [
    "## Set up the DSPy Module\n",
    "\n",
    "A DSPy module is a Python class inheriting from `dspy.Module`. A typical module has the following components:\n",
    "1. an `__init__` method that initializes the module with the necessary components\n",
    "2. a `forward` method that defines the core logic of the module\n",
    "\n",
    "Signatures define the interface for a module, specifying the inputs and outputs. Signatures define the \"contract\" of inputs and outputs, while modules implement the actual logic of processing inputs into outputs using LLMs.\n",
    "\n",
    "There are many built-in modules in DSPy implementing common LLM patterns, such as `dspy.ChainOfThought` and `dspy.Predict`. Read more [here](https://dspy.ai/learn/programming/modules/#what-other-dspy-modules-are-there-how-can-i-use-them).\n",
    "\n",
    "We will set up a simple module that wraps the `dspy.ChainOfThought` module to summarize a paper at a given complexity level."
   ]
  },
  {
   "cell_type": "code",
   "execution_count": 52,
   "metadata": {},
   "outputs": [],
   "source": [
    "class Summarize(dspy.Module):\n",
    "    def __init__(self):\n",
    "       # self.summarize = dspy.ChainOfThought(PaperSummarySignature)\n",
    "        self.summarize = dspy.Predict(PaperSummarySignature,\n",
    "                                      temperature=0.8)\n",
    "\n",
    "\n",
    "    def forward(self, title: str, text: str, complexity_level: int):\n",
    "        summary = self.summarize(\n",
    "            title=title,\n",
    "            text=text,\n",
    "            complexity_level=complexity_level\n",
    "        )\n",
    "        return summary\n",
    "\n",
    "class SummarizeWorsePrompt(dspy.Module):\n",
    "    def __init__(self):\n",
    "        self.summarize = dspy.Predict(WorsePaperSummarySignature,\n",
    "                                      temperature=0.8)\n",
    "\n",
    "    def forward(self, title: str, text: str, complexity_level: int):\n",
    "        summary = self.summarize(\n",
    "            title=title,\n",
    "            text=text,\n",
    "            complexity_level=complexity_level\n",
    "        )\n",
    "        return summary"
   ]
  },
  {
   "cell_type": "markdown",
   "metadata": {},
   "source": [
    "### Test the Module"
   ]
  },
  {
   "cell_type": "code",
   "execution_count": 53,
   "metadata": {},
   "outputs": [
    {
     "data": {
      "text/html": [
       "<pre style=\"white-space:pre;overflow-x:auto;line-height:normal;font-family:Menlo,'DejaVu Sans Mono',consolas,'Courier New',monospace\">Material Anything is a fully automated diffusion framework for generating physically-based rendering <span style=\"font-weight: bold\">(</span>PBR<span style=\"font-weight: bold\">)</span> \n",
       "materials for any 3D object.  Unlike previous methods that require complex pipelines or case-specific \n",
       "optimizations, this approach uses a pre-trained image diffusion model adapted for material estimation.  A key \n",
       "innovation is the use of confidence masks within the diffusion model to handle various lighting conditions \n",
       "<span style=\"font-weight: bold\">(</span>realistic, unrealistic, and absence of lighting<span style=\"font-weight: bold\">)</span>.  The model progressively generates materials for different views\n",
       "of the object, ensuring consistency across views, and then refines these materials in UV space. This two-stage \n",
       "pipeline addresses the challenge of generating consistent and high-quality PBR materials, adaptable to a wide range\n",
       "of 3D objects and lighting conditions. Extensive experimentation demonstrates that Material Anything significantly \n",
       "outperforms existing methods, achieving state-of-the-art performance in generating accurate and realistic material \n",
       "maps for diverse object categories.  The method utilizes a triple-head architecture and a rendering loss to enhance\n",
       "stability and material quality, effectively bridging the gap between natural images and material maps.  The use of \n",
       "a confidence mask dynamically adjusts the model's focus based on the input object's lighting characteristics, \n",
       "optimizing the generation process for different scenarios.  Finally, a UV-space refinement stage addresses \n",
       "potential inconsistencies and artifacts, further enhancing the generated material maps for practical applications.\n",
       "</pre>\n"
      ],
      "text/plain": [
       "Material Anything is a fully automated diffusion framework for generating physically-based rendering \u001b[1m(\u001b[0mPBR\u001b[1m)\u001b[0m \n",
       "materials for any 3D object.  Unlike previous methods that require complex pipelines or case-specific \n",
       "optimizations, this approach uses a pre-trained image diffusion model adapted for material estimation.  A key \n",
       "innovation is the use of confidence masks within the diffusion model to handle various lighting conditions \n",
       "\u001b[1m(\u001b[0mrealistic, unrealistic, and absence of lighting\u001b[1m)\u001b[0m.  The model progressively generates materials for different views\n",
       "of the object, ensuring consistency across views, and then refines these materials in UV space. This two-stage \n",
       "pipeline addresses the challenge of generating consistent and high-quality PBR materials, adaptable to a wide range\n",
       "of 3D objects and lighting conditions. Extensive experimentation demonstrates that Material Anything significantly \n",
       "outperforms existing methods, achieving state-of-the-art performance in generating accurate and realistic material \n",
       "maps for diverse object categories.  The method utilizes a triple-head architecture and a rendering loss to enhance\n",
       "stability and material quality, effectively bridging the gap between natural images and material maps.  The use of \n",
       "a confidence mask dynamically adjusts the model's focus based on the input object's lighting characteristics, \n",
       "optimizing the generation process for different scenarios.  Finally, a UV-space refinement stage addresses \n",
       "potential inconsistencies and artifacts, further enhancing the generated material maps for practical applications.\n"
      ]
     },
     "metadata": {},
     "output_type": "display_data"
    }
   ],
   "source": [
    "program = SummarizeWorsePrompt()\n",
    "paper = papers[0]\n",
    "\n",
    "print(program(title=paper[0], text=paper[1][:50000], complexity_level=5)[\"summary\"])"
   ]
  },
  {
   "cell_type": "code",
   "execution_count": 54,
   "metadata": {},
   "outputs": [
    {
     "data": {
      "text/html": [
       "<pre style=\"white-space:pre;overflow-x:auto;line-height:normal;font-family:Menlo,'DejaVu Sans Mono',consolas,'Courier New',monospace\">Material Anything is a program that automatically creates realistic materials for 3D objects.  It uses a \n",
       "pre-trained image diffusion model, which is a type of AI that creates images.  This model is improved to work \n",
       "better with materials by adding a special <span style=\"color: #008000; text-decoration-color: #008000\">\"triple-head\"</span> design and a way to measure how well the materials look \n",
       "under different lighting.  It also has a way to tell if the lighting in the image is realistic or not, so it can \n",
       "adjust how it creates the materials accordingly.\n",
       "\n",
       "The program works in two steps. First, it creates materials for each view of the object.  It does this by using the\n",
       "pre-trained model and adjusting it to make material maps.  To make sure the materials look good from different \n",
       "angles, it uses a special <span style=\"color: #008000; text-decoration-color: #008000\">\"confidence mask\"</span> that helps the program understand the lighting and how it affects the \n",
       "materials.  Second, it takes the materials from each view and combines them into a single, consistent set of \n",
       "materials that work well together. It then uses a special part of the program to smooth out any problems that might\n",
       "happen when combining views.\n",
       "\n",
       "This program can handle many different types of objects and lighting situations, even ones without textures or \n",
       "where the lighting isn't realistic.  It works much better than other methods that were used before.  The results \n",
       "show that it creates high-quality materials that look very realistic.\n",
       "</pre>\n"
      ],
      "text/plain": [
       "Material Anything is a program that automatically creates realistic materials for 3D objects.  It uses a \n",
       "pre-trained image diffusion model, which is a type of AI that creates images.  This model is improved to work \n",
       "better with materials by adding a special \u001b[32m\"triple-head\"\u001b[0m design and a way to measure how well the materials look \n",
       "under different lighting.  It also has a way to tell if the lighting in the image is realistic or not, so it can \n",
       "adjust how it creates the materials accordingly.\n",
       "\n",
       "The program works in two steps. First, it creates materials for each view of the object.  It does this by using the\n",
       "pre-trained model and adjusting it to make material maps.  To make sure the materials look good from different \n",
       "angles, it uses a special \u001b[32m\"confidence mask\"\u001b[0m that helps the program understand the lighting and how it affects the \n",
       "materials.  Second, it takes the materials from each view and combines them into a single, consistent set of \n",
       "materials that work well together. It then uses a special part of the program to smooth out any problems that might\n",
       "happen when combining views.\n",
       "\n",
       "This program can handle many different types of objects and lighting situations, even ones without textures or \n",
       "where the lighting isn't realistic.  It works much better than other methods that were used before.  The results \n",
       "show that it creates high-quality materials that look very realistic.\n"
      ]
     },
     "metadata": {},
     "output_type": "display_data"
    }
   ],
   "source": [
    "print(program(title=paper[0], text=paper[1][:50000], complexity_level=1)[\"summary\"])"
   ]
  },
  {
   "cell_type": "markdown",
   "metadata": {},
   "source": [
    "There doesn't seem to be a big difference between the two generated summaries in terms of complexity! We can use DSPy's evaluation and optimization tools to help us improve the program without manually tweaking the prompts.\n",
    "\n",
    "## Evaluate\n",
    "\n",
    "Evaluation in DSPy is based on DSPy metrics. A metric is a function that scores the quality of a given output based on some criteria, typically in comparison with an example.\n",
    "\n",
    "You can run metrics in a simple loop or in a more programmatic way using the `dspy.evaluate` module.\n",
    "\n",
    "Metrics themselves can be DSPy modules, meaning they are also subject to iteration and improvement.\n",
    "\n",
    "We want to evaluate our paper summaries to determine whether they are at the appropriate complexity level. To do so, we will use another DSPy program that will take a summary and determine whether it is at the correct complexity level. We will again follow the approach of first defining a signature, then defining a module that implements the logic of the metric."
   ]
  },
  {
   "cell_type": "code",
   "execution_count": 14,
   "metadata": {},
   "outputs": [],
   "source": [
    "class EvaluateSummary(dspy.Signature):\n",
    "    \"\"\"Given a summary of a research paper, rate its complexity level from 1 to 5.\n",
    "\n",
    "    The ratings correspond to the following levels of complexity:\n",
    "        1: Elementary - Suitable for general audience with no technical background\n",
    "        2: Basic - Suitable for undergraduate students or technical enthusiasts\n",
    "        3: Intermediate - Suitable for graduate students or industry practitioners\n",
    "        4: Advanced - Suitable for domain experts and researchers\n",
    "        5: Expert - Suitable for specialists in this specific research area\n",
    "    \"\"\"\n",
    "\n",
    "    summary: str = dspy.InputField(description=\"The summary of the research paper\")\n",
    "    complexity_level: Literal[1, 2, 3, 4, 5] = dspy.OutputField(description=\"The complexity level of the summary\")\n",
    "\n",
    "\n",
    "class Metric(dspy.Module):\n",
    "    \"\"\"Given a summary and its complexity level, determine whether the summary is at the correct complexity level.\"\"\"\n",
    "    def __init__(self, model=None):\n",
    "        # Allow passing in a specific model, or use the default configured one\n",
    "        if model:\n",
    "            with dspy.context(lm=model):\n",
    "                self.eval_complexity = dspy.ChainOfThought(EvaluateSummary)\n",
    "        else:\n",
    "            self.eval_complexity = dspy.ChainOfThought(EvaluateSummary)\n",
    "    \n",
    "    def forward(self, example, pred, trace=None):\n",
    "        \"\"\"\n",
    "        Parameters:\n",
    "        - example: DSPy Example containing input fields and expected outputs\n",
    "        - pred: Prediction from the program containing generated fields\n",
    "        - trace: Used during bootstrapping to track optimization process\n",
    "        \n",
    "        Returns:\n",
    "        - bool during bootstrapping (trace is not None)\n",
    "        - float (0-1) during normal evaluation\n",
    "        \"\"\"\n",
    "        # Get predicted complexity level for the generated summary\n",
    "        predicted = self.eval_complexity(summary=pred.summary).complexity_level\n",
    "        \n",
    "        # Calculate raw score (0-5)\n",
    "        score = 5 - abs(predicted - example.complexity_level)\n",
    "        \n",
    "        # Different behavior for bootstrapping vs evaluation\n",
    "        if trace is not None:\n",
    "            return score >= 4  # Only use high-quality examples for bootstrapping\n",
    "        return score / 5.0    # Normalize score for evaluation\n"
   ]
  },
  {
   "cell_type": "markdown",
   "metadata": {},
   "source": [
    "## Test the Metric"
   ]
  },
  {
   "cell_type": "code",
   "execution_count": 55,
   "metadata": {},
   "outputs": [
    {
     "data": {
      "text/html": [
       "<pre style=\"white-space:pre;overflow-x:auto;line-height:normal;font-family:Menlo,'DejaVu Sans Mono',consolas,'Courier New',monospace\">Metric score: <span style=\"color: #008080; text-decoration-color: #008080; font-weight: bold\">0.6</span>\n",
       "</pre>\n"
      ],
      "text/plain": [
       "Metric score: \u001b[1;36m0.6\u001b[0m\n"
      ]
     },
     "metadata": {},
     "output_type": "display_data"
    }
   ],
   "source": [
    "# Create an example with the input data\n",
    "example = dspy.Example(\n",
    "    title=paper[0],\n",
    "    text=paper[1],\n",
    "    complexity_level=1\n",
    ").with_inputs(\"title\", \"text\", \"complexity_level\")\n",
    "\n",
    "pred = program(\n",
    "    title=example.title, \n",
    "    text=example.text, \n",
    "    complexity_level=example.complexity_level\n",
    ")\n",
    "\n",
    "metric_program = Metric(model=lm_openai)\n",
    "score = metric_program(example, pred)\n",
    "\n",
    "print(f\"Metric score: {score}\")  # Will return a value between 0 and 1"
   ]
  },
  {
   "cell_type": "markdown",
   "metadata": {},
   "source": [
    "# Developing an Evaluation Dataset\n",
    "\n",
    "Now that we have a DSPy program and the means of evaluating it, we can develop a dataset of examples and scores and use them to iteratively improve the program.\n",
    "\n",
    "To do so, we need to define `dspy.Example` objects, which contain the inputs and outputs of a program, as well as a score.\n",
    "\n",
    "We will use five different papers and five different complexity levels to create a dataset of 25 examples. In a real-world scenario, you would want to use a larger and more diverse dataset to train your program."
   ]
  },
  {
   "cell_type": "code",
   "execution_count": 56,
   "metadata": {},
   "outputs": [
    {
     "data": {
      "application/vnd.jupyter.widget-view+json": {
       "model_id": "15a3e353984a429fa1f7e29c9581823e",
       "version_major": 2,
       "version_minor": 0
      },
      "text/plain": [
       "Generating summaries:   0%|          | 0/25 [00:00<?, ?it/s]"
      ]
     },
     "metadata": {},
     "output_type": "display_data"
    }
   ],
   "source": [
    "from tqdm.notebook import tqdm\n",
    "import random\n",
    "\n",
    "mlflow.dspy.autolog()\n",
    "\n",
    "# Create dataset of examples\n",
    "dataset = []\n",
    "\n",
    "total_iterations = len(papers) * 5  # 5 complexity levels per paper\n",
    "with tqdm(total=total_iterations, desc=\"Generating summaries\") as pbar:\n",
    "    for paper in papers:\n",
    "        title, text = paper\n",
    "        \n",
    "        # Generate summary for each complexity level (1-5)\n",
    "        for complexity in range(1, 6):\n",
    "            result = program(\n",
    "                title=title,\n",
    "                text=text[:50000] + \"... [truncated]\", # truncate text to avoid token issues\n",
    "                complexity_level=complexity\n",
    "            )\n",
    "            \n",
    "            # Create a DSPy Example object with the input fields\n",
    "            example = dspy.Example(\n",
    "                title=title,\n",
    "                text=text[:50000] + \"... [truncated]\",\n",
    "                complexity_level=complexity,\n",
    "                summary=result.summary\n",
    "            ).with_inputs(\"title\", \"text\", \"complexity_level\")  # Specify which fields are inputs\n",
    "            \n",
    "            dataset.append(example)\n",
    "            pbar.update(1)"
   ]
  },
  {
   "cell_type": "markdown",
   "metadata": {},
   "source": [
    "Now that we have a dataset, we can conduct an evaluation run with DSPy."
   ]
  },
  {
   "cell_type": "code",
   "execution_count": 57,
   "metadata": {},
   "outputs": [
    {
     "data": {
      "text/html": [
       "<pre style=\"white-space:pre;overflow-x:auto;line-height:normal;font-family:Menlo,'DejaVu Sans Mono',consolas,'Courier New',monospace\">Evaluating baseline program<span style=\"color: #808000; text-decoration-color: #808000\">...</span>\n",
       "</pre>\n"
      ],
      "text/plain": [
       "Evaluating baseline program\u001b[33m...\u001b[0m\n"
      ]
     },
     "metadata": {},
     "output_type": "display_data"
    },
    {
     "name": "stdout",
     "output_type": "stream",
     "text": [
      "Average Metric: 19.40 / 25 (77.6%): 100%|██████████| 25/25 [00:06<00:00,  3.75it/s]"
     ]
    },
    {
     "name": "stderr",
     "output_type": "stream",
     "text": [
      "2024/12/06 11:08:33 INFO dspy.evaluate.evaluate: Average Metric: 19.4 / 25 (77.6%)\n"
     ]
    },
    {
     "name": "stdout",
     "output_type": "stream",
     "text": [
      "\n"
     ]
    },
    {
     "data": {
      "text/html": [
       "<div>\n",
       "<style scoped>\n",
       "    .dataframe tbody tr th:only-of-type {\n",
       "        vertical-align: middle;\n",
       "    }\n",
       "\n",
       "    .dataframe tbody tr th {\n",
       "        vertical-align: top;\n",
       "    }\n",
       "\n",
       "    .dataframe thead th {\n",
       "        text-align: right;\n",
       "    }\n",
       "</style>\n",
       "<table border=\"1\" class=\"dataframe\">\n",
       "  <thead>\n",
       "    <tr style=\"text-align: right;\">\n",
       "      <th></th>\n",
       "      <th>title</th>\n",
       "      <th>text</th>\n",
       "      <th>complexity_level</th>\n",
       "      <th>example_summary</th>\n",
       "      <th>pred_summary</th>\n",
       "      <th>Metric</th>\n",
       "    </tr>\n",
       "  </thead>\n",
       "  <tbody>\n",
       "    <tr>\n",
       "      <th>0</th>\n",
       "      <td>Material Anything: Generating Materials for Any 3D Object via Diff...</td>\n",
       "      <td>Material Anything: Generating Materials for Any 3D Object via Diff...</td>\n",
       "      <td>1</td>\n",
       "      <td>Material Anything is a new way to automatically create realistic m...</td>\n",
       "      <td>Material Anything is a new way to automatically create realistic m...</td>\n",
       "      <td>✔️ [0.600]</td>\n",
       "    </tr>\n",
       "    <tr>\n",
       "      <th>1</th>\n",
       "      <td>Material Anything: Generating Materials for Any 3D Object via Diff...</td>\n",
       "      <td>Material Anything: Generating Materials for Any 3D Object via Diff...</td>\n",
       "      <td>2</td>\n",
       "      <td>Material Anything is a new method for automatically generating phy...</td>\n",
       "      <td>Material Anything is a new method for automatically generating phy...</td>\n",
       "      <td>✔️ [0.800]</td>\n",
       "    </tr>\n",
       "    <tr>\n",
       "      <th>2</th>\n",
       "      <td>Material Anything: Generating Materials for Any 3D Object via Diff...</td>\n",
       "      <td>Material Anything: Generating Materials for Any 3D Object via Diff...</td>\n",
       "      <td>3</td>\n",
       "      <td>Material Anything is a new, automated system for generating physic...</td>\n",
       "      <td>Material Anything is a new, automated system for generating physic...</td>\n",
       "      <td>✔️ [1.000]</td>\n",
       "    </tr>\n",
       "    <tr>\n",
       "      <th>3</th>\n",
       "      <td>Material Anything: Generating Materials for Any 3D Object via Diff...</td>\n",
       "      <td>Material Anything: Generating Materials for Any 3D Object via Diff...</td>\n",
       "      <td>4</td>\n",
       "      <td>Material Anything is a fully automated framework for generating ph...</td>\n",
       "      <td>Material Anything is a fully automated framework for generating ph...</td>\n",
       "      <td>✔️ [1.000]</td>\n",
       "    </tr>\n",
       "    <tr>\n",
       "      <th>4</th>\n",
       "      <td>Material Anything: Generating Materials for Any 3D Object via Diff...</td>\n",
       "      <td>Material Anything: Generating Materials for Any 3D Object via Diff...</td>\n",
       "      <td>5</td>\n",
       "      <td>Material Anything is a fully automated diffusion framework for gen...</td>\n",
       "      <td>Material Anything is a fully automated diffusion framework for gen...</td>\n",
       "      <td>✔️ [0.800]</td>\n",
       "    </tr>\n",
       "    <tr>\n",
       "      <th>5</th>\n",
       "      <td>TÜLU 3: Pushing Frontiers in Open Language Model Post-Training</td>\n",
       "      <td>TÜLU3: Pushing Frontiers in Open Language Model Post-Training Nath...</td>\n",
       "      <td>1</td>\n",
       "      <td>This research paper introduces TÜLU3, a family of open-source, sta...</td>\n",
       "      <td>This research paper introduces TÜLU3, a family of open-source, sta...</td>\n",
       "      <td>✔️ [0.600]</td>\n",
       "    </tr>\n",
       "    <tr>\n",
       "      <th>6</th>\n",
       "      <td>TÜLU 3: Pushing Frontiers in Open Language Model Post-Training</td>\n",
       "      <td>TÜLU3: Pushing Frontiers in Open Language Model Post-Training Nath...</td>\n",
       "      <td>2</td>\n",
       "      <td>TÜLU3 is a new family of open-source, state-of-the-art language mo...</td>\n",
       "      <td>TÜLU3 is a new family of open-source, state-of-the-art language mo...</td>\n",
       "      <td>✔️ [0.600]</td>\n",
       "    </tr>\n",
       "    <tr>\n",
       "      <th>7</th>\n",
       "      <td>TÜLU 3: Pushing Frontiers in Open Language Model Post-Training</td>\n",
       "      <td>TÜLU3: Pushing Frontiers in Open Language Model Post-Training Nath...</td>\n",
       "      <td>3</td>\n",
       "      <td>TÜLU3 is a family of open-source, state-of-the-art language models...</td>\n",
       "      <td>TÜLU3 is a family of open-source, state-of-the-art language models...</td>\n",
       "      <td>✔️ [0.800]</td>\n",
       "    </tr>\n",
       "    <tr>\n",
       "      <th>8</th>\n",
       "      <td>TÜLU 3: Pushing Frontiers in Open Language Model Post-Training</td>\n",
       "      <td>TÜLU3: Pushing Frontiers in Open Language Model Post-Training Nath...</td>\n",
       "      <td>4</td>\n",
       "      <td>TÜLU3 is a family of state-of-the-art, open-source language models...</td>\n",
       "      <td>TÜLU3 is a family of state-of-the-art, open-source language models...</td>\n",
       "      <td>✔️ [1.000]</td>\n",
       "    </tr>\n",
       "    <tr>\n",
       "      <th>9</th>\n",
       "      <td>TÜLU 3: Pushing Frontiers in Open Language Model Post-Training</td>\n",
       "      <td>TÜLU3: Pushing Frontiers in Open Language Model Post-Training Nath...</td>\n",
       "      <td>5</td>\n",
       "      <td>TÜLU3 is a family of open-source, state-of-the-art language models...</td>\n",
       "      <td>TÜLU3 is a family of open-source, state-of-the-art language models...</td>\n",
       "      <td>✔️ [0.800]</td>\n",
       "    </tr>\n",
       "    <tr>\n",
       "      <th>10</th>\n",
       "      <td>Enhancing the Reasoning Ability of Multimodal Large Language Model...</td>\n",
       "      <td>Enhancing the Reasoning Ability of Multimodal Large Language Model...</td>\n",
       "      <td>1</td>\n",
       "      <td>This research paper introduces a method called Mixed Preference Op...</td>\n",
       "      <td>This research paper introduces a method called Mixed Preference Op...</td>\n",
       "      <td>✔️ [0.400]</td>\n",
       "    </tr>\n",
       "    <tr>\n",
       "      <th>11</th>\n",
       "      <td>Enhancing the Reasoning Ability of Multimodal Large Language Model...</td>\n",
       "      <td>Enhancing the Reasoning Ability of Multimodal Large Language Model...</td>\n",
       "      <td>2</td>\n",
       "      <td>This research paper introduces a method called Mixed Preference Op...</td>\n",
       "      <td>This research paper introduces a method called Mixed Preference Op...</td>\n",
       "      <td>✔️ [0.800]</td>\n",
       "    </tr>\n",
       "    <tr>\n",
       "      <th>12</th>\n",
       "      <td>Enhancing the Reasoning Ability of Multimodal Large Language Model...</td>\n",
       "      <td>Enhancing the Reasoning Ability of Multimodal Large Language Model...</td>\n",
       "      <td>3</td>\n",
       "      <td>This research paper introduces a method called Mixed Preference Op...</td>\n",
       "      <td>This research paper introduces a method called Mixed Preference Op...</td>\n",
       "      <td>✔️ [1.000]</td>\n",
       "    </tr>\n",
       "    <tr>\n",
       "      <th>13</th>\n",
       "      <td>Enhancing the Reasoning Ability of Multimodal Large Language Model...</td>\n",
       "      <td>Enhancing the Reasoning Ability of Multimodal Large Language Model...</td>\n",
       "      <td>4</td>\n",
       "      <td>This paper introduces a method called Mixed Preference Optimizatio...</td>\n",
       "      <td>This paper introduces a method called Mixed Preference Optimizatio...</td>\n",
       "      <td>✔️ [1.000]</td>\n",
       "    </tr>\n",
       "    <tr>\n",
       "      <th>14</th>\n",
       "      <td>Enhancing the Reasoning Ability of Multimodal Large Language Model...</td>\n",
       "      <td>Enhancing the Reasoning Ability of Multimodal Large Language Model...</td>\n",
       "      <td>5</td>\n",
       "      <td>This research paper presents a novel approach, Mixed Preference Op...</td>\n",
       "      <td>This research paper presents a novel approach, Mixed Preference Op...</td>\n",
       "      <td>✔️ [0.800]</td>\n",
       "    </tr>\n",
       "    <tr>\n",
       "      <th>15</th>\n",
       "      <td>SageAttention2 Technical Report: Accurate 4 Bit Attention for Plug...</td>\n",
       "      <td>SageAttention2 Technical Report: Accurate 4 Bit Attention for Plug...</td>\n",
       "      <td>1</td>\n",
       "      <td>This research paper introduces SageAttention2, a method for accele...</td>\n",
       "      <td>This research paper introduces SageAttention2, a method for accele...</td>\n",
       "      <td>✔️ [0.400]</td>\n",
       "    </tr>\n",
       "    <tr>\n",
       "      <th>16</th>\n",
       "      <td>SageAttention2 Technical Report: Accurate 4 Bit Attention for Plug...</td>\n",
       "      <td>SageAttention2 Technical Report: Accurate 4 Bit Attention for Plug...</td>\n",
       "      <td>2</td>\n",
       "      <td>This research paper, \"SageAttention2 Technical Report: Accurate 4 ...</td>\n",
       "      <td>This research paper, \"SageAttention2 Technical Report: Accurate 4 ...</td>\n",
       "      <td>✔️ [0.600]</td>\n",
       "    </tr>\n",
       "    <tr>\n",
       "      <th>17</th>\n",
       "      <td>SageAttention2 Technical Report: Accurate 4 Bit Attention for Plug...</td>\n",
       "      <td>SageAttention2 Technical Report: Accurate 4 Bit Attention for Plug...</td>\n",
       "      <td>3</td>\n",
       "      <td>This paper, \"SageAttention2 Technical Report,\" presents SageAttent...</td>\n",
       "      <td>This paper, \"SageAttention2 Technical Report,\" presents SageAttent...</td>\n",
       "      <td>✔️ [0.800]</td>\n",
       "    </tr>\n",
       "    <tr>\n",
       "      <th>18</th>\n",
       "      <td>SageAttention2 Technical Report: Accurate 4 Bit Attention for Plug...</td>\n",
       "      <td>SageAttention2 Technical Report: Accurate 4 Bit Attention for Plug...</td>\n",
       "      <td>4</td>\n",
       "      <td>This research paper, \"SageAttention2 Technical Report: Accurate 4 ...</td>\n",
       "      <td>This research paper, \"SageAttention2 Technical Report: Accurate 4 ...</td>\n",
       "      <td>✔️ [1.000]</td>\n",
       "    </tr>\n",
       "    <tr>\n",
       "      <th>19</th>\n",
       "      <td>SageAttention2 Technical Report: Accurate 4 Bit Attention for Plug...</td>\n",
       "      <td>SageAttention2 Technical Report: Accurate 4 Bit Attention for Plug...</td>\n",
       "      <td>5</td>\n",
       "      <td>This paper, \"SageAttention2 Technical Report: Accurate 4 Bit Atten...</td>\n",
       "      <td>This paper, \"SageAttention2 Technical Report: Accurate 4 Bit Atten...</td>\n",
       "      <td>✔️ [0.800]</td>\n",
       "    </tr>\n",
       "    <tr>\n",
       "      <th>20</th>\n",
       "      <td>RedPajama: an Open Dataset for Training Large Language Models</td>\n",
       "      <td>RedPajama: an Open Dataset for Training Large Language Models Maur...</td>\n",
       "      <td>1</td>\n",
       "      <td>This paper introduces the RedPajama datasets, a large and open-sou...</td>\n",
       "      <td>This paper introduces the RedPajama datasets, a large and open-sou...</td>\n",
       "      <td>✔️ [0.600]</td>\n",
       "    </tr>\n",
       "    <tr>\n",
       "      <th>21</th>\n",
       "      <td>RedPajama: an Open Dataset for Training Large Language Models</td>\n",
       "      <td>RedPajama: an Open Dataset for Training Large Language Models Maur...</td>\n",
       "      <td>2</td>\n",
       "      <td>This paper introduces the RedPajama datasets, a large and open-sou...</td>\n",
       "      <td>This paper introduces the RedPajama datasets, a large and open-sou...</td>\n",
       "      <td>✔️ [0.800]</td>\n",
       "    </tr>\n",
       "    <tr>\n",
       "      <th>22</th>\n",
       "      <td>RedPajama: an Open Dataset for Training Large Language Models</td>\n",
       "      <td>RedPajama: an Open Dataset for Training Large Language Models Maur...</td>\n",
       "      <td>3</td>\n",
       "      <td>The paper introduces the RedPajama datasets, a large-scale, open-s...</td>\n",
       "      <td>The paper introduces the RedPajama datasets, a large-scale, open-s...</td>\n",
       "      <td>✔️ [1.000]</td>\n",
       "    </tr>\n",
       "    <tr>\n",
       "      <th>23</th>\n",
       "      <td>RedPajama: an Open Dataset for Training Large Language Models</td>\n",
       "      <td>RedPajama: an Open Dataset for Training Large Language Models Maur...</td>\n",
       "      <td>4</td>\n",
       "      <td>The paper introduces the RedPajama datasets, a significant contrib...</td>\n",
       "      <td>The paper introduces the RedPajama datasets, a significant contrib...</td>\n",
       "      <td>✔️ [0.800]</td>\n",
       "    </tr>\n",
       "    <tr>\n",
       "      <th>24</th>\n",
       "      <td>RedPajama: an Open Dataset for Training Large Language Models</td>\n",
       "      <td>RedPajama: an Open Dataset for Training Large Language Models Maur...</td>\n",
       "      <td>5</td>\n",
       "      <td>The paper presents the RedPajama datasets, a significant contribut...</td>\n",
       "      <td>The paper presents the RedPajama datasets, a significant contribut...</td>\n",
       "      <td>✔️ [0.600]</td>\n",
       "    </tr>\n",
       "  </tbody>\n",
       "</table>\n",
       "</div>"
      ],
      "text/plain": [
       "                                                                    title  \\\n",
       "0   Material Anything: Generating Materials for Any 3D Object via Diff...   \n",
       "1   Material Anything: Generating Materials for Any 3D Object via Diff...   \n",
       "2   Material Anything: Generating Materials for Any 3D Object via Diff...   \n",
       "3   Material Anything: Generating Materials for Any 3D Object via Diff...   \n",
       "4   Material Anything: Generating Materials for Any 3D Object via Diff...   \n",
       "5          TÜLU 3: Pushing Frontiers in Open Language Model Post-Training   \n",
       "6          TÜLU 3: Pushing Frontiers in Open Language Model Post-Training   \n",
       "7          TÜLU 3: Pushing Frontiers in Open Language Model Post-Training   \n",
       "8          TÜLU 3: Pushing Frontiers in Open Language Model Post-Training   \n",
       "9          TÜLU 3: Pushing Frontiers in Open Language Model Post-Training   \n",
       "10  Enhancing the Reasoning Ability of Multimodal Large Language Model...   \n",
       "11  Enhancing the Reasoning Ability of Multimodal Large Language Model...   \n",
       "12  Enhancing the Reasoning Ability of Multimodal Large Language Model...   \n",
       "13  Enhancing the Reasoning Ability of Multimodal Large Language Model...   \n",
       "14  Enhancing the Reasoning Ability of Multimodal Large Language Model...   \n",
       "15  SageAttention2 Technical Report: Accurate 4 Bit Attention for Plug...   \n",
       "16  SageAttention2 Technical Report: Accurate 4 Bit Attention for Plug...   \n",
       "17  SageAttention2 Technical Report: Accurate 4 Bit Attention for Plug...   \n",
       "18  SageAttention2 Technical Report: Accurate 4 Bit Attention for Plug...   \n",
       "19  SageAttention2 Technical Report: Accurate 4 Bit Attention for Plug...   \n",
       "20          RedPajama: an Open Dataset for Training Large Language Models   \n",
       "21          RedPajama: an Open Dataset for Training Large Language Models   \n",
       "22          RedPajama: an Open Dataset for Training Large Language Models   \n",
       "23          RedPajama: an Open Dataset for Training Large Language Models   \n",
       "24          RedPajama: an Open Dataset for Training Large Language Models   \n",
       "\n",
       "                                                                     text  \\\n",
       "0   Material Anything: Generating Materials for Any 3D Object via Diff...   \n",
       "1   Material Anything: Generating Materials for Any 3D Object via Diff...   \n",
       "2   Material Anything: Generating Materials for Any 3D Object via Diff...   \n",
       "3   Material Anything: Generating Materials for Any 3D Object via Diff...   \n",
       "4   Material Anything: Generating Materials for Any 3D Object via Diff...   \n",
       "5   TÜLU3: Pushing Frontiers in Open Language Model Post-Training Nath...   \n",
       "6   TÜLU3: Pushing Frontiers in Open Language Model Post-Training Nath...   \n",
       "7   TÜLU3: Pushing Frontiers in Open Language Model Post-Training Nath...   \n",
       "8   TÜLU3: Pushing Frontiers in Open Language Model Post-Training Nath...   \n",
       "9   TÜLU3: Pushing Frontiers in Open Language Model Post-Training Nath...   \n",
       "10  Enhancing the Reasoning Ability of Multimodal Large Language Model...   \n",
       "11  Enhancing the Reasoning Ability of Multimodal Large Language Model...   \n",
       "12  Enhancing the Reasoning Ability of Multimodal Large Language Model...   \n",
       "13  Enhancing the Reasoning Ability of Multimodal Large Language Model...   \n",
       "14  Enhancing the Reasoning Ability of Multimodal Large Language Model...   \n",
       "15  SageAttention2 Technical Report: Accurate 4 Bit Attention for Plug...   \n",
       "16  SageAttention2 Technical Report: Accurate 4 Bit Attention for Plug...   \n",
       "17  SageAttention2 Technical Report: Accurate 4 Bit Attention for Plug...   \n",
       "18  SageAttention2 Technical Report: Accurate 4 Bit Attention for Plug...   \n",
       "19  SageAttention2 Technical Report: Accurate 4 Bit Attention for Plug...   \n",
       "20  RedPajama: an Open Dataset for Training Large Language Models Maur...   \n",
       "21  RedPajama: an Open Dataset for Training Large Language Models Maur...   \n",
       "22  RedPajama: an Open Dataset for Training Large Language Models Maur...   \n",
       "23  RedPajama: an Open Dataset for Training Large Language Models Maur...   \n",
       "24  RedPajama: an Open Dataset for Training Large Language Models Maur...   \n",
       "\n",
       "    complexity_level  \\\n",
       "0                  1   \n",
       "1                  2   \n",
       "2                  3   \n",
       "3                  4   \n",
       "4                  5   \n",
       "5                  1   \n",
       "6                  2   \n",
       "7                  3   \n",
       "8                  4   \n",
       "9                  5   \n",
       "10                 1   \n",
       "11                 2   \n",
       "12                 3   \n",
       "13                 4   \n",
       "14                 5   \n",
       "15                 1   \n",
       "16                 2   \n",
       "17                 3   \n",
       "18                 4   \n",
       "19                 5   \n",
       "20                 1   \n",
       "21                 2   \n",
       "22                 3   \n",
       "23                 4   \n",
       "24                 5   \n",
       "\n",
       "                                                          example_summary  \\\n",
       "0   Material Anything is a new way to automatically create realistic m...   \n",
       "1   Material Anything is a new method for automatically generating phy...   \n",
       "2   Material Anything is a new, automated system for generating physic...   \n",
       "3   Material Anything is a fully automated framework for generating ph...   \n",
       "4   Material Anything is a fully automated diffusion framework for gen...   \n",
       "5   This research paper introduces TÜLU3, a family of open-source, sta...   \n",
       "6   TÜLU3 is a new family of open-source, state-of-the-art language mo...   \n",
       "7   TÜLU3 is a family of open-source, state-of-the-art language models...   \n",
       "8   TÜLU3 is a family of state-of-the-art, open-source language models...   \n",
       "9   TÜLU3 is a family of open-source, state-of-the-art language models...   \n",
       "10  This research paper introduces a method called Mixed Preference Op...   \n",
       "11  This research paper introduces a method called Mixed Preference Op...   \n",
       "12  This research paper introduces a method called Mixed Preference Op...   \n",
       "13  This paper introduces a method called Mixed Preference Optimizatio...   \n",
       "14  This research paper presents a novel approach, Mixed Preference Op...   \n",
       "15  This research paper introduces SageAttention2, a method for accele...   \n",
       "16  This research paper, \"SageAttention2 Technical Report: Accurate 4 ...   \n",
       "17  This paper, \"SageAttention2 Technical Report,\" presents SageAttent...   \n",
       "18  This research paper, \"SageAttention2 Technical Report: Accurate 4 ...   \n",
       "19  This paper, \"SageAttention2 Technical Report: Accurate 4 Bit Atten...   \n",
       "20  This paper introduces the RedPajama datasets, a large and open-sou...   \n",
       "21  This paper introduces the RedPajama datasets, a large and open-sou...   \n",
       "22  The paper introduces the RedPajama datasets, a large-scale, open-s...   \n",
       "23  The paper introduces the RedPajama datasets, a significant contrib...   \n",
       "24  The paper presents the RedPajama datasets, a significant contribut...   \n",
       "\n",
       "                                                             pred_summary  \\\n",
       "0   Material Anything is a new way to automatically create realistic m...   \n",
       "1   Material Anything is a new method for automatically generating phy...   \n",
       "2   Material Anything is a new, automated system for generating physic...   \n",
       "3   Material Anything is a fully automated framework for generating ph...   \n",
       "4   Material Anything is a fully automated diffusion framework for gen...   \n",
       "5   This research paper introduces TÜLU3, a family of open-source, sta...   \n",
       "6   TÜLU3 is a new family of open-source, state-of-the-art language mo...   \n",
       "7   TÜLU3 is a family of open-source, state-of-the-art language models...   \n",
       "8   TÜLU3 is a family of state-of-the-art, open-source language models...   \n",
       "9   TÜLU3 is a family of open-source, state-of-the-art language models...   \n",
       "10  This research paper introduces a method called Mixed Preference Op...   \n",
       "11  This research paper introduces a method called Mixed Preference Op...   \n",
       "12  This research paper introduces a method called Mixed Preference Op...   \n",
       "13  This paper introduces a method called Mixed Preference Optimizatio...   \n",
       "14  This research paper presents a novel approach, Mixed Preference Op...   \n",
       "15  This research paper introduces SageAttention2, a method for accele...   \n",
       "16  This research paper, \"SageAttention2 Technical Report: Accurate 4 ...   \n",
       "17  This paper, \"SageAttention2 Technical Report,\" presents SageAttent...   \n",
       "18  This research paper, \"SageAttention2 Technical Report: Accurate 4 ...   \n",
       "19  This paper, \"SageAttention2 Technical Report: Accurate 4 Bit Atten...   \n",
       "20  This paper introduces the RedPajama datasets, a large and open-sou...   \n",
       "21  This paper introduces the RedPajama datasets, a large and open-sou...   \n",
       "22  The paper introduces the RedPajama datasets, a large-scale, open-s...   \n",
       "23  The paper introduces the RedPajama datasets, a significant contrib...   \n",
       "24  The paper presents the RedPajama datasets, a significant contribut...   \n",
       "\n",
       "        Metric  \n",
       "0   ✔️ [0.600]  \n",
       "1   ✔️ [0.800]  \n",
       "2   ✔️ [1.000]  \n",
       "3   ✔️ [1.000]  \n",
       "4   ✔️ [0.800]  \n",
       "5   ✔️ [0.600]  \n",
       "6   ✔️ [0.600]  \n",
       "7   ✔️ [0.800]  \n",
       "8   ✔️ [1.000]  \n",
       "9   ✔️ [0.800]  \n",
       "10  ✔️ [0.400]  \n",
       "11  ✔️ [0.800]  \n",
       "12  ✔️ [1.000]  \n",
       "13  ✔️ [1.000]  \n",
       "14  ✔️ [0.800]  \n",
       "15  ✔️ [0.400]  \n",
       "16  ✔️ [0.600]  \n",
       "17  ✔️ [0.800]  \n",
       "18  ✔️ [1.000]  \n",
       "19  ✔️ [0.800]  \n",
       "20  ✔️ [0.600]  \n",
       "21  ✔️ [0.800]  \n",
       "22  ✔️ [1.000]  \n",
       "23  ✔️ [0.800]  \n",
       "24  ✔️ [0.600]  "
      ]
     },
     "metadata": {},
     "output_type": "display_data"
    }
   ],
   "source": [
    "from dspy.evaluate import Evaluate\n",
    "\n",
    "# Set up the evaluator\n",
    "evaluator = Evaluate(\n",
    "    devset=dataset,\n",
    "    metric=metric_program,  \n",
    "    num_threads=4,  \n",
    "    display_progress=True,\n",
    "    display_table=25\n",
    ")\n",
    "\n",
    "# Run the evaluation\n",
    "print(\"Evaluating baseline program...\")\n",
    "results = evaluator(program)"
   ]
  },
  {
   "cell_type": "markdown",
   "metadata": {},
   "source": [
    "# Optimize program"
   ]
  },
  {
   "cell_type": "code",
   "execution_count": 58,
   "metadata": {},
   "outputs": [
    {
     "data": {
      "text/html": [
       "<pre style=\"white-space:pre;overflow-x:auto;line-height:normal;font-family:Menlo,'DejaVu Sans Mono',consolas,'Courier New',monospace\">Optimizing program with MIPRO<span style=\"color: #808000; text-decoration-color: #808000\">...</span>\n",
       "</pre>\n"
      ],
      "text/plain": [
       "Optimizing program with MIPRO\u001b[33m...\u001b[0m\n"
      ]
     },
     "metadata": {},
     "output_type": "display_data"
    },
    {
     "name": "stderr",
     "output_type": "stream",
     "text": [
      "2024/12/06 11:09:23 INFO dspy.teleprompt.mipro_optimizer_v2: \n",
      "RUNNING WITH THE FOLLOWING LIGHT AUTO RUN SETTINGS:\n",
      "num_trials: 7\n",
      "minibatch: False\n",
      "num_candidates: 5\n",
      "valset size: 20\n",
      "\n",
      "2024/12/06 11:09:23 INFO dspy.teleprompt.mipro_optimizer_v2: \n",
      "==> STEP 1: BOOTSTRAP FEWSHOT EXAMPLES <==\n",
      "2024/12/06 11:09:23 INFO dspy.teleprompt.mipro_optimizer_v2: These will be used as few-shot example candidates for our program and for creating instructions.\n",
      "\n",
      "2024/12/06 11:09:23 INFO dspy.teleprompt.mipro_optimizer_v2: Bootstrapping N=5 sets of demonstrations...\n"
     ]
    },
    {
     "name": "stdout",
     "output_type": "stream",
     "text": [
      "Bootstrapping set 1/5\n",
      "Bootstrapping set 2/5\n",
      "Bootstrapping set 3/5\n"
     ]
    },
    {
     "name": "stderr",
     "output_type": "stream",
     "text": [
      " 60%|██████    | 3/5 [00:15<00:10,  5.33s/it]\n"
     ]
    },
    {
     "name": "stdout",
     "output_type": "stream",
     "text": [
      "Bootstrapped 3 full traces after 3 examples for up to 1 rounds, amounting to 3 attempts.\n",
      "Bootstrapping set 4/5\n"
     ]
    },
    {
     "name": "stderr",
     "output_type": "stream",
     "text": [
      " 20%|██        | 1/5 [00:05<00:20,  5.25s/it]\n"
     ]
    },
    {
     "name": "stdout",
     "output_type": "stream",
     "text": [
      "Bootstrapped 1 full traces after 1 examples for up to 1 rounds, amounting to 1 attempts.\n",
      "Bootstrapping set 5/5\n"
     ]
    },
    {
     "name": "stderr",
     "output_type": "stream",
     "text": [
      " 60%|██████    | 3/5 [00:37<00:25, 12.57s/it]\n",
      "2024/12/06 11:10:22 INFO dspy.teleprompt.mipro_optimizer_v2: \n",
      "==> STEP 2: PROPOSE INSTRUCTION CANDIDATES <==\n",
      "2024/12/06 11:10:22 INFO dspy.teleprompt.mipro_optimizer_v2: We will use the few-shot examples from the previous step, a generated dataset summary, a summary of the program code, and a randomly selected prompting tip to propose instructions.\n"
     ]
    },
    {
     "name": "stdout",
     "output_type": "stream",
     "text": [
      "Bootstrapped 3 full traces after 3 examples for up to 1 rounds, amounting to 3 attempts.\n"
     ]
    },
    {
     "name": "stderr",
     "output_type": "stream",
     "text": [
      "2024/12/06 11:10:35 INFO dspy.teleprompt.mipro_optimizer_v2: \n",
      "Proposing instructions...\n",
      "\n",
      "2024/12/06 11:11:25 INFO dspy.teleprompt.mipro_optimizer_v2: Proposed Instructions for Predictor 0:\n",
      "\n",
      "2024/12/06 11:11:25 INFO dspy.teleprompt.mipro_optimizer_v2: 0: Generate a summary of the provided research paper at a specified complexity level.\n",
      "The summary can be up to four paragraphs long and should be tailored to the specified complexity level.\n",
      "\n",
      "2024/12/06 11:11:25 INFO dspy.teleprompt.mipro_optimizer_v2: 1: Generate a tailored summary of the provided research paper based on the specified complexity level (1-5). The summary should be no longer than four paragraphs and should be suited to the understanding of the intended audience.\n",
      "\n",
      "2024/12/06 11:11:25 INFO dspy.teleprompt.mipro_optimizer_v2: 2: Create a detailed summary of the research paper titled \"Material Anything: Generating Materials for Any 3D Object via Diffusion.\" The summary should be structured into up to four paragraphs and tailored to a complexity level of 3, providing a clear understanding of the program's methodology, innovations, and applications. Highlight key features such as the use of diffusion models, the role of confidence masks in material estimation, and the significance of the Material3D dataset in training the model. Ensure that the summary captures both the technical aspects and the broader implications of the research for 3D content creation.\n",
      "\n",
      "2024/12/06 11:11:25 INFO dspy.teleprompt.mipro_optimizer_v2: 3: You are a research assistant tasked with simplifying complex academic content. Generate a summary of the provided research paper at a specified complexity level. The summary can be up to four paragraphs long and should be tailored to the specified complexity level, ranging from 1 (more elementary) to 5 (more advanced). Ensure that the essential information is preserved while making it accessible for the target audience.\n",
      "\n",
      "2024/12/06 11:11:25 INFO dspy.teleprompt.mipro_optimizer_v2: 4: Create a concise summary of the research paper titled \"Material Anything: Generating Materials for Any 3D Object via Diffusion.\" Tailor the summary to a complexity level of 3, ensuring it captures the key innovations, methodologies, and results discussed in the paper. The summary should highlight the unique aspects of the triple-head architecture, the use of confidence masks, and the progressive material generation strategy, while being accessible to readers with a moderate understanding of the topic. Limit the summary to four paragraphs.\n",
      "\n",
      "2024/12/06 11:11:25 INFO dspy.teleprompt.mipro_optimizer_v2: \n",
      "\n",
      "2024/12/06 11:11:25 INFO dspy.teleprompt.mipro_optimizer_v2: Evaluating the default program...\n",
      "\n"
     ]
    },
    {
     "name": "stdout",
     "output_type": "stream",
     "text": [
      "Average Metric: 15.20 / 20 (76.0%): 100%|██████████| 20/20 [00:00<00:00, 3441.90it/s]"
     ]
    },
    {
     "name": "stderr",
     "output_type": "stream",
     "text": [
      "2024/12/06 11:11:25 INFO dspy.evaluate.evaluate: Average Metric: 15.200000000000001 / 20 (76.0%)\n",
      "2024/12/06 11:11:25 INFO dspy.teleprompt.mipro_optimizer_v2: Default program score: 76.0\n",
      "\n",
      "2024/12/06 11:11:25 INFO dspy.teleprompt.mipro_optimizer_v2: ==> STEP 3: FINDING OPTIMAL PROMPT PARAMETERS <==\n",
      "2024/12/06 11:11:25 INFO dspy.teleprompt.mipro_optimizer_v2: We will evaluate the program over a series of trials with different combinations of instructions and few-shot examples to find the optimal combination using Bayesian Optimization.\n",
      "\n",
      "/Users/daniel.liden/git/devrel-examples/.venv/lib/python3.13/site-packages/optuna/_experimental.py:31: ExperimentalWarning: Argument ``multivariate`` is an experimental feature. The interface can change in the future.\n",
      "  warnings.warn(\n",
      "2024/12/06 11:11:25 INFO dspy.teleprompt.mipro_optimizer_v2: ===== Trial 1 / 7 =====\n"
     ]
    },
    {
     "name": "stdout",
     "output_type": "stream",
     "text": [
      "\n",
      "Average Metric: 16.20 / 20 (81.0%): 100%|██████████| 20/20 [01:12<00:00,  3.64s/it]"
     ]
    },
    {
     "name": "stderr",
     "output_type": "stream",
     "text": [
      "2024/12/06 11:12:38 INFO dspy.evaluate.evaluate: Average Metric: 16.2 / 20 (81.0%)\n",
      "2024/12/06 11:12:38 INFO dspy.teleprompt.mipro_optimizer_v2: \u001b[92mBest full score so far!\u001b[0m Score: 81.0\n",
      "2024/12/06 11:12:38 INFO dspy.teleprompt.mipro_optimizer_v2: Score: 81.0 with parameters ['Predictor 0: Instruction 1', 'Predictor 0: Few-Shot Set 1'].\n",
      "2024/12/06 11:12:38 INFO dspy.teleprompt.mipro_optimizer_v2: Scores so far: [76.0, 81.0]\n",
      "2024/12/06 11:12:38 INFO dspy.teleprompt.mipro_optimizer_v2: Best score so far: 81.0\n",
      "2024/12/06 11:12:38 INFO dspy.teleprompt.mipro_optimizer_v2: =======================\n",
      "\n",
      "\n",
      "2024/12/06 11:12:38 INFO dspy.teleprompt.mipro_optimizer_v2: ===== Trial 2 / 7 =====\n"
     ]
    },
    {
     "name": "stdout",
     "output_type": "stream",
     "text": [
      "\n",
      "Average Metric: 16.20 / 20 (81.0%): 100%|██████████| 20/20 [01:09<00:00,  3.49s/it]"
     ]
    },
    {
     "name": "stderr",
     "output_type": "stream",
     "text": [
      "2024/12/06 11:13:48 INFO dspy.evaluate.evaluate: Average Metric: 16.2 / 20 (81.0%)\n",
      "2024/12/06 11:13:48 INFO dspy.teleprompt.mipro_optimizer_v2: Score: 81.0 with parameters ['Predictor 0: Instruction 2', 'Predictor 0: Few-Shot Set 1'].\n",
      "2024/12/06 11:13:48 INFO dspy.teleprompt.mipro_optimizer_v2: Scores so far: [76.0, 81.0, 81.0]\n",
      "2024/12/06 11:13:48 INFO dspy.teleprompt.mipro_optimizer_v2: Best score so far: 81.0\n",
      "2024/12/06 11:13:48 INFO dspy.teleprompt.mipro_optimizer_v2: =======================\n",
      "\n",
      "\n",
      "2024/12/06 11:13:48 INFO dspy.teleprompt.mipro_optimizer_v2: ===== Trial 3 / 7 =====\n"
     ]
    },
    {
     "name": "stdout",
     "output_type": "stream",
     "text": [
      "\n",
      "Average Metric: 16.20 / 20 (81.0%): 100%|██████████| 20/20 [01:05<00:00,  3.25s/it]"
     ]
    },
    {
     "name": "stderr",
     "output_type": "stream",
     "text": [
      "2024/12/06 11:14:53 INFO dspy.evaluate.evaluate: Average Metric: 16.2 / 20 (81.0%)\n",
      "2024/12/06 11:14:53 INFO dspy.teleprompt.mipro_optimizer_v2: Score: 81.0 with parameters ['Predictor 0: Instruction 4', 'Predictor 0: Few-Shot Set 1'].\n",
      "2024/12/06 11:14:53 INFO dspy.teleprompt.mipro_optimizer_v2: Scores so far: [76.0, 81.0, 81.0, 81.0]\n",
      "2024/12/06 11:14:53 INFO dspy.teleprompt.mipro_optimizer_v2: Best score so far: 81.0\n",
      "2024/12/06 11:14:53 INFO dspy.teleprompt.mipro_optimizer_v2: =======================\n",
      "\n",
      "\n",
      "2024/12/06 11:14:53 INFO dspy.teleprompt.mipro_optimizer_v2: ===== Trial 4 / 7 =====\n"
     ]
    },
    {
     "name": "stdout",
     "output_type": "stream",
     "text": [
      "\n",
      "Average Metric: 16.20 / 20 (81.0%): 100%|██████████| 20/20 [00:00<00:00, 3612.66it/s]"
     ]
    },
    {
     "name": "stderr",
     "output_type": "stream",
     "text": [
      "2024/12/06 11:14:53 INFO dspy.evaluate.evaluate: Average Metric: 16.2 / 20 (81.0%)\n",
      "2024/12/06 11:14:53 INFO dspy.teleprompt.mipro_optimizer_v2: Score: 81.0 with parameters ['Predictor 0: Instruction 2', 'Predictor 0: Few-Shot Set 1'].\n",
      "2024/12/06 11:14:53 INFO dspy.teleprompt.mipro_optimizer_v2: Scores so far: [76.0, 81.0, 81.0, 81.0, 81.0]\n",
      "2024/12/06 11:14:53 INFO dspy.teleprompt.mipro_optimizer_v2: Best score so far: 81.0\n",
      "2024/12/06 11:14:53 INFO dspy.teleprompt.mipro_optimizer_v2: =======================\n",
      "\n",
      "\n",
      "2024/12/06 11:14:53 INFO dspy.teleprompt.mipro_optimizer_v2: ===== Trial 5 / 7 =====\n"
     ]
    },
    {
     "name": "stdout",
     "output_type": "stream",
     "text": [
      "\n",
      "Average Metric: 15.00 / 20 (75.0%): 100%|██████████| 20/20 [01:07<00:00,  3.36s/it]"
     ]
    },
    {
     "name": "stderr",
     "output_type": "stream",
     "text": [
      "2024/12/06 11:16:00 INFO dspy.evaluate.evaluate: Average Metric: 15.0 / 20 (75.0%)\n",
      "2024/12/06 11:16:00 INFO dspy.teleprompt.mipro_optimizer_v2: Score: 75.0 with parameters ['Predictor 0: Instruction 4', 'Predictor 0: Few-Shot Set 3'].\n",
      "2024/12/06 11:16:00 INFO dspy.teleprompt.mipro_optimizer_v2: Scores so far: [76.0, 81.0, 81.0, 81.0, 81.0, 75.0]\n",
      "2024/12/06 11:16:00 INFO dspy.teleprompt.mipro_optimizer_v2: Best score so far: 81.0\n",
      "2024/12/06 11:16:00 INFO dspy.teleprompt.mipro_optimizer_v2: =======================\n",
      "\n",
      "\n",
      "2024/12/06 11:16:00 INFO dspy.teleprompt.mipro_optimizer_v2: ===== Trial 6 / 7 =====\n"
     ]
    },
    {
     "name": "stdout",
     "output_type": "stream",
     "text": [
      "\n",
      "Average Metric: 16.20 / 20 (81.0%): 100%|██████████| 20/20 [01:00<00:00,  3.02s/it]"
     ]
    },
    {
     "name": "stderr",
     "output_type": "stream",
     "text": [
      "2024/12/06 11:17:01 INFO dspy.evaluate.evaluate: Average Metric: 16.2 / 20 (81.0%)\n",
      "2024/12/06 11:17:01 INFO dspy.teleprompt.mipro_optimizer_v2: Score: 81.0 with parameters ['Predictor 0: Instruction 0', 'Predictor 0: Few-Shot Set 1'].\n",
      "2024/12/06 11:17:01 INFO dspy.teleprompt.mipro_optimizer_v2: Scores so far: [76.0, 81.0, 81.0, 81.0, 81.0, 75.0, 81.0]\n",
      "2024/12/06 11:17:01 INFO dspy.teleprompt.mipro_optimizer_v2: Best score so far: 81.0\n",
      "2024/12/06 11:17:01 INFO dspy.teleprompt.mipro_optimizer_v2: =======================\n",
      "\n",
      "\n",
      "2024/12/06 11:17:01 INFO dspy.teleprompt.mipro_optimizer_v2: ===== Trial 7 / 7 =====\n"
     ]
    },
    {
     "name": "stdout",
     "output_type": "stream",
     "text": [
      "\n",
      "Average Metric: 15.60 / 20 (78.0%): 100%|██████████| 20/20 [01:21<00:00,  4.06s/it]"
     ]
    },
    {
     "name": "stderr",
     "output_type": "stream",
     "text": [
      "2024/12/06 11:18:22 INFO dspy.evaluate.evaluate: Average Metric: 15.6 / 20 (78.0%)\n",
      "2024/12/06 11:18:22 INFO dspy.teleprompt.mipro_optimizer_v2: Score: 78.0 with parameters ['Predictor 0: Instruction 4', 'Predictor 0: Few-Shot Set 4'].\n",
      "2024/12/06 11:18:22 INFO dspy.teleprompt.mipro_optimizer_v2: Scores so far: [76.0, 81.0, 81.0, 81.0, 81.0, 75.0, 81.0, 78.0]\n",
      "2024/12/06 11:18:22 INFO dspy.teleprompt.mipro_optimizer_v2: Best score so far: 81.0\n",
      "2024/12/06 11:18:22 INFO dspy.teleprompt.mipro_optimizer_v2: =======================\n",
      "\n",
      "\n",
      "2024/12/06 11:18:22 INFO dspy.teleprompt.mipro_optimizer_v2: Returning best identified program with score 81.0!\n"
     ]
    },
    {
     "name": "stdout",
     "output_type": "stream",
     "text": [
      "\n"
     ]
    }
   ],
   "source": [
    "from dspy.teleprompt import MIPROv2\n",
    "\n",
    "optim = MIPROv2(\n",
    "    metric = metric_program,\n",
    "    prompt_model=lm_openai,\n",
    "    task_model=lm_openai,\n",
    "    auto=\"light\"\n",
    ")\n",
    "\n",
    "# Optimize program\n",
    "print(\"Optimizing program with MIPRO...\")\n",
    "optimized_program = optim.compile(\n",
    "    program.deepcopy(),\n",
    "    trainset=dataset,#_with_metrics,\n",
    "    max_bootstrapped_demos=3,\n",
    "    max_labeled_demos=4,\n",
    "    requires_permission_to_run=False,\n",
    ")\n",
    "\n",
    "# Save optimize program for future use\n",
    "optimized_program.save(\"mipro_optimized\")"
   ]
  },
  {
   "cell_type": "code",
   "execution_count": 59,
   "metadata": {},
   "outputs": [
    {
     "data": {
      "text/html": [
       "<pre style=\"white-space:pre;overflow-x:auto;line-height:normal;font-family:Menlo,'DejaVu Sans Mono',consolas,'Courier New',monospace\">original:  This paper introduces the RedPajama datasets, a large and open-source collection of text data for \n",
       "training large language models <span style=\"font-weight: bold\">(</span>LLMs<span style=\"font-weight: bold\">)</span>.  RedPajama-V1 is a replication of the LLaMA training dataset, while \n",
       "RedPajama-V2 is a massive web-only dataset containing raw, unfiltered text along with quality signals.  The \n",
       "datasets are designed with transparency, scale, and versatility in mind, providing a valuable resource for the LLM \n",
       "community.  Quality signals in RedPajama-V2 allow users to filter the data to create subsets of varying quality, \n",
       "which are then evaluated using various NLP benchmarks.  Experiments with decoder-only Transformer models show that \n",
       "filtering with the quality signals can improve model performance.  The authors believe that these datasets will \n",
       "contribute to the development of more transparent and high-performing LLMs. \n",
       "\n",
       "\n",
       "optimized:  RedPajama is a large dataset of text that can be used to train powerful language models.  It's \n",
       "important because many of the best language models don't share details about how their training data was created.  \n",
       "RedPajama is different because it's open source, meaning anyone can use it and see how it was made.  The dataset \n",
       "comes in two versions.  The first is a copy of the data used to train another popular language model, LLaMA.  The \n",
       "second is a much larger collection of text pulled from the internet, along with information about the quality of \n",
       "each piece of text.  This quality information helps researchers figure out which parts of the dataset are better to\n",
       "use for training, so they can build even more accurate language models.\n",
       "</pre>\n"
      ],
      "text/plain": [
       "original:  This paper introduces the RedPajama datasets, a large and open-source collection of text data for \n",
       "training large language models \u001b[1m(\u001b[0mLLMs\u001b[1m)\u001b[0m.  RedPajama-V1 is a replication of the LLaMA training dataset, while \n",
       "RedPajama-V2 is a massive web-only dataset containing raw, unfiltered text along with quality signals.  The \n",
       "datasets are designed with transparency, scale, and versatility in mind, providing a valuable resource for the LLM \n",
       "community.  Quality signals in RedPajama-V2 allow users to filter the data to create subsets of varying quality, \n",
       "which are then evaluated using various NLP benchmarks.  Experiments with decoder-only Transformer models show that \n",
       "filtering with the quality signals can improve model performance.  The authors believe that these datasets will \n",
       "contribute to the development of more transparent and high-performing LLMs. \n",
       "\n",
       "\n",
       "optimized:  RedPajama is a large dataset of text that can be used to train powerful language models.  It's \n",
       "important because many of the best language models don't share details about how their training data was created.  \n",
       "RedPajama is different because it's open source, meaning anyone can use it and see how it was made.  The dataset \n",
       "comes in two versions.  The first is a copy of the data used to train another popular language model, LLaMA.  The \n",
       "second is a much larger collection of text pulled from the internet, along with information about the quality of \n",
       "each piece of text.  This quality information helps researchers figure out which parts of the dataset are better to\n",
       "use for training, so they can build even more accurate language models.\n"
      ]
     },
     "metadata": {},
     "output_type": "display_data"
    }
   ],
   "source": [
    "print(\"original: \",program(title=paper[0], text=paper[1][:50000], complexity_level=1)[\"summary\"],\n",
    "      \"\\n\\n\\noptimized: \",optimized_program(title=paper[0], text=paper[1][:50000], complexity_level=1)[\"summary\"])\n"
   ]
  },
  {
   "cell_type": "code",
   "execution_count": 60,
   "metadata": {},
   "outputs": [
    {
     "data": {
      "text/html": [
       "<pre style=\"white-space:pre;overflow-x:auto;line-height:normal;font-family:Menlo,'DejaVu Sans Mono',consolas,'Courier New',monospace\">original:  The paper introduces RedPajama, a large, open-source dataset for training large language models <span style=\"font-weight: bold\">(</span>LLMs<span style=\"font-weight: bold\">)</span>. \n",
       "It addresses three crucial challenges: transparency in model development, access to high-quality data, and \n",
       "availability of artifacts and metadata.  RedPajama-V1 is an open-source reproduction of the LLaMA training dataset,\n",
       "while RedPajama-V2 is a massive web-only dataset comprised of raw, unfiltered text data along with quality signals \n",
       "and metadata, spanning over <span style=\"color: #008080; text-decoration-color: #008080; font-weight: bold\">100</span> trillion tokens across multiple domains.  This allows researchers and developers to\n",
       "create their own filtered subsets, promoting transparency and versatility.  The paper details the creation process,\n",
       "data processing steps, and quality signals for both datasets, including the reproduction of the LLaMA training data\n",
       "from seven sources <span style=\"font-weight: bold\">(</span>CommonCrawl, C4, GitHub, etc.<span style=\"font-weight: bold\">)</span> and the significant curation effort involved in RedPajama-V2 \n",
       "from CommonCrawl data.  Extensive ablation studies with decoder-only Transformer models demonstrate the \n",
       "effectiveness of the quality signals in creating high-performing models on various NLP benchmarks.  The paper \n",
       "concludes by emphasizing the importance of open-source datasets and highlighting RedPajama's potential to advance \n",
       "the development of transparent and high-performing LLMs at scale, while also acknowledging limitations of the \n",
       "study. \n",
       "\n",
       "\n",
       "optimized:  RedPajama is a large, open-source dataset for training large language models <span style=\"font-weight: bold\">(</span>LLMs<span style=\"font-weight: bold\">)</span>.  It's significant \n",
       "because it aims for transparency in dataset creation, providing detailed information about how the data was \n",
       "collected and processed, unlike many other leading LLMs.  The dataset has two main versions: RedPajama-V1, a \n",
       "reproduction of the LLaMA training dataset, and RedPajama-V2, a massive web-only dataset containing over <span style=\"color: #008080; text-decoration-color: #008080; font-weight: bold\">100</span> \n",
       "trillion tokens from various languages, spanning the years <span style=\"color: #008080; text-decoration-color: #008080; font-weight: bold\">2014</span>-<span style=\"color: #008080; text-decoration-color: #008080; font-weight: bold\">2023</span>.  Crucially, RedPajama-V2 includes a variety \n",
       "of <span style=\"color: #008000; text-decoration-color: #008000\">\"quality signals\"</span> <span style=\"font-weight: bold\">(</span>e.g., measures of natural language, repetitiveness, and content quality<span style=\"font-weight: bold\">)</span> with each document. \n",
       "This allows researchers to create customized subsets of the data based on specific quality criteria, leading to \n",
       "LLMs with varying performance on different benchmarks.  The paper also details the challenges of training large \n",
       "language models on this scale, including adapting to specialized hardware <span style=\"font-weight: bold\">(</span>like the Summit supercomputer<span style=\"font-weight: bold\">)</span> and using\n",
       "techniques to maintain model stability.  The results show that even with a significant size advantage, RedPajama-V2\n",
       "can perform comparably or better than other leading open-source LLMs trained on smaller, more meticulously curated \n",
       "datasets.  The dataset and its associated quality signals are intended to enable further research into creating \n",
       "high-quality LLM training data from web sources.\n",
       "</pre>\n"
      ],
      "text/plain": [
       "original:  The paper introduces RedPajama, a large, open-source dataset for training large language models \u001b[1m(\u001b[0mLLMs\u001b[1m)\u001b[0m. \n",
       "It addresses three crucial challenges: transparency in model development, access to high-quality data, and \n",
       "availability of artifacts and metadata.  RedPajama-V1 is an open-source reproduction of the LLaMA training dataset,\n",
       "while RedPajama-V2 is a massive web-only dataset comprised of raw, unfiltered text data along with quality signals \n",
       "and metadata, spanning over \u001b[1;36m100\u001b[0m trillion tokens across multiple domains.  This allows researchers and developers to\n",
       "create their own filtered subsets, promoting transparency and versatility.  The paper details the creation process,\n",
       "data processing steps, and quality signals for both datasets, including the reproduction of the LLaMA training data\n",
       "from seven sources \u001b[1m(\u001b[0mCommonCrawl, C4, GitHub, etc.\u001b[1m)\u001b[0m and the significant curation effort involved in RedPajama-V2 \n",
       "from CommonCrawl data.  Extensive ablation studies with decoder-only Transformer models demonstrate the \n",
       "effectiveness of the quality signals in creating high-performing models on various NLP benchmarks.  The paper \n",
       "concludes by emphasizing the importance of open-source datasets and highlighting RedPajama's potential to advance \n",
       "the development of transparent and high-performing LLMs at scale, while also acknowledging limitations of the \n",
       "study. \n",
       "\n",
       "\n",
       "optimized:  RedPajama is a large, open-source dataset for training large language models \u001b[1m(\u001b[0mLLMs\u001b[1m)\u001b[0m.  It's significant \n",
       "because it aims for transparency in dataset creation, providing detailed information about how the data was \n",
       "collected and processed, unlike many other leading LLMs.  The dataset has two main versions: RedPajama-V1, a \n",
       "reproduction of the LLaMA training dataset, and RedPajama-V2, a massive web-only dataset containing over \u001b[1;36m100\u001b[0m \n",
       "trillion tokens from various languages, spanning the years \u001b[1;36m2014\u001b[0m-\u001b[1;36m2023\u001b[0m.  Crucially, RedPajama-V2 includes a variety \n",
       "of \u001b[32m\"quality signals\"\u001b[0m \u001b[1m(\u001b[0me.g., measures of natural language, repetitiveness, and content quality\u001b[1m)\u001b[0m with each document. \n",
       "This allows researchers to create customized subsets of the data based on specific quality criteria, leading to \n",
       "LLMs with varying performance on different benchmarks.  The paper also details the challenges of training large \n",
       "language models on this scale, including adapting to specialized hardware \u001b[1m(\u001b[0mlike the Summit supercomputer\u001b[1m)\u001b[0m and using\n",
       "techniques to maintain model stability.  The results show that even with a significant size advantage, RedPajama-V2\n",
       "can perform comparably or better than other leading open-source LLMs trained on smaller, more meticulously curated \n",
       "datasets.  The dataset and its associated quality signals are intended to enable further research into creating \n",
       "high-quality LLM training data from web sources.\n"
      ]
     },
     "metadata": {},
     "output_type": "display_data"
    }
   ],
   "source": [
    "print(\"original: \",program(title=paper[0], text=paper[1][:50000], complexity_level=5)[\"summary\"],\n",
    "      \"\\n\\n\\noptimized: \",optimized_program(title=paper[0], text=paper[1][:50000], complexity_level=5)[\"summary\"])\n",
    "\n"
   ]
  },
  {
   "cell_type": "markdown",
   "metadata": {},
   "source": [
    "# Log the model to MLflow"
   ]
  },
  {
   "cell_type": "code",
   "execution_count": 63,
   "metadata": {},
   "outputs": [
    {
     "name": "stderr",
     "output_type": "stream",
     "text": [
      "/Users/daniel.liden/git/devrel-examples/.venv/lib/python3.13/site-packages/mlflow/types/utils.py:407: UserWarning: Hint: Inferred schema contains integer column(s). Integer columns in Python cannot represent missing values. If your input data contains missing values at inference time, it will be encoded as floats and will cause a schema enforcement error. The best way to avoid this problem is to infer the model schema based on a realistic data sample (training dataset) that includes missing values. Alternatively, you can declare integer columns as doubles (float64) whenever these columns may have missing values. See `Handling Integers With Missing Values <https://www.mlflow.org/docs/latest/models.html#handling-integers-with-missing-values>`_ for more details.\n",
      "  warnings.warn(\n",
      "2024/12/06 11:22:30 WARNING mlflow.models.signature: Failed to infer the model signature from the input example. Reason: MlflowException(\"Dspy model doesn't support multiple inputs or batch inference. Please provide a single input.\"). To see the full traceback, set the logging level to DEBUG via `logging.getLogger(\"mlflow\").setLevel(logging.DEBUG)`. To disable automatic signature inference, set `signature` to `False` in your `log_model` or `save_model` call.\n",
      "2024/12/06 11:22:33 WARNING mlflow.utils.environment: Failed to resolve installed pip version. ``pip`` will be added to conda.yaml environment spec without a version specifier.\n"
     ]
    }
   ],
   "source": [
    "with mlflow.start_run():\n",
    "    model_info = mlflow.dspy.log_model(\n",
    "        optimized_program,\n",
    "        \"optim_model\",\n",
    "        input_example={\"title\": \"dummy_title\", \"text\": \"dummy_text\", \"complexity_level\": 1},\n",
    "    )"
   ]
  },
  {
   "cell_type": "code",
   "execution_count": 64,
   "metadata": {},
   "outputs": [
    {
     "data": {
      "text/html": [
       "<pre style=\"white-space:pre;overflow-x:auto;line-height:normal;font-family:Menlo,'DejaVu Sans Mono',consolas,'Courier New',monospace\">RedPajama is a large dataset of text that can be used to train powerful language models.  It's important because \n",
       "many of the best language models don't share details about how their training data was created.  RedPajama is \n",
       "different because it's open source, meaning anyone can use it and see how it was made.  The dataset comes in two \n",
       "versions.  The first is a copy of the data used to train another popular language model, LLaMA.  The second is a \n",
       "much larger collection of text pulled from the internet, along with information about the quality of each piece of \n",
       "text.  This quality information helps researchers figure out which parts of the dataset are better to use for \n",
       "training, so they can build even more accurate language models.\n",
       "</pre>\n"
      ],
      "text/plain": [
       "RedPajama is a large dataset of text that can be used to train powerful language models.  It's important because \n",
       "many of the best language models don't share details about how their training data was created.  RedPajama is \n",
       "different because it's open source, meaning anyone can use it and see how it was made.  The dataset comes in two \n",
       "versions.  The first is a copy of the data used to train another popular language model, LLaMA.  The second is a \n",
       "much larger collection of text pulled from the internet, along with information about the quality of each piece of \n",
       "text.  This quality information helps researchers figure out which parts of the dataset are better to use for \n",
       "training, so they can build even more accurate language models.\n"
      ]
     },
     "metadata": {},
     "output_type": "display_data"
    }
   ],
   "source": [
    "loaded_model = mlflow.dspy.load_model(model_info.model_uri)\n",
    "\n",
    "print(loaded_model(title=paper[0], text=paper[1][:50000], complexity_level=1)[\"summary\"])"
   ]
  },
  {
   "cell_type": "code",
   "execution_count": null,
   "metadata": {},
   "outputs": [],
   "source": []
  }
 ],
 "metadata": {
  "kernelspec": {
   "display_name": "env",
   "language": "python",
   "name": "python3"
  },
  "language_info": {
   "codemirror_mode": {
    "name": "ipython",
    "version": 3
   },
   "file_extension": ".py",
   "mimetype": "text/x-python",
   "name": "python",
   "nbconvert_exporter": "python",
   "pygments_lexer": "ipython3",
   "version": "3.13.0"
  }
 },
 "nbformat": 4,
 "nbformat_minor": 2
}
